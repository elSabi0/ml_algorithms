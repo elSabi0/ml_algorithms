{
 "cells": [
  {
   "cell_type": "markdown",
   "metadata": {},
   "source": [
    "# Amazon Fine Food Reviews Analysis\n",
    "\n",
    "\n",
    "Data Source: https://www.kaggle.com/snap/amazon-fine-food-reviews <br>\n",
    "\n",
    "EDA: https://nycdatascience.com/blog/student-works/amazon-fine-foods-visualization/\n",
    "\n",
    "\n",
    "The Amazon Fine Food Reviews dataset consists of reviews of fine foods from Amazon.<br>\n",
    "\n",
    "Number of reviews: 568,454<br>\n",
    "Number of users: 256,059<br>\n",
    "Number of products: 74,258<br>\n",
    "Timespan: Oct 1999 - Oct 2012<br>\n",
    "Number of Attributes/Columns in data: 10 \n",
    "\n",
    "Attribute Information:\n",
    "\n",
    "1. Id\n",
    "2. ProductId - unique identifier for the product\n",
    "3. UserId - unqiue identifier for the user\n",
    "4. ProfileName\n",
    "5. HelpfulnessNumerator - number of users who found the review helpful\n",
    "6. HelpfulnessDenominator - number of users who indicated whether they found the review helpful or not\n",
    "7. Score - rating between 1 and 5\n",
    "8. Time - timestamp for the review\n",
    "9. Summary - brief summary of the review\n",
    "10. Text - text of the review\n",
    "\n",
    "\n",
    "#### Objective:\n",
    "Given a review, determine whether the review is positive (rating of 4 or 5) or negative (rating of 1 or 2).\n",
    "\n",
    "<br>\n",
    "[Q] How to determine if a review is positive or negative?<br>\n",
    "<br> \n",
    "[Ans] We could use Score/Rating. A rating of 4 or 5 can be cosnidered as a positive review. A rating of 1 or 2 can be considered as negative one. A review of rating 3 is considered nuetral and such reviews are ignored from our analysis. This is an approximate and proxy way of determining the polarity (positivity/negativity) of a review.\n",
    "\n",
    "\n"
   ]
  },
  {
   "cell_type": "markdown",
   "metadata": {},
   "source": [
    "# [1]. Reading Data"
   ]
  },
  {
   "cell_type": "markdown",
   "metadata": {},
   "source": [
    "## [1.1] Loading the data\n",
    "\n",
    "The dataset is available in two forms\n",
    "1. .csv file\n",
    "2. SQLite Database\n",
    "\n",
    "In order to load the data, We have used the SQLITE dataset as it is easier to query the data and visualise the data efficiently.\n",
    "<br> \n",
    "\n",
    "Here as we only want to get the global sentiment of the recommendations (positive or negative), we will purposefully ignore all Scores equal to 3. If the score is above 3, then the recommendation wil be set to \"positive\". Otherwise, it will be set to \"negative\"."
   ]
  },
  {
   "cell_type": "code",
   "execution_count": 1,
   "metadata": {},
   "outputs": [
    {
     "name": "stderr",
     "output_type": "stream",
     "text": [
      "C:\\Users\\hp\\Anaconda3\\lib\\site-packages\\sklearn\\externals\\joblib\\__init__.py:15: DeprecationWarning: sklearn.externals.joblib is deprecated in 0.21 and will be removed in 0.23. Please import this functionality directly from joblib, which can be installed with: pip install joblib. If this warning is raised when loading pickled models, you may need to re-serialize those models with scikit-learn 0.21+.\n",
      "  warnings.warn(msg, category=DeprecationWarning)\n"
     ]
    }
   ],
   "source": [
    "%matplotlib inline\n",
    "import warnings\n",
    "warnings.filterwarnings(\"ignore\")\n",
    "\n",
    "\n",
    "import sqlite3\n",
    "import pandas as pd\n",
    "import numpy as np\n",
    "import nltk\n",
    "import string\n",
    "import matplotlib.pyplot as plt\n",
    "import seaborn as sns\n",
    "from sklearn.feature_extraction.text import TfidfTransformer\n",
    "from sklearn.feature_extraction.text import TfidfVectorizer\n",
    "\n",
    "from sklearn.feature_extraction.text import CountVectorizer\n",
    "from sklearn.metrics import confusion_matrix\n",
    "from sklearn import metrics\n",
    "from sklearn.metrics import roc_curve, auc\n",
    "from nltk.stem.porter import PorterStemmer\n",
    "\n",
    "import re\n",
    "# Tutorial about Python regular expressions: https://pymotw.com/2/re/\n",
    "import string\n",
    "from nltk.corpus import stopwords\n",
    "from nltk.stem import PorterStemmer\n",
    "from nltk.stem.wordnet import WordNetLemmatizer\n",
    "\n",
    "from gensim.models import Word2Vec\n",
    "from gensim.models import KeyedVectors\n",
    "import pickle\n",
    "\n",
    "from tqdm import tqdm\n",
    "import os\n",
    "from sklearn.externals import joblib\n",
    "from sklearn.model_selection import GridSearchCV\n",
    "from sklearn.linear_model import SGDClassifier\n",
    "from sklearn.calibration import CalibratedClassifierCV\n",
    "from prettytable import PrettyTable\n",
    "from sklearn.metrics import accuracy_score\n",
    "from sklearn.metrics import precision_score\n",
    "from sklearn.metrics import f1_score\n",
    "from sklearn.metrics import recall_score\n",
    "from bs4 import BeautifulSoup\n",
    "from sklearn.model_selection import train_test_split\n",
    "from sklearn.svm import SVC"
   ]
  },
  {
   "cell_type": "code",
   "execution_count": 61,
   "metadata": {},
   "outputs": [
    {
     "name": "stdout",
     "output_type": "stream",
     "text": [
      "Number of data points in our data (30000, 10)\n"
     ]
    },
    {
     "data": {
      "text/html": [
       "<div>\n",
       "<style scoped>\n",
       "    .dataframe tbody tr th:only-of-type {\n",
       "        vertical-align: middle;\n",
       "    }\n",
       "\n",
       "    .dataframe tbody tr th {\n",
       "        vertical-align: top;\n",
       "    }\n",
       "\n",
       "    .dataframe thead th {\n",
       "        text-align: right;\n",
       "    }\n",
       "</style>\n",
       "<table border=\"1\" class=\"dataframe\">\n",
       "  <thead>\n",
       "    <tr style=\"text-align: right;\">\n",
       "      <th></th>\n",
       "      <th>Id</th>\n",
       "      <th>ProductId</th>\n",
       "      <th>UserId</th>\n",
       "      <th>ProfileName</th>\n",
       "      <th>HelpfulnessNumerator</th>\n",
       "      <th>HelpfulnessDenominator</th>\n",
       "      <th>Score</th>\n",
       "      <th>Time</th>\n",
       "      <th>Summary</th>\n",
       "      <th>Text</th>\n",
       "    </tr>\n",
       "  </thead>\n",
       "  <tbody>\n",
       "    <tr>\n",
       "      <th>0</th>\n",
       "      <td>1</td>\n",
       "      <td>B001E4KFG0</td>\n",
       "      <td>A3SGXH7AUHU8GW</td>\n",
       "      <td>delmartian</td>\n",
       "      <td>1</td>\n",
       "      <td>1</td>\n",
       "      <td>1</td>\n",
       "      <td>1303862400</td>\n",
       "      <td>Good Quality Dog Food</td>\n",
       "      <td>I have bought several of the Vitality canned d...</td>\n",
       "    </tr>\n",
       "    <tr>\n",
       "      <th>1</th>\n",
       "      <td>2</td>\n",
       "      <td>B00813GRG4</td>\n",
       "      <td>A1D87F6ZCVE5NK</td>\n",
       "      <td>dll pa</td>\n",
       "      <td>0</td>\n",
       "      <td>0</td>\n",
       "      <td>0</td>\n",
       "      <td>1346976000</td>\n",
       "      <td>Not as Advertised</td>\n",
       "      <td>Product arrived labeled as Jumbo Salted Peanut...</td>\n",
       "    </tr>\n",
       "    <tr>\n",
       "      <th>2</th>\n",
       "      <td>3</td>\n",
       "      <td>B000LQOCH0</td>\n",
       "      <td>ABXLMWJIXXAIN</td>\n",
       "      <td>Natalia Corres \"Natalia Corres\"</td>\n",
       "      <td>1</td>\n",
       "      <td>1</td>\n",
       "      <td>1</td>\n",
       "      <td>1219017600</td>\n",
       "      <td>\"Delight\" says it all</td>\n",
       "      <td>This is a confection that has been around a fe...</td>\n",
       "    </tr>\n",
       "  </tbody>\n",
       "</table>\n",
       "</div>"
      ],
      "text/plain": [
       "   Id   ProductId          UserId                      ProfileName  \\\n",
       "0   1  B001E4KFG0  A3SGXH7AUHU8GW                       delmartian   \n",
       "1   2  B00813GRG4  A1D87F6ZCVE5NK                           dll pa   \n",
       "2   3  B000LQOCH0   ABXLMWJIXXAIN  Natalia Corres \"Natalia Corres\"   \n",
       "\n",
       "   HelpfulnessNumerator  HelpfulnessDenominator  Score        Time  \\\n",
       "0                     1                       1      1  1303862400   \n",
       "1                     0                       0      0  1346976000   \n",
       "2                     1                       1      1  1219017600   \n",
       "\n",
       "                 Summary                                               Text  \n",
       "0  Good Quality Dog Food  I have bought several of the Vitality canned d...  \n",
       "1      Not as Advertised  Product arrived labeled as Jumbo Salted Peanut...  \n",
       "2  \"Delight\" says it all  This is a confection that has been around a fe...  "
      ]
     },
     "execution_count": 61,
     "metadata": {},
     "output_type": "execute_result"
    }
   ],
   "source": [
    "# using SQLite Table to read data.\n",
    "con = sqlite3.connect('database.sqlite') \n",
    "\n",
    "# filtering only positive and negative reviews i.e. \n",
    "# not taking into consideration those reviews with Score=3\n",
    "# SELECT * FROM Reviews WHERE Score != 3 LIMIT 500000, will give top 500000 data points\n",
    "# you can change the number to any other number based on your computing power\n",
    "\n",
    "# filtered_data = pd.read_sql_query(\"\"\" SELECT * FROM Reviews WHERE Score != 3 LIMIT 500000\"\"\", con) \n",
    "# for tsne assignment you can take 5k data points\n",
    "\n",
    "filtered_data = pd.read_sql_query(\"\"\" SELECT * FROM Reviews WHERE Score != 3 LIMIT 30000\"\"\", con) \n",
    "\n",
    "# Give reviews with Score>3 a positive rating(1), and reviews with a score<3 a negative rating(0).\n",
    "def partition(x):\n",
    "    if x < 3:\n",
    "        return 0\n",
    "    return 1\n",
    "\n",
    "#changing reviews with score less than 3 to be positive and vice-versa\n",
    "actualScore = filtered_data['Score']\n",
    "positiveNegative = actualScore.map(partition) \n",
    "filtered_data['Score'] = positiveNegative\n",
    "print(\"Number of data points in our data\", filtered_data.shape)\n",
    "filtered_data.head(3)"
   ]
  },
  {
   "cell_type": "code",
   "execution_count": 62,
   "metadata": {},
   "outputs": [],
   "source": [
    "display = pd.read_sql_query(\"\"\"\n",
    "SELECT UserId, ProductId, ProfileName, Time, Score, Text, COUNT(*)\n",
    "FROM Reviews\n",
    "GROUP BY UserId\n",
    "HAVING COUNT(*)>1\n",
    "\"\"\", con)"
   ]
  },
  {
   "cell_type": "code",
   "execution_count": 63,
   "metadata": {
    "scrolled": true
   },
   "outputs": [
    {
     "name": "stdout",
     "output_type": "stream",
     "text": [
      "(80668, 7)\n"
     ]
    },
    {
     "data": {
      "text/html": [
       "<div>\n",
       "<style scoped>\n",
       "    .dataframe tbody tr th:only-of-type {\n",
       "        vertical-align: middle;\n",
       "    }\n",
       "\n",
       "    .dataframe tbody tr th {\n",
       "        vertical-align: top;\n",
       "    }\n",
       "\n",
       "    .dataframe thead th {\n",
       "        text-align: right;\n",
       "    }\n",
       "</style>\n",
       "<table border=\"1\" class=\"dataframe\">\n",
       "  <thead>\n",
       "    <tr style=\"text-align: right;\">\n",
       "      <th></th>\n",
       "      <th>UserId</th>\n",
       "      <th>ProductId</th>\n",
       "      <th>ProfileName</th>\n",
       "      <th>Time</th>\n",
       "      <th>Score</th>\n",
       "      <th>Text</th>\n",
       "      <th>COUNT(*)</th>\n",
       "    </tr>\n",
       "  </thead>\n",
       "  <tbody>\n",
       "    <tr>\n",
       "      <th>0</th>\n",
       "      <td>#oc-R115TNMSPFT9I7</td>\n",
       "      <td>B007Y59HVM</td>\n",
       "      <td>Breyton</td>\n",
       "      <td>1331510400</td>\n",
       "      <td>2</td>\n",
       "      <td>Overall its just OK when considering the price...</td>\n",
       "      <td>2</td>\n",
       "    </tr>\n",
       "    <tr>\n",
       "      <th>1</th>\n",
       "      <td>#oc-R11D9D7SHXIJB9</td>\n",
       "      <td>B005HG9ET0</td>\n",
       "      <td>Louis E. Emory \"hoppy\"</td>\n",
       "      <td>1342396800</td>\n",
       "      <td>5</td>\n",
       "      <td>My wife has recurring extreme muscle spasms, u...</td>\n",
       "      <td>3</td>\n",
       "    </tr>\n",
       "    <tr>\n",
       "      <th>2</th>\n",
       "      <td>#oc-R11DNU2NBKQ23Z</td>\n",
       "      <td>B007Y59HVM</td>\n",
       "      <td>Kim Cieszykowski</td>\n",
       "      <td>1348531200</td>\n",
       "      <td>1</td>\n",
       "      <td>This coffee is horrible and unfortunately not ...</td>\n",
       "      <td>2</td>\n",
       "    </tr>\n",
       "    <tr>\n",
       "      <th>3</th>\n",
       "      <td>#oc-R11O5J5ZVQE25C</td>\n",
       "      <td>B005HG9ET0</td>\n",
       "      <td>Penguin Chick</td>\n",
       "      <td>1346889600</td>\n",
       "      <td>5</td>\n",
       "      <td>This will be the bottle that you grab from the...</td>\n",
       "      <td>3</td>\n",
       "    </tr>\n",
       "    <tr>\n",
       "      <th>4</th>\n",
       "      <td>#oc-R12KPBODL2B5ZD</td>\n",
       "      <td>B007OSBE1U</td>\n",
       "      <td>Christopher P. Presta</td>\n",
       "      <td>1348617600</td>\n",
       "      <td>1</td>\n",
       "      <td>I didnt like this coffee. Instead of telling y...</td>\n",
       "      <td>2</td>\n",
       "    </tr>\n",
       "  </tbody>\n",
       "</table>\n",
       "</div>"
      ],
      "text/plain": [
       "               UserId   ProductId             ProfileName        Time  Score  \\\n",
       "0  #oc-R115TNMSPFT9I7  B007Y59HVM                 Breyton  1331510400      2   \n",
       "1  #oc-R11D9D7SHXIJB9  B005HG9ET0  Louis E. Emory \"hoppy\"  1342396800      5   \n",
       "2  #oc-R11DNU2NBKQ23Z  B007Y59HVM        Kim Cieszykowski  1348531200      1   \n",
       "3  #oc-R11O5J5ZVQE25C  B005HG9ET0           Penguin Chick  1346889600      5   \n",
       "4  #oc-R12KPBODL2B5ZD  B007OSBE1U   Christopher P. Presta  1348617600      1   \n",
       "\n",
       "                                                Text  COUNT(*)  \n",
       "0  Overall its just OK when considering the price...         2  \n",
       "1  My wife has recurring extreme muscle spasms, u...         3  \n",
       "2  This coffee is horrible and unfortunately not ...         2  \n",
       "3  This will be the bottle that you grab from the...         3  \n",
       "4  I didnt like this coffee. Instead of telling y...         2  "
      ]
     },
     "execution_count": 63,
     "metadata": {},
     "output_type": "execute_result"
    }
   ],
   "source": [
    "print(display.shape)\n",
    "display.head()"
   ]
  },
  {
   "cell_type": "code",
   "execution_count": 64,
   "metadata": {},
   "outputs": [
    {
     "data": {
      "text/html": [
       "<div>\n",
       "<style scoped>\n",
       "    .dataframe tbody tr th:only-of-type {\n",
       "        vertical-align: middle;\n",
       "    }\n",
       "\n",
       "    .dataframe tbody tr th {\n",
       "        vertical-align: top;\n",
       "    }\n",
       "\n",
       "    .dataframe thead th {\n",
       "        text-align: right;\n",
       "    }\n",
       "</style>\n",
       "<table border=\"1\" class=\"dataframe\">\n",
       "  <thead>\n",
       "    <tr style=\"text-align: right;\">\n",
       "      <th></th>\n",
       "      <th>UserId</th>\n",
       "      <th>ProductId</th>\n",
       "      <th>ProfileName</th>\n",
       "      <th>Time</th>\n",
       "      <th>Score</th>\n",
       "      <th>Text</th>\n",
       "      <th>COUNT(*)</th>\n",
       "    </tr>\n",
       "  </thead>\n",
       "  <tbody>\n",
       "    <tr>\n",
       "      <th>80638</th>\n",
       "      <td>AZY10LLTJ71NX</td>\n",
       "      <td>B006P7E5ZI</td>\n",
       "      <td>undertheshrine \"undertheshrine\"</td>\n",
       "      <td>1334707200</td>\n",
       "      <td>5</td>\n",
       "      <td>I was recommended to try green tea extract to ...</td>\n",
       "      <td>5</td>\n",
       "    </tr>\n",
       "  </tbody>\n",
       "</table>\n",
       "</div>"
      ],
      "text/plain": [
       "              UserId   ProductId                      ProfileName        Time  \\\n",
       "80638  AZY10LLTJ71NX  B006P7E5ZI  undertheshrine \"undertheshrine\"  1334707200   \n",
       "\n",
       "       Score                                               Text  COUNT(*)  \n",
       "80638      5  I was recommended to try green tea extract to ...         5  "
      ]
     },
     "execution_count": 64,
     "metadata": {},
     "output_type": "execute_result"
    }
   ],
   "source": [
    "display[display['UserId']=='AZY10LLTJ71NX']"
   ]
  },
  {
   "cell_type": "code",
   "execution_count": 65,
   "metadata": {},
   "outputs": [
    {
     "data": {
      "text/plain": [
       "393063"
      ]
     },
     "execution_count": 65,
     "metadata": {},
     "output_type": "execute_result"
    }
   ],
   "source": [
    "display['COUNT(*)'].sum()"
   ]
  },
  {
   "cell_type": "markdown",
   "metadata": {},
   "source": [
    "#  [2] Exploratory Data Analysis"
   ]
  },
  {
   "cell_type": "markdown",
   "metadata": {},
   "source": [
    "## [2.1] Data Cleaning: Deduplication\n",
    "\n",
    "It is observed (as shown in the table below) that the reviews data had many duplicate entries. Hence it was necessary to remove duplicates in order to get unbiased results for the analysis of the data.  Following is an example:"
   ]
  },
  {
   "cell_type": "code",
   "execution_count": 66,
   "metadata": {
    "scrolled": false
   },
   "outputs": [
    {
     "data": {
      "text/html": [
       "<div>\n",
       "<style scoped>\n",
       "    .dataframe tbody tr th:only-of-type {\n",
       "        vertical-align: middle;\n",
       "    }\n",
       "\n",
       "    .dataframe tbody tr th {\n",
       "        vertical-align: top;\n",
       "    }\n",
       "\n",
       "    .dataframe thead th {\n",
       "        text-align: right;\n",
       "    }\n",
       "</style>\n",
       "<table border=\"1\" class=\"dataframe\">\n",
       "  <thead>\n",
       "    <tr style=\"text-align: right;\">\n",
       "      <th></th>\n",
       "      <th>Id</th>\n",
       "      <th>ProductId</th>\n",
       "      <th>UserId</th>\n",
       "      <th>ProfileName</th>\n",
       "      <th>HelpfulnessNumerator</th>\n",
       "      <th>HelpfulnessDenominator</th>\n",
       "      <th>Score</th>\n",
       "      <th>Time</th>\n",
       "      <th>Summary</th>\n",
       "      <th>Text</th>\n",
       "    </tr>\n",
       "  </thead>\n",
       "  <tbody>\n",
       "    <tr>\n",
       "      <th>0</th>\n",
       "      <td>78445</td>\n",
       "      <td>B000HDL1RQ</td>\n",
       "      <td>AR5J8UI46CURR</td>\n",
       "      <td>Geetha Krishnan</td>\n",
       "      <td>2</td>\n",
       "      <td>2</td>\n",
       "      <td>5</td>\n",
       "      <td>1199577600</td>\n",
       "      <td>LOACKER QUADRATINI VANILLA WAFERS</td>\n",
       "      <td>DELICIOUS WAFERS. I FIND THAT EUROPEAN WAFERS ...</td>\n",
       "    </tr>\n",
       "    <tr>\n",
       "      <th>1</th>\n",
       "      <td>138317</td>\n",
       "      <td>B000HDOPYC</td>\n",
       "      <td>AR5J8UI46CURR</td>\n",
       "      <td>Geetha Krishnan</td>\n",
       "      <td>2</td>\n",
       "      <td>2</td>\n",
       "      <td>5</td>\n",
       "      <td>1199577600</td>\n",
       "      <td>LOACKER QUADRATINI VANILLA WAFERS</td>\n",
       "      <td>DELICIOUS WAFERS. I FIND THAT EUROPEAN WAFERS ...</td>\n",
       "    </tr>\n",
       "    <tr>\n",
       "      <th>2</th>\n",
       "      <td>138277</td>\n",
       "      <td>B000HDOPYM</td>\n",
       "      <td>AR5J8UI46CURR</td>\n",
       "      <td>Geetha Krishnan</td>\n",
       "      <td>2</td>\n",
       "      <td>2</td>\n",
       "      <td>5</td>\n",
       "      <td>1199577600</td>\n",
       "      <td>LOACKER QUADRATINI VANILLA WAFERS</td>\n",
       "      <td>DELICIOUS WAFERS. I FIND THAT EUROPEAN WAFERS ...</td>\n",
       "    </tr>\n",
       "    <tr>\n",
       "      <th>3</th>\n",
       "      <td>73791</td>\n",
       "      <td>B000HDOPZG</td>\n",
       "      <td>AR5J8UI46CURR</td>\n",
       "      <td>Geetha Krishnan</td>\n",
       "      <td>2</td>\n",
       "      <td>2</td>\n",
       "      <td>5</td>\n",
       "      <td>1199577600</td>\n",
       "      <td>LOACKER QUADRATINI VANILLA WAFERS</td>\n",
       "      <td>DELICIOUS WAFERS. I FIND THAT EUROPEAN WAFERS ...</td>\n",
       "    </tr>\n",
       "    <tr>\n",
       "      <th>4</th>\n",
       "      <td>155049</td>\n",
       "      <td>B000PAQ75C</td>\n",
       "      <td>AR5J8UI46CURR</td>\n",
       "      <td>Geetha Krishnan</td>\n",
       "      <td>2</td>\n",
       "      <td>2</td>\n",
       "      <td>5</td>\n",
       "      <td>1199577600</td>\n",
       "      <td>LOACKER QUADRATINI VANILLA WAFERS</td>\n",
       "      <td>DELICIOUS WAFERS. I FIND THAT EUROPEAN WAFERS ...</td>\n",
       "    </tr>\n",
       "  </tbody>\n",
       "</table>\n",
       "</div>"
      ],
      "text/plain": [
       "       Id   ProductId         UserId      ProfileName  HelpfulnessNumerator  \\\n",
       "0   78445  B000HDL1RQ  AR5J8UI46CURR  Geetha Krishnan                     2   \n",
       "1  138317  B000HDOPYC  AR5J8UI46CURR  Geetha Krishnan                     2   \n",
       "2  138277  B000HDOPYM  AR5J8UI46CURR  Geetha Krishnan                     2   \n",
       "3   73791  B000HDOPZG  AR5J8UI46CURR  Geetha Krishnan                     2   \n",
       "4  155049  B000PAQ75C  AR5J8UI46CURR  Geetha Krishnan                     2   \n",
       "\n",
       "   HelpfulnessDenominator  Score        Time  \\\n",
       "0                       2      5  1199577600   \n",
       "1                       2      5  1199577600   \n",
       "2                       2      5  1199577600   \n",
       "3                       2      5  1199577600   \n",
       "4                       2      5  1199577600   \n",
       "\n",
       "                             Summary  \\\n",
       "0  LOACKER QUADRATINI VANILLA WAFERS   \n",
       "1  LOACKER QUADRATINI VANILLA WAFERS   \n",
       "2  LOACKER QUADRATINI VANILLA WAFERS   \n",
       "3  LOACKER QUADRATINI VANILLA WAFERS   \n",
       "4  LOACKER QUADRATINI VANILLA WAFERS   \n",
       "\n",
       "                                                Text  \n",
       "0  DELICIOUS WAFERS. I FIND THAT EUROPEAN WAFERS ...  \n",
       "1  DELICIOUS WAFERS. I FIND THAT EUROPEAN WAFERS ...  \n",
       "2  DELICIOUS WAFERS. I FIND THAT EUROPEAN WAFERS ...  \n",
       "3  DELICIOUS WAFERS. I FIND THAT EUROPEAN WAFERS ...  \n",
       "4  DELICIOUS WAFERS. I FIND THAT EUROPEAN WAFERS ...  "
      ]
     },
     "execution_count": 66,
     "metadata": {},
     "output_type": "execute_result"
    }
   ],
   "source": [
    "display= pd.read_sql_query(\"\"\"\n",
    "SELECT *\n",
    "FROM Reviews\n",
    "WHERE Score != 3 AND UserId=\"AR5J8UI46CURR\"\n",
    "ORDER BY ProductID\n",
    "\"\"\", con)\n",
    "display.head()"
   ]
  },
  {
   "cell_type": "markdown",
   "metadata": {},
   "source": [
    "As it can be seen above that same user has multiple reviews with same values for HelpfulnessNumerator, HelpfulnessDenominator, Score, Time, Summary and Text and on doing analysis it was found that <br>\n",
    "<br> \n",
    "ProductId=B000HDOPZG was Loacker Quadratini Vanilla Wafer Cookies, 8.82-Ounce Packages (Pack of 8)<br>\n",
    "<br> \n",
    "ProductId=B000HDL1RQ was Loacker Quadratini Lemon Wafer Cookies, 8.82-Ounce Packages (Pack of 8) and so on<br>\n",
    "\n",
    "It was inferred after analysis that reviews with same parameters other than ProductId belonged to the same product just having different flavour or quantity. Hence in order to reduce redundancy it was decided to eliminate the rows having same parameters.<br>\n",
    "\n",
    "The method used for the same was that we first sort the data according to ProductId and then just keep the first similar product review and delelte the others. for eg. in the above just the review for ProductId=B000HDL1RQ remains. This method ensures that there is only one representative for each product and deduplication without sorting would lead to possibility of different representatives still existing for the same product."
   ]
  },
  {
   "cell_type": "code",
   "execution_count": 67,
   "metadata": {},
   "outputs": [],
   "source": [
    "#Sorting data according to ProductId in ascending order\n",
    "sorted_data=filtered_data.sort_values('ProductId', axis=0, ascending=True, inplace=False, kind='quicksort', na_position='last')"
   ]
  },
  {
   "cell_type": "code",
   "execution_count": 68,
   "metadata": {},
   "outputs": [
    {
     "data": {
      "text/plain": [
       "(28072, 10)"
      ]
     },
     "execution_count": 68,
     "metadata": {},
     "output_type": "execute_result"
    }
   ],
   "source": [
    "#Deduplication of entries\n",
    "final=sorted_data.drop_duplicates(subset={\"UserId\",\"ProfileName\",\"Time\",\"Text\"}, keep='first', inplace=False)\n",
    "final.shape"
   ]
  },
  {
   "cell_type": "code",
   "execution_count": 69,
   "metadata": {},
   "outputs": [
    {
     "data": {
      "text/plain": [
       "93.57333333333332"
      ]
     },
     "execution_count": 69,
     "metadata": {},
     "output_type": "execute_result"
    }
   ],
   "source": [
    "#Checking to see how much % of data still remains\n",
    "(final['Id'].size*1.0)/(filtered_data['Id'].size*1.0)*100"
   ]
  },
  {
   "cell_type": "markdown",
   "metadata": {},
   "source": [
    "<b>Observation:-</b> It was also seen that in two rows given below the value of HelpfulnessNumerator is greater than HelpfulnessDenominator which is not practically possible hence these two rows too are removed from calcualtions"
   ]
  },
  {
   "cell_type": "code",
   "execution_count": 70,
   "metadata": {},
   "outputs": [
    {
     "data": {
      "text/html": [
       "<div>\n",
       "<style scoped>\n",
       "    .dataframe tbody tr th:only-of-type {\n",
       "        vertical-align: middle;\n",
       "    }\n",
       "\n",
       "    .dataframe tbody tr th {\n",
       "        vertical-align: top;\n",
       "    }\n",
       "\n",
       "    .dataframe thead th {\n",
       "        text-align: right;\n",
       "    }\n",
       "</style>\n",
       "<table border=\"1\" class=\"dataframe\">\n",
       "  <thead>\n",
       "    <tr style=\"text-align: right;\">\n",
       "      <th></th>\n",
       "      <th>Id</th>\n",
       "      <th>ProductId</th>\n",
       "      <th>UserId</th>\n",
       "      <th>ProfileName</th>\n",
       "      <th>HelpfulnessNumerator</th>\n",
       "      <th>HelpfulnessDenominator</th>\n",
       "      <th>Score</th>\n",
       "      <th>Time</th>\n",
       "      <th>Summary</th>\n",
       "      <th>Text</th>\n",
       "    </tr>\n",
       "  </thead>\n",
       "  <tbody>\n",
       "    <tr>\n",
       "      <th>0</th>\n",
       "      <td>64422</td>\n",
       "      <td>B000MIDROQ</td>\n",
       "      <td>A161DK06JJMCYF</td>\n",
       "      <td>J. E. Stephens \"Jeanne\"</td>\n",
       "      <td>3</td>\n",
       "      <td>1</td>\n",
       "      <td>5</td>\n",
       "      <td>1224892800</td>\n",
       "      <td>Bought This for My Son at College</td>\n",
       "      <td>My son loves spaghetti so I didn't hesitate or...</td>\n",
       "    </tr>\n",
       "    <tr>\n",
       "      <th>1</th>\n",
       "      <td>44737</td>\n",
       "      <td>B001EQ55RW</td>\n",
       "      <td>A2V0I904FH7ABY</td>\n",
       "      <td>Ram</td>\n",
       "      <td>3</td>\n",
       "      <td>2</td>\n",
       "      <td>4</td>\n",
       "      <td>1212883200</td>\n",
       "      <td>Pure cocoa taste with crunchy almonds inside</td>\n",
       "      <td>It was almost a 'love at first bite' - the per...</td>\n",
       "    </tr>\n",
       "  </tbody>\n",
       "</table>\n",
       "</div>"
      ],
      "text/plain": [
       "      Id   ProductId          UserId              ProfileName  \\\n",
       "0  64422  B000MIDROQ  A161DK06JJMCYF  J. E. Stephens \"Jeanne\"   \n",
       "1  44737  B001EQ55RW  A2V0I904FH7ABY                      Ram   \n",
       "\n",
       "   HelpfulnessNumerator  HelpfulnessDenominator  Score        Time  \\\n",
       "0                     3                       1      5  1224892800   \n",
       "1                     3                       2      4  1212883200   \n",
       "\n",
       "                                        Summary  \\\n",
       "0             Bought This for My Son at College   \n",
       "1  Pure cocoa taste with crunchy almonds inside   \n",
       "\n",
       "                                                Text  \n",
       "0  My son loves spaghetti so I didn't hesitate or...  \n",
       "1  It was almost a 'love at first bite' - the per...  "
      ]
     },
     "execution_count": 70,
     "metadata": {},
     "output_type": "execute_result"
    }
   ],
   "source": [
    "display= pd.read_sql_query(\"\"\"\n",
    "SELECT *\n",
    "FROM Reviews\n",
    "WHERE Score != 3 AND Id=44737 OR Id=64422\n",
    "ORDER BY ProductID\n",
    "\"\"\", con)\n",
    "\n",
    "display.head()"
   ]
  },
  {
   "cell_type": "code",
   "execution_count": 71,
   "metadata": {},
   "outputs": [],
   "source": [
    "final=final[final.HelpfulnessNumerator<=final.HelpfulnessDenominator]"
   ]
  },
  {
   "cell_type": "code",
   "execution_count": 72,
   "metadata": {},
   "outputs": [
    {
     "name": "stdout",
     "output_type": "stream",
     "text": [
      "(28072, 10)\n"
     ]
    },
    {
     "data": {
      "text/plain": [
       "1    23606\n",
       "0     4466\n",
       "Name: Score, dtype: int64"
      ]
     },
     "execution_count": 72,
     "metadata": {},
     "output_type": "execute_result"
    }
   ],
   "source": [
    "#Before starting the next phase of preprocessing lets see the number of entries left\n",
    "print(final.shape)\n",
    "\n",
    "#How many positive and negative reviews are present in our dataset?\n",
    "final['Score'].value_counts()"
   ]
  },
  {
   "cell_type": "markdown",
   "metadata": {},
   "source": [
    "#  [3] Preprocessing"
   ]
  },
  {
   "cell_type": "markdown",
   "metadata": {},
   "source": [
    "## [3.1].  Preprocessing Review Text\n",
    "\n",
    "Now that we have finished deduplication our data requires some preprocessing before we go on further with analysis and making the prediction model.\n",
    "\n",
    "Hence in the Preprocessing phase we do the following in the order below:-\n",
    "\n",
    "1. Begin by removing the html tags\n",
    "2. Remove any punctuations or limited set of special characters like , or . or # etc.\n",
    "3. Check if the word is made up of english letters and is not alpha-numeric\n",
    "4. Check to see if the length of the word is greater than 2 (as it was researched that there is no adjective in 2-letters)\n",
    "5. Convert the word to lowercase\n",
    "6. Remove Stopwords\n",
    "7. Finally Snowball Stemming the word (it was obsereved to be better than Porter Stemming)<br>\n",
    "\n",
    "After which we collect the words used to describe positive and negative reviews"
   ]
  },
  {
   "cell_type": "code",
   "execution_count": 14,
   "metadata": {},
   "outputs": [
    {
     "name": "stdout",
     "output_type": "stream",
     "text": [
      "Why is this $[...] when the same product is available for $[...] here?<br />http://www.amazon.com/VICTOR-FLY-MAGNET-BAIT-REFILL/dp/B00004RBDY<br /><br />The Victor M380 and M502 traps are unreal, of course -- total fly genocide. Pretty stinky, but only right nearby.\n",
      "==================================================\n",
      "I recently tried this flavor/brand and was surprised at how delicious these chips are.  The best thing was that there were a lot of \"brown\" chips in the bsg (my favorite), so I bought some more through amazon and shared with family and friends.  I am a little disappointed that there are not, so far, very many brown chips in these bags, but the flavor is still very good.  I like them better than the yogurt and green onion flavor because they do not seem to be as salty, and the onion flavor is better.  If you haven't eaten Kettle chips before, I recommend that you try a bag before buying bulk.  They are thicker and crunchier than Lays but just as fresh out of the bag.\n",
      "==================================================\n",
      "Wow.  So far, two two-star reviews.  One obviously had no idea what they were ordering; the other wants crispy cookies.  Hey, I'm sorry; but these reviews do nobody any good beyond reminding us to look  before ordering.<br /><br />These are chocolate-oatmeal cookies.  If you don't like that combination, don't order this type of cookie.  I find the combo quite nice, really.  The oatmeal sort of \"calms\" the rich chocolate flavor and gives the cookie sort of a coconut-type consistency.  Now let's also remember that tastes differ; so, I've given my opinion.<br /><br />Then, these are soft, chewy cookies -- as advertised.  They are not \"crispy\" cookies, or the blurb would say \"crispy,\" rather than \"chewy.\"  I happen to like raw cookie dough; however, I don't see where these taste like raw cookie dough.  Both are soft, however, so is this the confusion?  And, yes, they stick together.  Soft cookies tend to do that.  They aren't individually wrapped, which would add to the cost.  Oh yeah, chocolate chip cookies tend to be somewhat sweet.<br /><br />So, if you want something hard and crisp, I suggest Nabiso's Ginger Snaps.  If you want a cookie that's soft, chewy and tastes like a combination of chocolate and oatmeal, give these a try.  I'm here to place my second order.\n",
      "==================================================\n",
      "love to order my coffee on amazon.  easy and shows up quickly.<br />This k cup is great coffee.  dcaf is very good as well\n",
      "==================================================\n"
     ]
    }
   ],
   "source": [
    "# printing some random reviews\n",
    "sent_0 = final['Text'].values[0]\n",
    "print(sent_0)\n",
    "print(\"=\"*50)\n",
    "\n",
    "sent_1000 = final['Text'].values[1000]\n",
    "print(sent_1000)\n",
    "print(\"=\"*50)\n",
    "\n",
    "sent_1500 = final['Text'].values[1500]\n",
    "print(sent_1500)\n",
    "print(\"=\"*50)\n",
    "\n",
    "sent_4900 = final['Text'].values[4900]\n",
    "print(sent_4900)\n",
    "print(\"=\"*50)"
   ]
  },
  {
   "cell_type": "code",
   "execution_count": 15,
   "metadata": {},
   "outputs": [
    {
     "name": "stdout",
     "output_type": "stream",
     "text": [
      "Why is this $[...] when the same product is available for $[...] here?<br /> /><br />The Victor M380 and M502 traps are unreal, of course -- total fly genocide. Pretty stinky, but only right nearby.\n"
     ]
    }
   ],
   "source": [
    "# remove urls from text python: https://stackoverflow.com/a/40823105/4084039\n",
    "sent_0 = re.sub(r\"http\\S+\", \"\", sent_0)\n",
    "sent_1000 = re.sub(r\"http\\S+\", \"\", sent_1000)\n",
    "sent_150 = re.sub(r\"http\\S+\", \"\", sent_1500)\n",
    "sent_4900 = re.sub(r\"http\\S+\", \"\", sent_4900)\n",
    "\n",
    "print(sent_0)"
   ]
  },
  {
   "cell_type": "code",
   "execution_count": null,
   "metadata": {},
   "outputs": [],
   "source": [
    "# https://stackoverflow.com/questions/16206380/python-beautifulsoup-how-to-remove-all-tags-from-an-element\n",
    "\n",
    "soup = BeautifulSoup(sent_0, 'lxml')\n",
    "text = soup.get_text()\n",
    "print(text)\n",
    "print(\"=\"*50)\n",
    "\n",
    "soup = BeautifulSoup(sent_1000, 'lxml')\n",
    "text = soup.get_text()\n",
    "print(text)\n",
    "print(\"=\"*50)\n",
    "\n",
    "soup = BeautifulSoup(sent_1500, 'lxml')\n",
    "text = soup.get_text()\n",
    "print(text)\n",
    "print(\"=\"*50)\n",
    "\n",
    "soup = BeautifulSoup(sent_4900, 'lxml')\n",
    "text = soup.get_text()\n",
    "print(text)"
   ]
  },
  {
   "cell_type": "code",
   "execution_count": 73,
   "metadata": {},
   "outputs": [],
   "source": [
    "# https://stackoverflow.com/a/47091490/4084039\n",
    "import re\n",
    "\n",
    "def decontracted(phrase):\n",
    "    # specific\n",
    "    phrase = re.sub(r\"won't\", \"will not\", phrase)\n",
    "    phrase = re.sub(r\"can\\'t\", \"can not\", phrase)\n",
    "\n",
    "    # general\n",
    "    phrase = re.sub(r\"n\\'t\", \" not\", phrase)\n",
    "    phrase = re.sub(r\"\\'re\", \" are\", phrase)\n",
    "    phrase = re.sub(r\"\\'s\", \" is\", phrase)\n",
    "    phrase = re.sub(r\"\\'d\", \" would\", phrase)\n",
    "    phrase = re.sub(r\"\\'ll\", \" will\", phrase)\n",
    "    phrase = re.sub(r\"\\'t\", \" not\", phrase)\n",
    "    phrase = re.sub(r\"\\'ve\", \" have\", phrase)\n",
    "    phrase = re.sub(r\"\\'m\", \" am\", phrase)\n",
    "    return phrase"
   ]
  },
  {
   "cell_type": "code",
   "execution_count": 18,
   "metadata": {},
   "outputs": [
    {
     "name": "stdout",
     "output_type": "stream",
     "text": [
      "Wow.  So far, two two-star reviews.  One obviously had no idea what they were ordering; the other wants crispy cookies.  Hey, I am sorry; but these reviews do nobody any good beyond reminding us to look  before ordering.<br /><br />These are chocolate-oatmeal cookies.  If you do not like that combination, do not order this type of cookie.  I find the combo quite nice, really.  The oatmeal sort of \"calms\" the rich chocolate flavor and gives the cookie sort of a coconut-type consistency.  Now let is also remember that tastes differ; so, I have given my opinion.<br /><br />Then, these are soft, chewy cookies -- as advertised.  They are not \"crispy\" cookies, or the blurb would say \"crispy,\" rather than \"chewy.\"  I happen to like raw cookie dough; however, I do not see where these taste like raw cookie dough.  Both are soft, however, so is this the confusion?  And, yes, they stick together.  Soft cookies tend to do that.  They are not individually wrapped, which would add to the cost.  Oh yeah, chocolate chip cookies tend to be somewhat sweet.<br /><br />So, if you want something hard and crisp, I suggest Nabiso is Ginger Snaps.  If you want a cookie that is soft, chewy and tastes like a combination of chocolate and oatmeal, give these a try.  I am here to place my second order.\n",
      "==================================================\n"
     ]
    }
   ],
   "source": [
    "sent_1500 = decontracted(sent_1500)\n",
    "print(sent_1500)\n",
    "print(\"=\"*50)"
   ]
  },
  {
   "cell_type": "code",
   "execution_count": 19,
   "metadata": {},
   "outputs": [
    {
     "name": "stdout",
     "output_type": "stream",
     "text": [
      "Why is this $[...] when the same product is available for $[...] here?<br /> /><br />The Victor  and  traps are unreal, of course -- total fly genocide. Pretty stinky, but only right nearby.\n"
     ]
    }
   ],
   "source": [
    "#remove words with numbers python: https://stackoverflow.com/a/18082370/4084039\n",
    "sent_0 = re.sub(\"\\S*\\d\\S*\", \"\", sent_0).strip()\n",
    "print(sent_0)"
   ]
  },
  {
   "cell_type": "code",
   "execution_count": 20,
   "metadata": {},
   "outputs": [
    {
     "name": "stdout",
     "output_type": "stream",
     "text": [
      "Wow So far two two star reviews One obviously had no idea what they were ordering the other wants crispy cookies Hey I am sorry but these reviews do nobody any good beyond reminding us to look before ordering br br These are chocolate oatmeal cookies If you do not like that combination do not order this type of cookie I find the combo quite nice really The oatmeal sort of calms the rich chocolate flavor and gives the cookie sort of a coconut type consistency Now let is also remember that tastes differ so I have given my opinion br br Then these are soft chewy cookies as advertised They are not crispy cookies or the blurb would say crispy rather than chewy I happen to like raw cookie dough however I do not see where these taste like raw cookie dough Both are soft however so is this the confusion And yes they stick together Soft cookies tend to do that They are not individually wrapped which would add to the cost Oh yeah chocolate chip cookies tend to be somewhat sweet br br So if you want something hard and crisp I suggest Nabiso is Ginger Snaps If you want a cookie that is soft chewy and tastes like a combination of chocolate and oatmeal give these a try I am here to place my second order \n"
     ]
    }
   ],
   "source": [
    "#remove spacial character: https://stackoverflow.com/a/5843547/4084039\n",
    "sent_1500 = re.sub('[^A-Za-z0-9]+', ' ', sent_1500)\n",
    "print(sent_1500)"
   ]
  },
  {
   "cell_type": "code",
   "execution_count": 74,
   "metadata": {},
   "outputs": [],
   "source": [
    "# https://gist.github.com/sebleier/554280\n",
    "# we are removing the words from the stop words list: 'no', 'nor', 'not'\n",
    "# <br /><br /> ==> after the above steps, we are getting \"br br\"\n",
    "# we are including them into stop words list\n",
    "# instead of <br /> if we have <br/> these tags would have revmoved in the 1st step\n",
    "\n",
    "stopwords= set(['br', 'the', 'i', 'me', 'my', 'myself', 'we', 'our', 'ours', 'ourselves', 'you', \"you're\", \"you've\",\\\n",
    "            \"you'll\", \"you'd\", 'your', 'yours', 'yourself', 'yourselves', 'he', 'him', 'his', 'himself', \\\n",
    "            'she', \"she's\", 'her', 'hers', 'herself', 'it', \"it's\", 'its', 'itself', 'they', 'them', 'their',\\\n",
    "            'theirs', 'themselves', 'what', 'which', 'who', 'whom', 'this', 'that', \"that'll\", 'these', 'those', \\\n",
    "            'am', 'is', 'are', 'was', 'were', 'be', 'been', 'being', 'have', 'has', 'had', 'having', 'do', 'does', \\\n",
    "            'did', 'doing', 'a', 'an', 'the', 'and', 'but', 'if', 'or', 'because', 'as', 'until', 'while', 'of', \\\n",
    "            'at', 'by', 'for', 'with', 'about', 'against', 'between', 'into', 'through', 'during', 'before', 'after',\\\n",
    "            'above', 'below', 'to', 'from', 'up', 'down', 'in', 'out', 'on', 'off', 'over', 'under', 'again', 'further',\\\n",
    "            'then', 'once', 'here', 'there', 'when', 'where', 'why', 'how', 'all', 'any', 'both', 'each', 'few', 'more',\\\n",
    "            'most', 'other', 'some', 'such', 'only', 'own', 'same', 'so', 'than', 'too', 'very', \\\n",
    "            's', 't', 'can', 'will', 'just', 'don', \"don't\", 'should', \"should've\", 'now', 'd', 'll', 'm', 'o', 're', \\\n",
    "            've', 'y', 'ain', 'aren', \"aren't\", 'couldn', \"couldn't\", 'didn', \"didn't\", 'doesn', \"doesn't\", 'hadn',\\\n",
    "            \"hadn't\", 'hasn', \"hasn't\", 'haven', \"haven't\", 'isn', \"isn't\", 'ma', 'mightn', \"mightn't\", 'mustn',\\\n",
    "            \"mustn't\", 'needn', \"needn't\", 'shan', \"shan't\", 'shouldn', \"shouldn't\", 'wasn', \"wasn't\", 'weren', \"weren't\", \\\n",
    "            'won', \"won't\", 'wouldn', \"wouldn't\"])"
   ]
  },
  {
   "cell_type": "code",
   "execution_count": 75,
   "metadata": {},
   "outputs": [
    {
     "name": "stderr",
     "output_type": "stream",
     "text": [
      "100%|███████████████████████████████████████| 28072/28072 [00:11<00:00, 2417.97it/s]\n"
     ]
    }
   ],
   "source": [
    "# Combining all the above stundents \n",
    "from tqdm import tqdm\n",
    "preprocessed_reviews = []\n",
    "# tqdm is for printing the status bar\n",
    "for sentance in tqdm(final['Text'].values):\n",
    "    sentance = re.sub(r\"http\\S+\", \"\", sentance)\n",
    "    sentance = BeautifulSoup(sentance, 'lxml').get_text()\n",
    "    sentance = decontracted(sentance)\n",
    "    sentance = re.sub(\"\\S*\\d\\S*\", \"\", sentance).strip()\n",
    "    sentance = re.sub('[^A-Za-z]+', ' ', sentance)\n",
    "    # https://gist.github.com/sebleier/554280\n",
    "    sentance = ' '.join(e.lower() for e in sentance.split() if e.lower() not in stopwords)\n",
    "    preprocessed_reviews.append(sentance.strip())"
   ]
  },
  {
   "cell_type": "code",
   "execution_count": 76,
   "metadata": {},
   "outputs": [
    {
     "data": {
      "text/plain": [
       "'favorite stevia product subscribe save queried customer service nunaturals gmo use yes nunaturals uses gmo products canceled subscribe save order using'"
      ]
     },
     "execution_count": 76,
     "metadata": {},
     "output_type": "execute_result"
    }
   ],
   "source": [
    "preprocessed_reviews[1500]"
   ]
  },
  {
   "cell_type": "markdown",
   "metadata": {},
   "source": [
    "# [4] Featurization"
   ]
  },
  {
   "cell_type": "markdown",
   "metadata": {},
   "source": [
    "Before we featurize the data, we need to split it"
   ]
  },
  {
   "cell_type": "code",
   "execution_count": 95,
   "metadata": {},
   "outputs": [
    {
     "data": {
      "text/plain": [
       "28072"
      ]
     },
     "execution_count": 95,
     "metadata": {},
     "output_type": "execute_result"
    }
   ],
   "source": [
    "len(preprocessed_reviews)"
   ]
  },
  {
   "cell_type": "code",
   "execution_count": 96,
   "metadata": {},
   "outputs": [],
   "source": [
    "x = preprocessed_reviews\n",
    "y = final[\"Score\"].values"
   ]
  },
  {
   "cell_type": "code",
   "execution_count": 97,
   "metadata": {},
   "outputs": [],
   "source": [
    "x_train, x_test, y_train, y_test = train_test_split(x, y, test_size=0.30)         # this is random splitting\n",
    "x_train, x_cv, y_train, y_cv = train_test_split(x_train, y_train, test_size=0.30) # this is random splitting"
   ]
  },
  {
   "cell_type": "code",
   "execution_count": 98,
   "metadata": {},
   "outputs": [
    {
     "name": "stdout",
     "output_type": "stream",
     "text": [
      "13755\n",
      "5895\n",
      "8422\n"
     ]
    }
   ],
   "source": [
    "# number of rows in earch data set, train, cross validation and test data respectively\n",
    "print(len(x_train))\n",
    "print(len(x_cv))\n",
    "print(len(x_test))"
   ]
  },
  {
   "cell_type": "markdown",
   "metadata": {},
   "source": [
    "## [4.1] BAG OF WORDS"
   ]
  },
  {
   "cell_type": "code",
   "execution_count": 99,
   "metadata": {},
   "outputs": [
    {
     "name": "stdout",
     "output_type": "stream",
     "text": [
      "some feature names  ['ability', 'able', 'absolute', 'absolutely', 'absorb', 'acai', 'accept', 'acceptable', 'accepted', 'access']\n",
      "==================================================\n",
      "(13755, 5000) (13755,)\n",
      "(5895, 5000) (5895,)\n",
      "(8422, 5000) (8422,)\n",
      "==================================================\n"
     ]
    }
   ],
   "source": [
    "#BoW\n",
    "count_vect = CountVectorizer(max_features=5000) #in scikit-learn\n",
    "count_vect.fit(x_train)\n",
    "print(\"some feature names \", count_vect.get_feature_names()[:10])\n",
    "print('='*50)\n",
    "\n",
    "x_train_bow = count_vect.transform(x_train)\n",
    "x_test_bow  = count_vect.transform(x_test)\n",
    "x_cv_bow    = count_vect.transform(x_cv)\n",
    "\n",
    "print(x_train_bow.shape, y_train.shape)\n",
    "print(x_cv_bow.shape, y_cv.shape)\n",
    "print(x_test_bow.shape, y_test.shape)\n",
    "print(\"=\"*50)\n"
   ]
  },
  {
   "cell_type": "markdown",
   "metadata": {},
   "source": [
    "## [4.2] Bi-Grams and n-Grams."
   ]
  },
  {
   "cell_type": "code",
   "execution_count": null,
   "metadata": {},
   "outputs": [],
   "source": [
    "#bi-gram, tri-gram and n-gram\n",
    "\n",
    "#removing stop words like \"not\" should be avoided before building n-grams\n",
    "# count_vect = CountVectorizer(ngram_range=(1,2))\n",
    "# please do read the CountVectorizer documentation http://scikit- learn.org/stable/modules/generated/sklearn.feature_extraction.text.CountVectorizer.html\n",
    "\n",
    "# you can choose these numebrs min_df=10, max_features=5000, of your choice\n",
    "count_vect = CountVectorizer(ngram_range=(1,2), min_df=10, max_features=5000)\n",
    "final_bigram_counts = count_vect.fit_transform(preprocessed_reviews)\n",
    "print(\"the type of count vectorizer \",type(final_bigram_counts))\n",
    "print(\"the shape of out text BOW vectorizer \",final_bigram_counts.get_shape())\n",
    "print(\"the number of unique words including both unigrams and bigrams \", final_bigram_counts.get_shape()[1])b"
   ]
  },
  {
   "cell_type": "code",
   "execution_count": 45,
   "metadata": {},
   "outputs": [],
   "source": [
    "count_vect = CountVectorizer(max_features=5000)"
   ]
  },
  {
   "cell_type": "markdown",
   "metadata": {},
   "source": [
    "## [4.3] TF-IDF"
   ]
  },
  {
   "cell_type": "code",
   "execution_count": 44,
   "metadata": {},
   "outputs": [],
   "source": [
    "tf_vect = TfidfVectorizer(max_features=5000)"
   ]
  },
  {
   "cell_type": "code",
   "execution_count": 100,
   "metadata": {},
   "outputs": [
    {
     "name": "stdout",
     "output_type": "stream",
     "text": [
      "some sample features ['ability', 'able', 'absolute', 'absolutely', 'absorb', 'acai', 'accept', 'acceptable', 'accepted', 'access']\n",
      "==================================================\n",
      "After featurization\n",
      "\n",
      "(13755, 5000) (13755,)\n",
      "(5895, 5000) (5895,)\n",
      "(8422, 5000) (8422,)\n",
      "==================================================\n"
     ]
    }
   ],
   "source": [
    "# TFIDF using scikit-learn\n",
    "\n",
    "tf_idf = TfidfVectorizer(max_features=5000) #arguments: ngram_range=(1,2), min_df=10                #in scikit-learn\n",
    "tf_idf.fit(x_train)\n",
    "\n",
    "print(\"some sample features\",tf_idf.get_feature_names()[0:10])\n",
    "print('='*50)\n",
    "\n",
    "# we use fit() method to learn the vocabulary from x_train \n",
    "# and now transform text data to vectors using transform() method\n",
    "\n",
    "x_train_tf = tf_idf.transform(x_train)\n",
    "x_cv_tf    = tf_idf.transform(x_cv)\n",
    "x_test_tf  = tf_idf.transform(x_test)\n",
    "\n",
    "print(\"After featurization\\n\")\n",
    "\n",
    "print(x_train_tf.shape, y_train.shape)\n",
    "print(x_cv_tf.shape, y_cv.shape)\n",
    "print(x_test_tf.shape, y_test.shape)\n",
    "print(\"=\"*50)\n"
   ]
  },
  {
   "cell_type": "markdown",
   "metadata": {},
   "source": [
    "## [4.4] Word2Vec"
   ]
  },
  {
   "cell_type": "code",
   "execution_count": 101,
   "metadata": {},
   "outputs": [],
   "source": [
    "# Train your own Word2Vec model using your own text corpus\n",
    "\n",
    "list_of_sentance_train =[]\n",
    "\n",
    "for sentance in x_train:\n",
    "    list_of_sentance_train.append(sentance.split())"
   ]
  },
  {
   "cell_type": "code",
   "execution_count": 103,
   "metadata": {},
   "outputs": [],
   "source": [
    "# this line of code trains your w2v model on the give list of sentances\n",
    "w2v_model = Word2Vec(list_of_sentance_train,min_count=5,size=200, workers=-1)"
   ]
  },
  {
   "cell_type": "code",
   "execution_count": 104,
   "metadata": {},
   "outputs": [
    {
     "name": "stdout",
     "output_type": "stream",
     "text": [
      "number of words that occured minimum 5 times  7020\n",
      "sample words  ['oriental', 'flavor', 'ramen', 'noodles', 'taste', 'okay', 'almost', 'always', 'add', 'ingredients', 'make', 'dish', 'wholesome', 'prepare', 'adding', 'sesame', 'seed', 'oil', 'vegetables', 'water', 'seasoning', 'boils', 'rough', 'like', 'chopped', 'onions', 'better', 'boiled', 'minutes', 'prior', 'hello', 'want', 'let', 'know', 'smoke', 'point', 'hope', 'folks', 'not', 'cooking', 'temperature', 'beyond', 'could', 'eating', 'bad', 'refined', 'avocado', 'fully', 'makes', 'product']\n"
     ]
    }
   ],
   "source": [
    "w2v_words = list(w2v_model.wv.vocab)\n",
    "print(\"number of words that occured minimum 5 times \",len(w2v_words))\n",
    "print(\"sample words \", w2v_words[0:50])"
   ]
  },
  {
   "cell_type": "markdown",
   "metadata": {},
   "source": [
    "## [4.4.1] Converting text into vectors using Avg W2V, TFIDF-W2V"
   ]
  },
  {
   "cell_type": "markdown",
   "metadata": {},
   "source": [
    "#### [4.4.1.1] Avg W2v"
   ]
  },
  {
   "cell_type": "code",
   "execution_count": 105,
   "metadata": {},
   "outputs": [
    {
     "name": "stderr",
     "output_type": "stream",
     "text": [
      "100%|████████████████████████████████████████| 13755/13755 [00:17<00:00, 782.56it/s]\n"
     ]
    },
    {
     "name": "stdout",
     "output_type": "stream",
     "text": [
      "(13755, 200)\n",
      "[-9.00761910e-05 -2.92332302e-04 -3.64117966e-04 -2.21249823e-04\n",
      " -3.71155061e-04 -1.75637893e-05  3.74915594e-04  3.40630784e-04\n",
      "  1.79394720e-04 -7.08610593e-05  2.18776651e-04  1.18206092e-05\n",
      "  6.06097452e-05  3.55778427e-05  2.11918737e-04  2.02481608e-04\n",
      " -1.42583727e-04  2.57509147e-04 -1.99871613e-04 -1.28527605e-05\n",
      "  1.88563937e-04 -3.81251904e-04 -2.37057650e-04  1.10871460e-04\n",
      " -3.76407627e-04 -1.07960612e-04  2.16393899e-04  5.57827552e-04\n",
      "  2.50106664e-04  1.89427344e-04  1.47648877e-04  2.79277855e-04\n",
      " -7.60078361e-05 -4.75778237e-04 -8.82904378e-05 -1.70498198e-04\n",
      "  2.82945688e-04 -5.64672944e-05 -1.39797379e-04  1.83657961e-06\n",
      " -2.29309206e-05  3.51572300e-05 -1.36398293e-04  4.54556446e-05\n",
      " -2.91588842e-04  4.01331570e-05  3.50647675e-04  2.02204152e-04\n",
      " -2.21906808e-04  2.94453237e-06 -4.83398943e-04 -3.99281641e-04\n",
      "  3.67727747e-06  4.40284634e-04 -4.29759525e-04 -3.82446066e-05\n",
      "  2.88011379e-04 -2.67093085e-04 -3.26985834e-05  3.10476817e-04\n",
      " -2.92499441e-04  4.95380538e-05  5.06681562e-05 -2.16222923e-04\n",
      "  3.45034219e-04  2.11628618e-04  2.10695574e-04  2.13573692e-04\n",
      "  2.80809663e-05 -4.36915464e-05  1.39832561e-04 -1.09295273e-04\n",
      "  2.12021941e-04 -2.03261401e-04 -4.59095908e-04  6.34224246e-05\n",
      "  4.72327613e-04  1.76885718e-04 -4.56655062e-04 -1.01981331e-05\n",
      " -1.51001594e-04  1.35909630e-04 -2.50922638e-04  1.47574581e-04\n",
      " -3.06184602e-04 -1.96545006e-04 -3.29716747e-04  5.66938949e-05\n",
      "  4.27652618e-04 -5.63027880e-04 -8.95648731e-05 -1.29185595e-04\n",
      "  2.46287061e-04  4.56684536e-04 -2.95451245e-04  2.17056177e-04\n",
      "  1.12428838e-04 -9.04549854e-05  5.47614408e-04  2.86027608e-04\n",
      "  3.27186514e-04 -4.66501289e-04  1.74786506e-04 -3.03260317e-04\n",
      " -1.91170134e-04 -3.06914967e-04 -6.03536429e-05  3.07451918e-04\n",
      "  1.93557736e-04 -4.72528204e-04 -3.60527486e-05  4.37651635e-04\n",
      " -2.37077756e-04 -2.93246776e-04  5.99201103e-05 -2.88428598e-04\n",
      " -3.24007303e-04  1.83874482e-04 -4.04810137e-05 -2.96387112e-04\n",
      " -2.51502093e-05 -7.23965500e-04  6.14376545e-04  9.97742125e-05\n",
      "  3.83083386e-04  5.15072679e-04 -2.63763988e-04  5.29316661e-05\n",
      "  1.32605134e-04 -4.29529324e-05 -9.32268296e-06  5.09923423e-04\n",
      "  1.25755454e-04  2.26705369e-05 -4.98352954e-04 -2.02538787e-04\n",
      " -1.23197707e-04 -3.81566835e-04 -2.18472391e-04 -2.30007438e-06\n",
      " -2.62730026e-04  3.53896810e-04  2.81311102e-05  3.31527512e-04\n",
      "  2.28086394e-04  2.37815436e-04  2.54147045e-04  2.29290535e-04\n",
      "  2.57593418e-05  1.82792842e-04  2.88998562e-04  1.42212000e-04\n",
      "  3.90222030e-05 -5.48024896e-04  2.11987575e-04 -3.24594408e-06\n",
      "  7.45662284e-04  1.88994023e-04  2.68666733e-04  2.74086177e-04\n",
      " -1.40717736e-04  2.19775286e-04 -1.64815809e-04 -2.66940710e-04\n",
      "  9.35676858e-05  1.09570369e-05 -5.36828148e-05 -3.98899911e-05\n",
      "  1.18698443e-04 -2.41640580e-04  1.73009116e-04  1.82288873e-04\n",
      "  7.26355190e-04  1.91111287e-04  2.91356047e-04 -1.87505445e-04\n",
      "  3.53083647e-04 -2.40950910e-04 -3.92580552e-04 -4.54655442e-04\n",
      " -4.47533511e-04  5.25066622e-04  2.59312577e-04 -7.56136886e-05\n",
      " -5.06017065e-05 -5.82820562e-04 -1.69085545e-04 -4.85218770e-04\n",
      " -6.27274249e-04 -4.99657058e-05 -2.54047528e-04  1.54455677e-05\n",
      " -1.24258371e-04  1.21595671e-04  1.19815171e-05  2.08852349e-04\n",
      "  8.58886192e-04 -3.10660645e-05 -5.50047359e-04  2.96539471e-04]\n"
     ]
    }
   ],
   "source": [
    "# average Word2Vec\n",
    "# compute average word2vec for each review.\n",
    "sent_vectors_train = []; # the avg-w2v for each sentence/review is stored in this list\n",
    "for sent in tqdm(list_of_sentance_train): # for each review/sentence\n",
    "    sent_vec = np.zeros(200) # as word vectors are of zero length 50, you might need to change this to 300 if you use google's w2v\n",
    "    cnt_words =0; # num of words with a valid vector in the sentence/review\n",
    "    for word in sent: # for each word in a review/sentence\n",
    "        if word in w2v_words:\n",
    "            vec = w2v_model.wv[word]\n",
    "            sent_vec += vec\n",
    "            cnt_words += 1\n",
    "    if cnt_words != 0:\n",
    "        sent_vec /= cnt_words\n",
    "    sent_vectors_train.append(sent_vec)\n",
    "sent_vectors_train = np.array(sent_vectors_train)\n",
    "print(sent_vectors_train.shape)\n",
    "print(sent_vectors_train[0])"
   ]
  },
  {
   "cell_type": "markdown",
   "metadata": {},
   "source": [
    "Cross Validation Data"
   ]
  },
  {
   "cell_type": "code",
   "execution_count": 106,
   "metadata": {},
   "outputs": [],
   "source": [
    "list_of_sentance_cv=[]\n",
    "for sentance in x_cv:\n",
    "    list_of_sentance_cv.append(sentance.split())"
   ]
  },
  {
   "cell_type": "code",
   "execution_count": 107,
   "metadata": {},
   "outputs": [
    {
     "name": "stderr",
     "output_type": "stream",
     "text": [
      "100%|██████████████████████████████████████████| 5895/5895 [00:07<00:00, 782.79it/s]\n"
     ]
    },
    {
     "name": "stdout",
     "output_type": "stream",
     "text": [
      "(5895, 200)\n",
      "[-1.72943286e-04  2.33065958e-04 -3.93048228e-04  1.86227492e-04\n",
      " -9.50025594e-04 -1.71142671e-04 -8.30980941e-04  2.14801029e-04\n",
      "  7.30458321e-04  3.10006510e-04  2.84597380e-04  1.03421665e-04\n",
      "  9.75337358e-05  1.85543123e-04  1.70488908e-05 -5.48282054e-04\n",
      "  3.77961987e-05  4.88662155e-04  2.91657374e-05  1.58417170e-04\n",
      "  6.34737546e-04 -1.52792807e-04  1.62977207e-04 -1.43782366e-04\n",
      " -8.26233738e-04  3.87488437e-04  1.11715058e-04 -6.42638875e-04\n",
      "  1.43383946e-04 -4.48101401e-04  6.86916398e-04  2.67014286e-04\n",
      "  1.16662906e-04 -7.70075902e-04 -8.36112782e-05  1.03518574e-04\n",
      " -3.43826188e-05 -3.89402308e-05  2.80242038e-04 -4.46012944e-04\n",
      " -6.11948446e-05 -5.15450232e-04 -1.02576013e-04 -3.32321057e-04\n",
      " -3.72662220e-04 -1.93467172e-05 -6.71248545e-04  1.68696781e-04\n",
      "  3.22605868e-04 -2.82323610e-04 -5.49271894e-04 -1.60492876e-04\n",
      " -5.99000010e-04 -1.68614572e-04 -4.89805014e-05  3.49630367e-04\n",
      " -9.35323759e-05 -2.76686686e-05  1.48162955e-04  2.40052032e-04\n",
      " -3.45234293e-05 -2.36818921e-04  2.43983259e-04  1.69180946e-05\n",
      "  6.28722722e-04  3.08273853e-04  3.40273512e-04  7.08346145e-05\n",
      "  3.06462578e-04  5.80866510e-04 -9.33761735e-06  9.28084966e-05\n",
      "  5.84752614e-04  1.79039760e-04 -4.93926004e-04  1.68528032e-04\n",
      " -1.12016614e-04 -5.43359629e-04  1.15839143e-04 -3.30551123e-04\n",
      " -6.08178228e-04  8.66315821e-04  6.18003974e-04  5.30455730e-04\n",
      " -9.46968365e-05  4.15397315e-04  5.32931806e-04 -1.27469210e-04\n",
      "  6.70380765e-05 -1.22030692e-03  7.40408224e-05 -3.33231371e-04\n",
      " -4.64589406e-05 -3.47960909e-04 -3.83714958e-04  7.28903594e-05\n",
      "  1.92680941e-04 -6.32308141e-04  6.24818253e-04 -2.16935732e-05\n",
      "  3.25588239e-04 -4.47343636e-04 -8.59106732e-04  4.87037563e-04\n",
      "  2.40234382e-04 -2.35072057e-04  8.69794038e-04 -5.11593169e-04\n",
      " -4.19912756e-04  1.95884445e-04 -1.80977563e-04 -4.35951075e-04\n",
      " -8.64349428e-04  4.82899252e-05  5.69020381e-05 -2.65693907e-04\n",
      "  1.81314569e-04 -2.04493871e-04 -1.50290856e-04 -4.92498868e-04\n",
      " -1.05740858e-04  1.61876752e-06  1.42303583e-04  6.02806849e-04\n",
      " -2.78250276e-04  5.51008963e-04 -7.73968272e-04 -6.77751808e-04\n",
      "  2.25229513e-04 -2.60933712e-04  5.76257057e-04 -3.22460309e-04\n",
      " -3.11828530e-04  3.66188589e-04  2.51494128e-04 -4.13332341e-04\n",
      "  4.23794762e-05 -1.97293454e-04  2.59830094e-04 -4.10831056e-04\n",
      " -4.05304576e-04  6.36559420e-04 -1.67391476e-04 -3.61874134e-04\n",
      " -2.67149276e-04 -2.66723002e-04 -1.25551941e-04 -3.10606954e-04\n",
      " -7.76051831e-05  3.64927086e-04 -6.30279054e-04 -4.82852305e-04\n",
      " -2.21936495e-04  2.34555128e-04 -1.36127715e-04 -4.22813055e-04\n",
      "  3.19052713e-04 -1.22711205e-03  3.30606024e-04 -2.69116443e-04\n",
      "  2.20288617e-04  5.45829339e-04 -2.65943961e-04 -5.30649962e-04\n",
      "  3.80745774e-04 -5.48207553e-04 -1.11275595e-03 -3.73404400e-04\n",
      "  1.26329257e-04 -8.44232231e-05  1.25580559e-03  1.29049635e-04\n",
      "  5.50798704e-04  1.63944062e-04 -7.45891074e-05  5.26805755e-04\n",
      "  6.78192360e-04 -4.44844528e-04  2.42533582e-04 -2.63343316e-04\n",
      " -3.57838713e-04  4.99101692e-04  7.97595180e-04  4.83030329e-05\n",
      "  7.13418929e-04  4.83542705e-05 -3.26886070e-04 -5.50761074e-04\n",
      " -8.41393919e-04 -5.67116590e-04 -4.50204845e-04 -5.87314459e-04\n",
      "  4.10897809e-04  1.80218086e-04 -7.12570649e-04  7.51321768e-04\n",
      " -7.19675645e-04 -2.40071196e-04  7.89994684e-04 -6.37209351e-04]\n"
     ]
    }
   ],
   "source": [
    "# average Word2Vec\n",
    "# compute average word2vec for each review.\n",
    "sent_vectors_cv = []; # the avg-w2v for each sentence/review is stored in this list\n",
    "for sent in tqdm(list_of_sentance_cv): # for each review/sentence\n",
    "    sent_vec = np.zeros(200) # as word vectors are of zero length 50, you might need to change this to 300 if you use google's w2v\n",
    "    cnt_words =0; # num of words with a valid vector in the sentence/review\n",
    "    for word in sent: # for each word in a review/sentence\n",
    "        if word in w2v_words:\n",
    "            vec = w2v_model.wv[word]\n",
    "            sent_vec += vec\n",
    "            cnt_words += 1\n",
    "    if cnt_words != 0:\n",
    "        sent_vec /= cnt_words\n",
    "    sent_vectors_cv.append(sent_vec)\n",
    "sent_vectors_cv = np.array(sent_vectors_cv)\n",
    "print(sent_vectors_cv.shape)\n",
    "print(sent_vectors_cv[0])"
   ]
  },
  {
   "cell_type": "markdown",
   "metadata": {},
   "source": [
    "Test data"
   ]
  },
  {
   "cell_type": "code",
   "execution_count": 108,
   "metadata": {},
   "outputs": [],
   "source": [
    "\n",
    "list_of_sentance_test=[]\n",
    "for sentance in x_test:\n",
    "    list_of_sentance_test.append(sentance.split())"
   ]
  },
  {
   "cell_type": "code",
   "execution_count": 109,
   "metadata": {},
   "outputs": [
    {
     "name": "stderr",
     "output_type": "stream",
     "text": [
      "100%|██████████████████████████████████████████| 8422/8422 [00:10<00:00, 793.88it/s]\n"
     ]
    },
    {
     "name": "stdout",
     "output_type": "stream",
     "text": [
      "(8422, 200)\n",
      "[ 7.56628712e-05  2.33125975e-04 -4.28982770e-05  3.80961916e-04\n",
      "  2.74211369e-04 -2.89915214e-04 -1.72577530e-04  7.57987176e-05\n",
      " -9.88171052e-04 -5.95456885e-04 -3.36130733e-04  2.05238510e-04\n",
      " -7.34663772e-05 -8.65988760e-05  1.16635535e-04 -3.90440241e-04\n",
      "  6.61382495e-05 -2.51071069e-04 -2.78100119e-04  1.36762184e-04\n",
      "  8.07753466e-04 -1.37217285e-07 -6.59875634e-04 -1.74387750e-04\n",
      "  1.55726051e-04  1.42601141e-04 -2.30125423e-04  1.34983433e-04\n",
      "  1.66459499e-04 -4.15164860e-04  2.05689871e-04  7.82860911e-04\n",
      " -5.36991723e-04 -6.70718518e-04 -7.43675870e-06 -7.68515364e-04\n",
      " -5.68124136e-04  3.74013524e-04  3.06913661e-04  4.34778029e-04\n",
      "  7.09164381e-04  7.04325141e-04  5.26852487e-04 -8.78738271e-05\n",
      "  1.35036256e-04 -1.68654950e-04  3.09632410e-04 -3.50150847e-04\n",
      "  4.35908344e-04  8.10596801e-04  3.83364742e-04  7.65667173e-05\n",
      " -3.45624091e-05  3.38748063e-04 -3.66037237e-04  1.14811770e-04\n",
      " -8.34770569e-05 -1.06361749e-04  9.61345310e-05  2.93489639e-04\n",
      " -6.62605700e-04 -1.23908918e-04 -4.10609900e-04 -4.08236043e-05\n",
      "  3.95849590e-05 -4.70118214e-04  3.46633891e-04  3.35426492e-04\n",
      " -9.77863658e-04 -1.93781684e-04  6.13494449e-04 -2.86982341e-04\n",
      " -3.01091236e-04 -2.95207613e-04  3.32411478e-04 -6.79631973e-05\n",
      "  4.85263721e-04  3.46821544e-05  9.09904490e-05 -6.33175509e-04\n",
      "  1.58315260e-04  6.34350387e-05 -6.89556170e-05  4.91456405e-04\n",
      " -1.12035043e-04 -4.88330519e-04  1.06785029e-04 -9.29378953e-04\n",
      " -2.93696406e-04 -5.78907675e-05  1.25791553e-03  5.50506926e-05\n",
      "  4.47381990e-04 -1.02492663e-04 -4.03328859e-04 -4.93854683e-04\n",
      "  3.12384468e-04  1.91102269e-04 -5.40427747e-04  1.60525672e-04\n",
      "  1.02180906e-03 -4.49642263e-04 -6.61402932e-04 -6.24833772e-04\n",
      "  7.92020905e-04 -1.74878101e-04 -5.64168475e-04 -1.48075742e-04\n",
      " -2.79788342e-04  1.82239567e-04  3.23911076e-04  5.65255492e-04\n",
      " -4.78489892e-05 -8.36661196e-04 -1.75742316e-05 -4.59181919e-04\n",
      " -9.45212620e-05  5.36737956e-04  4.34077641e-05  2.09270487e-04\n",
      "  1.05327604e-04 -4.81552796e-04 -1.35854287e-04  3.50996774e-04\n",
      "  3.49270544e-04  6.14974657e-05  8.87185197e-04  4.02329094e-04\n",
      "  9.77524299e-05 -7.20421246e-04 -3.38108985e-05 -3.27162676e-05\n",
      " -4.05832279e-04 -2.33026840e-04 -1.83487835e-04 -2.75077896e-04\n",
      " -1.07796363e-04 -6.55724526e-04  3.50419628e-04 -3.14911951e-04\n",
      " -5.17354019e-04  1.01577706e-04 -5.06661231e-04 -6.66278744e-05\n",
      "  9.77219597e-04  5.46369755e-04 -2.91577437e-04 -6.11993591e-04\n",
      " -5.66581492e-04  2.59935038e-04  5.58595259e-04  5.12019251e-05\n",
      "  1.86463933e-04 -4.49512413e-04  7.24785784e-05 -6.72036659e-05\n",
      "  2.28061874e-04  7.61935164e-05 -1.86970729e-04  7.62670255e-04\n",
      " -5.40844789e-04 -4.27220359e-04  7.85065019e-04  4.12776405e-04\n",
      "  1.99165127e-04 -2.47585834e-04 -1.82281564e-04 -3.95555738e-04\n",
      "  4.83856517e-04 -4.81060768e-04 -1.91160531e-04  2.03892826e-04\n",
      " -2.95112946e-04  1.56244332e-04 -3.62552050e-04 -3.40054112e-04\n",
      "  7.75642387e-04 -2.66032769e-04  8.49692794e-04 -4.89494663e-04\n",
      " -2.15434053e-04 -2.09663562e-04 -4.19324776e-04 -5.17966028e-04\n",
      "  5.62673564e-05  1.24812829e-05  1.84923083e-05  8.47501057e-05\n",
      " -5.62601927e-05 -3.54604895e-04  4.66069088e-04  4.33029173e-04\n",
      " -7.46839411e-04  1.66305171e-04  1.29593666e-04  3.18689665e-04\n",
      "  5.75635197e-04  3.03099430e-04 -8.14777704e-05  3.87012430e-04]\n"
     ]
    }
   ],
   "source": [
    "# average Word2Vec\n",
    "# compute average word2vec for each review.\n",
    "sent_vectors_test = []; # the avg-w2v for each sentence/review is stored in this list\n",
    "for sent in tqdm(list_of_sentance_test): # for each review/sentence\n",
    "    sent_vec = np.zeros(200) # as word vectors are of zero length 50, you might need to change this to 300 if you use google's w2v\n",
    "    cnt_words =0; # num of words with a valid vector in the sentence/review\n",
    "    for word in sent: # for each word in a review/sentence\n",
    "        if word in w2v_words:\n",
    "            vec = w2v_model.wv[word]\n",
    "            sent_vec += vec\n",
    "            cnt_words += 1\n",
    "    if cnt_words != 0:\n",
    "        sent_vec /= cnt_words\n",
    "    sent_vectors_test.append(sent_vec)\n",
    "sent_vectors_test = np.array(sent_vectors_test)\n",
    "print(sent_vectors_test.shape)\n",
    "print(sent_vectors_test[0])"
   ]
  },
  {
   "cell_type": "markdown",
   "metadata": {},
   "source": [
    "#### [4.4.1.2] TFIDF weighted W2v"
   ]
  },
  {
   "cell_type": "markdown",
   "metadata": {},
   "source": [
    "Train data"
   ]
  },
  {
   "cell_type": "code",
   "execution_count": 110,
   "metadata": {},
   "outputs": [],
   "source": [
    "# S = [\"abc def pqr\", \"def def def abc\", \"pqr pqr def\"]\n",
    "model = TfidfVectorizer()\n",
    "tf_idf_matrix_train = model.fit_transform(x_train)\n",
    "# we are converting a dictionary with word as a key, and the idf as a value\n",
    "dictionary_train = dict(zip(model.get_feature_names(), list(model.idf_)))"
   ]
  },
  {
   "cell_type": "code",
   "execution_count": 111,
   "metadata": {
    "scrolled": true
   },
   "outputs": [
    {
     "name": "stderr",
     "output_type": "stream",
     "text": [
      "100%|█████████████████████████████████████████| 13755/13755 [02:23<00:00, 95.77it/s]\n"
     ]
    }
   ],
   "source": [
    "# TF-IDF weighted Word2Vec\n",
    "tfidf_feat = model.get_feature_names() # tfidf words/col-names\n",
    "# final_tf_idf is the sparse matrix with row= sentence, col=word and cell_val = tfidf\n",
    "\n",
    "tfidf_sent_vectors_train = []; # the tfidf-w2v for each sentence/review is stored in this list\n",
    "row=0;\n",
    "for sent in tqdm(list_of_sentance_train): # for each review/sentence \n",
    "    sent_vec = np.zeros(200) # as word vectors are of zero length\n",
    "    weight_sum =0; # num of words with a valid vector in the sentence/review\n",
    "    for word in sent: # for each word in a review/sentence\n",
    "        if word in w2v_words and word in tfidf_feat:\n",
    "            vec = w2v_model.wv[word]\n",
    "#             tf_idf = tf_idf_matrix[row, tfidf_feat.index(word)]\n",
    "            # to reduce the computation we are \n",
    "            # dictionary[word] = idf value of word in whole courpus\n",
    "            # sent.count(word) = tf valeus of word in this review\n",
    "            tf_idf = dictionary_train[word]*(sent.count(word)/len(sent))\n",
    "            sent_vec += (vec * tf_idf)\n",
    "            weight_sum += tf_idf\n",
    "    if weight_sum != 0:\n",
    "        sent_vec /= weight_sum\n",
    "    tfidf_sent_vectors_train.append(sent_vec)\n",
    "    row += 1"
   ]
  },
  {
   "cell_type": "markdown",
   "metadata": {},
   "source": [
    "Cross Validation data"
   ]
  },
  {
   "cell_type": "code",
   "execution_count": 112,
   "metadata": {},
   "outputs": [
    {
     "name": "stderr",
     "output_type": "stream",
     "text": [
      "100%|██████████████████████████████████████████| 5895/5895 [01:00<00:00, 101.32it/s]\n"
     ]
    }
   ],
   "source": [
    "# TF-IDF weighted Word2Vec\n",
    "tfidf_feat = model.get_feature_names() # tfidf words/col-names\n",
    "# final_tf_idf is the sparse matrix with row= sentence, col=word and cell_val = tfidf\n",
    "\n",
    "tfidf_sent_vectors_cv = []; # the tfidf-w2v for each sentence/review is stored in this list\n",
    "row=0;\n",
    "for sent in tqdm(list_of_sentance_cv): # for each review/sentence \n",
    "    sent_vec = np.zeros(200) # as word vectors are of zero length\n",
    "    weight_sum =0; # num of words with a valid vector in the sentence/review\n",
    "    for word in sent: # for each word in a review/sentence\n",
    "        if word in w2v_words and word in tfidf_feat:\n",
    "            vec = w2v_model.wv[word]\n",
    "#             tf_idf = tf_idf_matrix[row, tfidf_feat.index(word)]\n",
    "            # to reduce the computation we are \n",
    "            # dictionary[word] = idf value of word in whole courpus\n",
    "            # sent.count(word) = tf valeus of word in this review\n",
    "            tf_idf = dictionary_train[word]*(sent.count(word)/len(sent))\n",
    "            sent_vec += (vec * tf_idf)\n",
    "            weight_sum += tf_idf\n",
    "    if weight_sum != 0:\n",
    "        sent_vec /= weight_sum\n",
    "    tfidf_sent_vectors_cv.append(sent_vec)\n",
    "    row += 1"
   ]
  },
  {
   "cell_type": "markdown",
   "metadata": {},
   "source": [
    "Test data"
   ]
  },
  {
   "cell_type": "code",
   "execution_count": 113,
   "metadata": {},
   "outputs": [
    {
     "name": "stderr",
     "output_type": "stream",
     "text": [
      "100%|███████████████████████████████████████████| 8422/8422 [01:26<00:00, 97.68it/s]\n"
     ]
    }
   ],
   "source": [
    "# TF-IDF weighted Word2Vec\n",
    "tfidf_feat = model.get_feature_names() # tfidf words/col-names\n",
    "# final_tf_idf is the sparse matrix with row= sentence, col=word and cell_val = tfidf\n",
    "\n",
    "tfidf_sent_vectors_test = []; # the tfidf-w2v for each sentence/review is stored in this list\n",
    "row=0;\n",
    "for sent in tqdm(list_of_sentance_test): # for each review/sentence \n",
    "    sent_vec = np.zeros(200) # as word vectors are of zero length\n",
    "    weight_sum =0; # num of words with a valid vector in the sentence/review\n",
    "    for word in sent: # for each word in a review/sentence\n",
    "        if word in w2v_words and word in tfidf_feat:\n",
    "            vec = w2v_model.wv[word]\n",
    "#             tf_idf = tf_idf_matrix[row, tfidf_feat.index(word)]\n",
    "            # to reduce the computation we are \n",
    "            # dictionary[word] = idf value of word in whole courpus\n",
    "            # sent.count(word) = tf valeus of word in this review\n",
    "            tf_idf = dictionary_train[word]*(sent.count(word)/len(sent))\n",
    "            sent_vec += (vec * tf_idf)\n",
    "            weight_sum += tf_idf\n",
    "    if weight_sum != 0:\n",
    "        sent_vec /= weight_sum\n",
    "    tfidf_sent_vectors_test.append(sent_vec)\n",
    "    row += 1"
   ]
  },
  {
   "cell_type": "markdown",
   "metadata": {},
   "source": [
    "# [5] Assignment 7: SVM"
   ]
  },
  {
   "cell_type": "markdown",
   "metadata": {},
   "source": [
    "<ol>\n",
    "    <li><strong>Apply SVM on these feature sets</strong>\n",
    "        <ul>\n",
    "            <li><font color='red'>SET 1:</font>Review text, preprocessed one converted into vectors using (BOW)</li>\n",
    "            <li><font color='red'>SET 2:</font>Review text, preprocessed one converted into vectors using (TFIDF)</li>\n",
    "            <li><font color='red'>SET 3:</font>Review text, preprocessed one converted into vectors using (AVG W2v)</li>\n",
    "            <li><font color='red'>SET 4:</font>Review text, preprocessed one converted into vectors using (TFIDF W2v)</li>\n",
    "        </ul>\n",
    "    </li>\n",
    "    <br>\n",
    "    <li><strong>Procedure</strong>\n",
    "        <ul>\n",
    "    <li>You need to work with 2 versions of SVM\n",
    "        <ul><li>Linear kernel</li>\n",
    "            <li>RBF kernel</li></ul>\n",
    "    <li>When you are working with linear kernel, use SGDClassifier’ with hinge loss because it is computationally less expensive.</li>\n",
    "    <li>When you are working with ‘SGDClassifier’ with hinge loss and trying to find the AUC\n",
    "        score, you would have to use <a href='https://scikit-learn.org/stable/modules/generated/sklearn.calibration.CalibratedClassifierCV.html'>CalibratedClassifierCV</a></li>\n",
    "    <li>Similarly, like kdtree of knn, when you are working with RBF kernel it's better to reduce\n",
    "the number of dimensions. You can put min_df = 10, max_features = 500 and consider a sample size of 40k points.</li>                \n",
    "        </ul>\n",
    "    </li>\n",
    "    <br>\n",
    "    <li><strong>Hyper paramter tuning (find best alpha in range [10^-4 to 10^4], and the best penalty among 'l1', 'l2')</strong>\n",
    "        <ul>\n",
    "    <li>Find the best hyper parameter which will give the maximum <a href='https://www.appliedaicourse.com/course/applied-ai-course-online/lessons/receiver-operating-characteristic-curve-roc-curve-and-auc-1/'>AUC</a> value</li>\n",
    "    <li>Find the best hyper paramter using k-fold cross validation or simple cross validation data</li>\n",
    "    <li>Use gridsearch cv or randomsearch cv or you can also write your own for loops to do this task of hyperparameter tuning</li>          \n",
    "        </ul>\n",
    "    </li>\n",
    "    <br>\n",
    "    <li><strong>Feature importance</strong>\n",
    "        <ul>\n",
    "    <li>When you are working on the linear kernel with BOW or TFIDF please print the top 10 best\n",
    "features for each of the positive and negative classes.</li>\n",
    "        </ul>\n",
    "    </li>\n",
    "    <br>\n",
    "    <li><strong>Feature engineering</strong>\n",
    "        <ul>\n",
    "    <li>To increase the performance of your model, you can also experiment with with feature engineering like :</li>\n",
    "            <ul>\n",
    "            <li>Taking length of reviews as another feature.</li>\n",
    "            <li>Considering some features from review summary as well.</li>\n",
    "        </ul>\n",
    "        </ul>\n",
    "    </li>\n",
    "    <br>\n",
    "    <li><strong>Representation of results</strong>\n",
    "        <ul>\n",
    "    <li>You need to plot the performance of model both on train data and cross validation data for each hyper parameter, like shown in the figure.\n",
    "    <img src='train_cv_auc.JPG' width=300px></li>\n",
    "    <li>Once after you found the best hyper parameter, you need to train your model with it, and find the AUC on test data and plot the ROC curve on both train and test.\n",
    "    <img src='train_test_auc.JPG' width=300px></li>\n",
    "    <li>Along with plotting ROC curve, you need to print the <a href='https://www.appliedaicourse.com/course/applied-ai-course-online/lessons/confusion-matrix-tpr-fpr-fnr-tnr-1/'>confusion matrix</a> with predicted and original labels of test data points. Please visualize your confusion matrices using <a href='https://seaborn.pydata.org/generated/seaborn.heatmap.html'>seaborn heatmaps.\n",
    "    <img src='confusion_matrix.png' width=300px></li>\n",
    "        </ul>\n",
    "    </li>\n",
    "    <br>\n",
    "    <li><strong>Conclusion</strong>\n",
    "        <ul>\n",
    "    <li>You need to summarize the results at the end of the notebook, summarize it in the table format. To print out a table please refer to this prettytable library<a href='http://zetcode.com/python/prettytable/'>  link</a> \n",
    "        <img src='summary.JPG' width=400px>\n",
    "    </li>\n",
    "        </ul>\n",
    "</ol>"
   ]
  },
  {
   "cell_type": "markdown",
   "metadata": {},
   "source": [
    "<h4><font color='red'>Note: Data Leakage</font></h4>\n",
    "\n",
    "1. There will be an issue of data-leakage if you vectorize the entire data and then split it into train/cv/test.\n",
    "2. To avoid the issue of data-leakag, make sure to split your data first and then vectorize it. \n",
    "3. While vectorizing your data, apply the method fit_transform() on you train data, and apply the method transform() on cv/test data.\n",
    "4. For more details please go through this <a href='https://soundcloud.com/applied-ai-course/leakage-bow-and-tfidf'>link.</a>"
   ]
  },
  {
   "cell_type": "markdown",
   "metadata": {},
   "source": [
    "### Loading various datasets using joblib"
   ]
  },
  {
   "cell_type": "markdown",
   "metadata": {},
   "source": [
    "BoW"
   ]
  },
  {
   "cell_type": "code",
   "execution_count": 3,
   "metadata": {},
   "outputs": [],
   "source": [
    "x_train_bow = joblib.load('x_tr_bow100k.pkl')\n",
    "x_test_bow  = joblib.load('x_te_bow100k.pkl')\n",
    "x_cv_bow    = joblib.load('x_cv_bow100k.pkl')\n",
    "\n",
    "y_train = joblib.load('y_train.pkl')\n",
    "y_test  = joblib.load('y_test.pkl')\n",
    "y_cv    = joblib.load('y_cv.pkl')\n"
   ]
  },
  {
   "cell_type": "markdown",
   "metadata": {},
   "source": [
    "TF-IDF"
   ]
  },
  {
   "cell_type": "code",
   "execution_count": 26,
   "metadata": {},
   "outputs": [],
   "source": [
    "x_train_tf = joblib.load('x_tr_tfidf100k.pkl')\n",
    "x_test_tf  = joblib.load('x_te_tfidf100k.pkl')\n",
    "x_cv_tf    = joblib.load('x_cv_tfidf100k.pkl')\n",
    "\n",
    "y_train = joblib.load('y_train.pkl')\n",
    "y_test  = joblib.load('y_test.pkl')\n",
    "y_cv    = joblib.load('y_cv.pkl')\n"
   ]
  },
  {
   "cell_type": "markdown",
   "metadata": {},
   "source": [
    "Average W2V"
   ]
  },
  {
   "cell_type": "code",
   "execution_count": 37,
   "metadata": {},
   "outputs": [],
   "source": [
    "sent_vectors_train = joblib.load('sent_vectors_train_100k.pkl')\n",
    "sent_vectors_test  = joblib.load('sent_vectors_test_100k.pkl')\n",
    "sent_vectors_cv    = joblib.load('sent_vectors_cv_100k.pkl')\n",
    "\n",
    "y_train = joblib.load('y_train.pkl')\n",
    "y_test  = joblib.load('y_test.pkl')\n",
    "y_cv    = joblib.load('y_cv.pkl')\n"
   ]
  },
  {
   "cell_type": "markdown",
   "metadata": {},
   "source": [
    "TF-IDF W2V"
   ]
  },
  {
   "cell_type": "code",
   "execution_count": 38,
   "metadata": {},
   "outputs": [],
   "source": [
    "tfidf_sent_vectors_train = joblib.load('tfidf_sent_vectors_train_100k.pkl')\n",
    "tfidf_sent_vectors_test  = joblib.load('tfidf_sent_vectors_test_100k.pkl')\n",
    "tfidf_sent_vectors_cv    = joblib.load('tfidf_sent_vectors_cv_100k.pkl')\n",
    "\n",
    "y_train = joblib.load('y_train.pkl')\n",
    "y_test  = joblib.load('y_test.pkl')\n",
    "y_cv    = joblib.load('y_cv.pkl')\n"
   ]
  },
  {
   "cell_type": "markdown",
   "metadata": {},
   "source": [
    "### Feature Importance"
   ]
  },
  {
   "cell_type": "markdown",
   "metadata": {},
   "source": [
    "# Applying SVM"
   ]
  },
  {
   "cell_type": "markdown",
   "metadata": {},
   "source": [
    "## [5.1] Linear SVM"
   ]
  },
  {
   "cell_type": "markdown",
   "metadata": {},
   "source": [
    "### [5.1.1] Applying Linear SVM on BOW,<font color='red'> SET 1</font>"
   ]
  },
  {
   "cell_type": "markdown",
   "metadata": {},
   "source": [
    "### Hyperparameter tunin using GridSearchCV"
   ]
  },
  {
   "cell_type": "markdown",
   "metadata": {},
   "source": [
    "Here we are using SGDClassfier with hinge loss which almost works like SVM"
   ]
  },
  {
   "cell_type": "code",
   "execution_count": 25,
   "metadata": {},
   "outputs": [
    {
     "name": "stdout",
     "output_type": "stream",
     "text": [
      "best alpha =  {'alpha': 0.001}\n",
      "Accuracy on train data =  93.12955584948898\n"
     ]
    }
   ],
   "source": [
    "alpha = [0.0001, 0.001, 0.01, 0.1, 1, 10]\n",
    "parameters = {'alpha': alpha}\n",
    "grid = GridSearchCV(SGDClassifier(loss='hinge',penalty='l2'), parameters, cv=3, scoring='roc_auc', n_jobs=-1, return_train_score=True)\n",
    "grid.fit(x_train_bow, y_train)\n",
    "\n",
    "print(\"best alpha = \", grid.best_params_)\n",
    "print(\"Accuracy on train data = \", grid.best_score_*100)\n",
    "a = grid.best_params_ \n",
    "optimal_a1 = a.get('alpha')\n"
   ]
  },
  {
   "cell_type": "code",
   "execution_count": 26,
   "metadata": {},
   "outputs": [
    {
     "data": {
      "image/png": "[encoded data removed]",
      "text/plain": [
       "<matplotlib.figure.Figure at 0x27e6060ef60>"
      ]
     },
     "metadata": {},
     "output_type": "display_data"
    }
   ],
   "source": [
    "train_auc_bow = grid.cv_results_['mean_train_score']\n",
    "cv_auc_bow = grid.cv_results_['mean_test_score'] \n",
    "\n",
    "plt.plot(alpha, train_auc_bow, label='Train AUC')\n",
    "plt.scatter(alpha, train_auc_bow, label='Train AUC')\n",
    "plt.plot(alpha, cv_auc_bow, label='CV AUC')\n",
    "plt.scatter(alpha, cv_auc_bow, label='CV AUC')\n",
    "\n",
    "plt.legend()\n",
    "plt.xlabel(\"Alpha: hyperparameter\")\n",
    "plt.ylabel(\"AUC\")\n",
    "plt.title(\"ERROR PLOTS\")\n",
    "plt.xscale('log')\n",
    "plt.show()"
   ]
  },
  {
   "cell_type": "markdown",
   "metadata": {},
   "source": [
    "Testing with test data"
   ]
  },
  {
   "cell_type": "code",
   "execution_count": 27,
   "metadata": {},
   "outputs": [
    {
     "data": {
      "image/png": "[encoded data removed]",
      "text/plain": [
       "<matplotlib.figure.Figure at 0x27e5fcf0a20>"
      ]
     },
     "metadata": {},
     "output_type": "display_data"
    }
   ],
   "source": [
    "clf = SGDClassifier(loss='hinge',alpha = optimal_a1, penalty='l2')\n",
    "calibrator = CalibratedClassifierCV(base_estimator=clf, cv=3, method='isotonic')\n",
    "calibrator.fit(x_train_bow, y_train)\n",
    "\n",
    "train_fpr_bow, train_tpr_bow, thresholds_bow = roc_curve(y_train, calibrator.predict_proba(x_train_bow)[:,1])\n",
    "test_fpr_bow, test_tpr_bow, thresholds_bow = roc_curve(y_test, calibrator.predict_proba(x_test_bow)[:,1])\n",
    "\n",
    "plt.plot(train_fpr_bow, train_tpr_bow, label=\"train AUC =\"+str(auc(train_fpr_bow, train_tpr_bow)))\n",
    "plt.plot(test_fpr_bow, test_tpr_bow, label=\"test AUC =\"+str(auc(test_fpr_bow, test_tpr_bow)))\n",
    "plt.legend()\n",
    "plt.xlabel(\"Alpha: hyperparameter\")\n",
    "plt.ylabel(\"AUC\")\n",
    "plt.title(\"ERROR PLOTS\")\n",
    "plt.show()"
   ]
  },
  {
   "cell_type": "markdown",
   "metadata": {},
   "source": [
    "### Calculating Confusion Matrix"
   ]
  },
  {
   "cell_type": "code",
   "execution_count": 28,
   "metadata": {},
   "outputs": [
    {
     "name": "stdout",
     "output_type": "stream",
     "text": [
      "\n",
      "Accuracy = 87.950023%\n",
      "\n",
      "precision= 97.105565%\n",
      "\n",
      "recall   = 88.262996%\n",
      "\n",
      "F1-Score = 92.473373%\n"
     ]
    }
   ],
   "source": [
    "clf = SGDClassifier(loss='hinge',penalty='l2',alpha = optimal_a1, class_weight='balanced') \n",
    "clf.fit(x_train_bow,y_train)\n",
    "predb = clf.predict(x_test_bow)\n",
    "\n",
    "acc_b = accuracy_score(y_test, predb) * 100\n",
    "pre_b = precision_score(y_test, predb) * 100\n",
    "rec_b = recall_score(y_test, predb) * 100\n",
    "f1_b  = f1_score(y_test, predb) * 100\n",
    "\n",
    "print('\\nAccuracy = %f%%' % (acc_b))\n",
    "print('\\nprecision= %f%%' % (pre_b))\n",
    "print('\\nrecall   = %f%%' % (rec_b))\n",
    "print('\\nF1-Score = %f%%' % (f1_b))"
   ]
  },
  {
   "cell_type": "code",
   "execution_count": 29,
   "metadata": {},
   "outputs": [
    {
     "data": {
      "image/png": "[encoded data removed]",
      "text/plain": [
       "<matplotlib.figure.Figure at 0x27e616d2320>"
      ]
     },
     "metadata": {},
     "output_type": "display_data"
    }
   ],
   "source": [
    "cm = confusion_matrix(y_test,predb)\n",
    "sns.heatmap(cm, annot=True,fmt='d')\n",
    "plt.title('Confusion Matrix for BoW')\n",
    "plt.show()"
   ]
  },
  {
   "cell_type": "markdown",
   "metadata": {},
   "source": [
    "### Feature Importance"
   ]
  },
  {
   "cell_type": "code",
   "execution_count": 30,
   "metadata": {},
   "outputs": [
    {
     "name": "stdout",
     "output_type": "stream",
     "text": [
      "\t\tNegative\t\t\t\t\tPositive\n",
      "_____________________________________________________________________________________________\n",
      "\t-1.1031\tdisappointing  \t\t\t\t0.9288\tdelicious      \n",
      "\t-0.9491\tworst          \t\t\t\t0.8818\tperfect        \n",
      "\t-0.8483\tdisappointed   \t\t\t\t0.8611\tamazing        \n",
      "\t-0.8334\tdisappointment \t\t\t\t0.8473\texcellent      \n",
      "\t-0.7542\tbland          \t\t\t\t0.7450\tloves          \n",
      "\t-0.7510\tawful          \t\t\t\t0.7419\tgreat          \n",
      "\t-0.7420\tterrible       \t\t\t\t0.7314\tbest           \n",
      "\t-0.6804\tthrew          \t\t\t\t0.6756\tawesome        \n",
      "\t-0.6730\tunfortunately  \t\t\t\t0.6744\thooked         \n",
      "\t-0.6574\tsadly          \t\t\t\t0.6678\tpleased        \n"
     ]
    }
   ],
   "source": [
    "def show_most_informative_features(vectorizer, clf, n=10):\n",
    "    feature_names = vectorizer.get_feature_names()\n",
    "    coefs_with_fns = sorted(zip(clf.coef_[0], feature_names))\n",
    "    top = zip(coefs_with_fns[:n], coefs_with_fns[:-(n + 1):-1])\n",
    "    print(\"\\t\\tNegative\\t\\t\\t\\t\\tPositive\")\n",
    "    print(\"_____________________________________________________________________________________________\")\n",
    "    for (coef_1, fn_1), (coef_2, fn_2) in top:\n",
    "        print(\"\\t%.4f\\t%-15s\\t\\t\\t\\t%.4f\\t%-15s\" % (coef_1, fn_1, coef_2, fn_2))\n",
    "        \n",
    "show_most_informative_features(count_vect,clf)\n",
    "#Code Reference:https://stackoverflow.com/questions/11116697/how-to-get-most-informative-features-for-scikit-learn-classifiers"
   ]
  },
  {
   "cell_type": "markdown",
   "metadata": {},
   "source": [
    "### [5.1.2] Applying Linear SVM on TFIDF,<font color='red'> SET 2</font>"
   ]
  },
  {
   "cell_type": "markdown",
   "metadata": {},
   "source": [
    "### Hyperparameter tuning using GridSearchCV"
   ]
  },
  {
   "cell_type": "code",
   "execution_count": 31,
   "metadata": {},
   "outputs": [
    {
     "name": "stdout",
     "output_type": "stream",
     "text": [
      "best alpha =  {'alpha': 0.0001}\n",
      "Accuracy on train data =  94.3725832910788\n"
     ]
    }
   ],
   "source": [
    "alpha = [0.00001, 0.0001, 0.001, 0.01, 0.1, 1]\n",
    "parameters = {'alpha': alpha}\n",
    "grid = GridSearchCV(SGDClassifier(loss='hinge',penalty='l2'), parameters, cv=3, scoring='roc_auc', n_jobs=-1, return_train_score=True)\n",
    "grid.fit(x_train_tf, y_train)\n",
    "\n",
    "print(\"best alpha = \", grid.best_params_)\n",
    "print(\"Accuracy on train data = \", grid.best_score_*100)\n",
    "a = grid.best_params_ \n",
    "optimal_a2 = a.get('alpha')\n"
   ]
  },
  {
   "cell_type": "code",
   "execution_count": 32,
   "metadata": {},
   "outputs": [
    {
     "data": {
      "image/png": "[encoded data removed]",
      "text/plain": [
       "<matplotlib.figure.Figure at 0x27e5a4332b0>"
      ]
     },
     "metadata": {},
     "output_type": "display_data"
    }
   ],
   "source": [
    "train_auc_tf = grid.cv_results_['mean_train_score']\n",
    "cv_auc_tf = grid.cv_results_['mean_test_score'] \n",
    "\n",
    "plt.plot(alpha, train_auc_tf, label='Train AUC')\n",
    "plt.scatter(alpha, train_auc_tf, label='Train AUC')\n",
    "plt.plot(alpha, cv_auc_tf, label='CV AUC')\n",
    "plt.scatter(alpha, cv_auc_tf, label='CV AUC')\n",
    "\n",
    "plt.legend()\n",
    "plt.xlabel(\"Alpha: hyperparameter\")\n",
    "plt.ylabel(\"AUC\")\n",
    "plt.title(\"ERROR PLOTS\")\n",
    "plt.xscale('log')\n",
    "plt.show()"
   ]
  },
  {
   "cell_type": "code",
   "execution_count": 33,
   "metadata": {},
   "outputs": [
    {
     "data": {
      "image/png": "[encoded data removed]",
      "text/plain": [
       "<matplotlib.figure.Figure at 0x27e5fc5f710>"
      ]
     },
     "metadata": {},
     "output_type": "display_data"
    }
   ],
   "source": [
    "clf = SGDClassifier(loss='hinge',alpha = optimal_a2, penalty='l2')\n",
    "calibrator = CalibratedClassifierCV(base_estimator=clf, cv=3, method='isotonic')\n",
    "calibrator.fit(x_train_tf, y_train)\n",
    "\n",
    "train_fpr_tf, train_tpr_tf, thresholds_tf = roc_curve(y_train, calibrator.predict_proba(x_train_tf)[:,1])\n",
    "test_fpr_tf, test_tpr_tf, thresholds_tf = roc_curve(y_test, calibrator.predict_proba(x_test_tf)[:,1])\n",
    "\n",
    "plt.plot(train_fpr_tf, train_tpr_tf, label=\"train AUC =\"+str(auc(train_fpr_tf, train_tpr_tf)))\n",
    "plt.plot(test_fpr_tf, test_tpr_tf, label=\"test AUC =\"+str(auc(test_fpr_tf, test_tpr_tf)))\n",
    "plt.legend()\n",
    "plt.xlabel(\"Alpha: hyperparameter\")\n",
    "plt.ylabel(\"AUC\")\n",
    "plt.title(\"ERROR PLOTS\")\n",
    "plt.show()"
   ]
  },
  {
   "cell_type": "markdown",
   "metadata": {},
   "source": [
    "### Calculating Confusion Matrix"
   ]
  },
  {
   "cell_type": "code",
   "execution_count": 34,
   "metadata": {},
   "outputs": [
    {
     "name": "stdout",
     "output_type": "stream",
     "text": [
      "\n",
      "Accuracy = 85.891691%\n",
      "\n",
      "precision= 97.184690%\n",
      "\n",
      "recall   = 85.659301%\n",
      "\n",
      "F1-Score = 91.058750%\n"
     ]
    }
   ],
   "source": [
    "clf = SGDClassifier(loss='hinge',penalty='l1',alpha = optimal_a2, class_weight='balanced') \n",
    "clf.fit(x_train_tf, y_train)\n",
    "predb = clf.predict(x_test_tf)\n",
    "\n",
    "acc_tf = accuracy_score(y_test, predb) * 100\n",
    "pre_tf = precision_score(y_test, predb) * 100\n",
    "rec_tf = recall_score(y_test, predb) * 100\n",
    "f1_tf  = f1_score(y_test, predb) * 100\n",
    "\n",
    "print('\\nAccuracy = %f%%' % (acc_tf))\n",
    "print('\\nprecision= %f%%' % (pre_tf))\n",
    "print('\\nrecall   = %f%%' % (rec_tf))\n",
    "print('\\nF1-Score = %f%%' % (f1_tf))"
   ]
  },
  {
   "cell_type": "code",
   "execution_count": 35,
   "metadata": {},
   "outputs": [
    {
     "data": {
      "image/png": "[encoded data removed]",
      "text/plain": [
       "<matplotlib.figure.Figure at 0x27e6126cdd8>"
      ]
     },
     "metadata": {},
     "output_type": "display_data"
    }
   ],
   "source": [
    "cm = confusion_matrix(y_test,predb)\n",
    "sns.heatmap(cm, annot=True,fmt='d')\n",
    "plt.title('Confusion Matrix for BoW')\n",
    "plt.show()"
   ]
  },
  {
   "cell_type": "markdown",
   "metadata": {},
   "source": [
    "### Feature Importance"
   ]
  },
  {
   "cell_type": "code",
   "execution_count": 36,
   "metadata": {},
   "outputs": [
    {
     "name": "stdout",
     "output_type": "stream",
     "text": [
      "\t\tNegative\t\t\t\t\tPositive\n",
      "_____________________________________________________________________________________________\n",
      "\t-8.5233\tdisappointing  \t\t\t\t8.6825\tgreat          \n",
      "\t-7.9091\tcancelled      \t\t\t\t8.4323\tdelicious      \n",
      "\t-7.4764\tworst          \t\t\t\t8.0965\tperfect        \n",
      "\t-6.2319\tterrible       \t\t\t\t7.4714\tbest           \n",
      "\t-6.0844\tnot            \t\t\t\t7.1161\tamazing        \n",
      "\t-5.9477\tdisappointment \t\t\t\t5.9856\tloves          \n",
      "\t-5.7856\tdisappointed   \t\t\t\t5.8308\texcellent      \n",
      "\t-5.5398\twhatsoever     \t\t\t\t5.6244\twonderful      \n",
      "\t-5.3891\tawful          \t\t\t\t5.6224\thighly         \n",
      "\t-5.2084\thorrible       \t\t\t\t5.2478\tgood           \n"
     ]
    }
   ],
   "source": [
    "def show_most_informative_features(vectorizer, clf, n=10):\n",
    "    feature_names = vectorizer.get_feature_names()\n",
    "    coefs_with_fns = sorted(zip(clf.coef_[0], feature_names))\n",
    "    top = zip(coefs_with_fns[:n], coefs_with_fns[:-(n + 1):-1])\n",
    "    print(\"\\t\\tNegative\\t\\t\\t\\t\\tPositive\")\n",
    "    print(\"_____________________________________________________________________________________________\")\n",
    "    for (coef_1, fn_1), (coef_2, fn_2) in top:\n",
    "        print(\"\\t%.4f\\t%-15s\\t\\t\\t\\t%.4f\\t%-15s\" % (coef_1, fn_1, coef_2, fn_2))\n",
    "        \n",
    "show_most_informative_features(tf_idf,clf)\n",
    "#Code Reference:https://stackoverflow.com/questions/11116697/how-to-get-most-informative-features-for-scikit-learn-classifiers"
   ]
  },
  {
   "cell_type": "markdown",
   "metadata": {},
   "source": [
    "### [5.1.3]  Applying Linear SVM on AVG W2V,<font color='red'> SET 3</font>"
   ]
  },
  {
   "cell_type": "markdown",
   "metadata": {},
   "source": [
    "### Hyperparameter tunin using GridSearchCV"
   ]
  },
  {
   "cell_type": "code",
   "execution_count": 48,
   "metadata": {},
   "outputs": [
    {
     "name": "stdout",
     "output_type": "stream",
     "text": [
      "best alpha =  {'alpha': 1}\n",
      "Accuracy on train data =  50.85062079929457\n"
     ]
    }
   ],
   "source": [
    "alpha = [0.0001, 0.001, 0.01, 0.1, 1, 10, 100, 1000]\n",
    "parameters = {'alpha': alpha}\n",
    "grid = GridSearchCV(SGDClassifier(loss='hinge',penalty='l2'), parameters, cv=3, scoring='roc_auc', n_jobs=-1, return_train_score=True)\n",
    "grid.fit(sent_vectors_train, y_train)\n",
    "\n",
    "print(\"best alpha = \", grid.best_params_)\n",
    "print(\"Accuracy on train data = \", grid.best_score_*100)\n",
    "a = grid.best_params_ \n",
    "optimal_a3 = a.get('alpha')\n"
   ]
  },
  {
   "cell_type": "code",
   "execution_count": 49,
   "metadata": {},
   "outputs": [
    {
     "data": {
      "image/png": "[encoded data removed]",
      "text/plain": [
       "<matplotlib.figure.Figure at 0x27e7574f5f8>"
      ]
     },
     "metadata": {},
     "output_type": "display_data"
    }
   ],
   "source": [
    "train_auc_aw2v = grid.cv_results_['mean_train_score']\n",
    "cv_auc_aw2v = grid.cv_results_['mean_test_score'] \n",
    "\n",
    "plt.plot(alpha, train_auc_aw2v, label='Train AUC')\n",
    "plt.scatter(alpha, train_auc_aw2v, label='Train AUC')\n",
    "plt.plot(alpha, cv_auc_aw2v, label='CV AUC')\n",
    "plt.scatter(alpha, cv_auc_aw2v, label='CV AUC')\n",
    "\n",
    "plt.legend()\n",
    "plt.xlabel(\"Alpha: hyperparameter\")\n",
    "plt.ylabel(\"AUC\")\n",
    "plt.title(\"ERROR PLOTS\")\n",
    "plt.xscale('log')\n",
    "plt.show()"
   ]
  },
  {
   "cell_type": "code",
   "execution_count": 50,
   "metadata": {},
   "outputs": [
    {
     "data": {
      "image/png": "[encoded data removed]",
      "text/plain": [
       "<matplotlib.figure.Figure at 0x27e5fcf0eb8>"
      ]
     },
     "metadata": {},
     "output_type": "display_data"
    }
   ],
   "source": [
    "clf = SGDClassifier(loss='hinge',alpha = optimal_a3, penalty='l2')\n",
    "calibrator = CalibratedClassifierCV(base_estimator=clf, cv=3, method='isotonic')\n",
    "calibrator.fit(sent_vectors_train, y_train)\n",
    "\n",
    "train_fpr_aw2v, train_tpr_aw2v, thresholds_aw2v = roc_curve(y_train, calibrator.predict_proba(sent_vectors_train)[:,1])\n",
    "test_fpr_aw2v, test_tpr_aw2v, thresholds_aw2v = roc_curve(y_test, calibrator.predict_proba(sent_vectors_test)[:,1])\n",
    "\n",
    "plt.plot(train_fpr_aw2v, train_tpr_aw2v, label=\"train AUC =\"+str(auc(train_fpr_aw2v, train_tpr_aw2v)))\n",
    "plt.plot(test_fpr_aw2v, test_tpr_aw2v, label=\"test AUC =\"+str(auc(test_fpr_aw2v, test_tpr_aw2v)))\n",
    "plt.legend()\n",
    "plt.xlabel(\"Alpha: hyperparameter\")\n",
    "plt.ylabel(\"AUC\")\n",
    "plt.title(\"ERROR PLOTS\")\n",
    "plt.show()"
   ]
  },
  {
   "cell_type": "markdown",
   "metadata": {},
   "source": [
    "Testing with test data"
   ]
  },
  {
   "cell_type": "code",
   "execution_count": 52,
   "metadata": {
    "scrolled": true
   },
   "outputs": [
    {
     "data": {
      "image/png": "[encoded data removed]",
      "text/plain": [
       "<matplotlib.figure.Figure at 0x27e5a4337b8>"
      ]
     },
     "metadata": {},
     "output_type": "display_data"
    }
   ],
   "source": [
    "clf = SGDClassifier(loss='hinge', penalty='l2',alpha = optimal_a3)\n",
    "calibrator = CalibratedClassifierCV(base_estimator=clf, cv=3, method='isotonic')\n",
    "calibrator.fit(sent_vectors_train, y_train)\n",
    "\n",
    "train_fpr_aw2v, train_tpr_aw2v, thresholds_aw2v = roc_curve(y_train, calibrator.predict_proba(sent_vectors_train)[:,1])\n",
    "test_fpr_aw2v, test_tpr_aw2v, thresholds_aw2v = roc_curve(y_test, calibrator.predict_proba(sent_vectors_test)[:,1])\n",
    "\n",
    "plt.plot(train_fpr_aw2v, train_tpr_aw2v, label=\"train AUC =\"+str(auc(train_fpr_aw2v, train_tpr_aw2v)))\n",
    "plt.plot(test_fpr_aw2v, test_tpr_aw2v, label=\"test AUC =\"+str(auc(test_fpr_aw2v, test_tpr_aw2v)))\n",
    "plt.legend()\n",
    "plt.xlabel(\"Alpha: hyperparameter\")\n",
    "plt.ylabel(\"AUC\")\n",
    "plt.title(\"ERROR PLOTS\")\n",
    "plt.show()"
   ]
  },
  {
   "cell_type": "markdown",
   "metadata": {},
   "source": [
    "### Calculating Confusion Matrix"
   ]
  },
  {
   "cell_type": "code",
   "execution_count": 53,
   "metadata": {},
   "outputs": [
    {
     "name": "stdout",
     "output_type": "stream",
     "text": [
      "\n",
      "Accuracy = 84.175148%\n",
      "\n",
      "precision= 84.175148%\n",
      "\n",
      "recall   = 100.000000%\n",
      "\n",
      "F1-Score = 91.407716%\n"
     ]
    }
   ],
   "source": [
    "clf = SGDClassifier(loss='hinge',penalty='l2',alpha = optimal_a3, class_weight=\"balanced\") \n",
    "clf.fit(sent_vectors_train, y_train)\n",
    "predb = clf.predict(sent_vectors_test)\n",
    "\n",
    "acc_aw2v = accuracy_score(y_test, predb) * 100\n",
    "pre_aw2v = precision_score(y_test, predb) * 100\n",
    "rec_aw2v = recall_score(y_test, predb) * 100\n",
    "f1_aw2v  = f1_score(y_test, predb) * 100\n",
    "\n",
    "print('\\nAccuracy = %f%%' % (acc_aw2v))\n",
    "print('\\nprecision= %f%%' % (pre_aw2v))\n",
    "print('\\nrecall   = %f%%' % (rec_aw2v))\n",
    "print('\\nF1-Score = %f%%' % (f1_aw2v))"
   ]
  },
  {
   "cell_type": "code",
   "execution_count": 79,
   "metadata": {},
   "outputs": [
    {
     "data": {
      "image/png": "[encoded data removed]",
      "text/plain": [
       "<matplotlib.figure.Figure at 0x1e572bb51d0>"
      ]
     },
     "metadata": {},
     "output_type": "display_data"
    }
   ],
   "source": [
    "cm = confusion_matrix(y_test,predb)\n",
    "sns.heatmap(cm, annot=True,fmt='d')\n",
    "plt.title('Confusion Matrix for BoW')\n",
    "plt.show()"
   ]
  },
  {
   "cell_type": "markdown",
   "metadata": {},
   "source": [
    "### [5.1.4]  Applying Linear SVM on TFIDF W2V,<font color='red'> SET 4</font>"
   ]
  },
  {
   "cell_type": "markdown",
   "metadata": {},
   "source": [
    "### Hyperparameter tuning using GridSearchCV"
   ]
  },
  {
   "cell_type": "code",
   "execution_count": 56,
   "metadata": {},
   "outputs": [
    {
     "name": "stdout",
     "output_type": "stream",
     "text": [
      "best alpha =  {'alpha': 0.1}\n",
      "Accuracy on train data =  50.493469155031335\n"
     ]
    }
   ],
   "source": [
    "alpha = [0.0001, 0.001, 0.01, 0.1, 1, 10, 100, 1000]\n",
    "parameters = {'alpha': alpha}\n",
    "grid = GridSearchCV(SGDClassifier(loss='hinge',penalty='l2'), parameters, cv=3, scoring='roc_auc', n_jobs=-1, return_train_score=True)\n",
    "grid.fit(tfidf_sent_vectors_train, y_train)\n",
    "\n",
    "print(\"best alpha = \", grid.best_params_)\n",
    "print(\"Accuracy on train data = \", grid.best_score_*100)\n",
    "a = grid.best_params_ \n",
    "optimal_a4 = a.get('alpha')\n"
   ]
  },
  {
   "cell_type": "code",
   "execution_count": 57,
   "metadata": {},
   "outputs": [
    {
     "data": {
      "image/png": "[encoded data removed]",
      "text/plain": [
       "<matplotlib.figure.Figure at 0x27e75704a58>"
      ]
     },
     "metadata": {},
     "output_type": "display_data"
    }
   ],
   "source": [
    "train_auc_tw2v = grid.cv_results_['mean_train_score']\n",
    "cv_auc_tw2v = grid.cv_results_['mean_test_score'] \n",
    "\n",
    "plt.plot(alpha, train_auc_tw2v, label='Train AUC')\n",
    "plt.scatter(alpha, train_auc_tw2v, label='Train AUC')\n",
    "plt.plot(alpha, cv_auc_tw2v, label='CV AUC')\n",
    "plt.scatter(alpha, cv_auc_tw2v, label='CV AUC')\n",
    "\n",
    "plt.legend()\n",
    "plt.xlabel(\"Alpha: hyperparameter\")\n",
    "plt.ylabel(\"AUC\")\n",
    "plt.title(\"ERROR PLOTS\")\n",
    "plt.xscale('log')\n",
    "plt.show()"
   ]
  },
  {
   "cell_type": "markdown",
   "metadata": {},
   "source": [
    "Testing with test data"
   ]
  },
  {
   "cell_type": "code",
   "execution_count": 58,
   "metadata": {},
   "outputs": [
    {
     "data": {
      "image/png": "[encoded data removed]",
      "text/plain": [
       "<matplotlib.figure.Figure at 0x27e76a11208>"
      ]
     },
     "metadata": {},
     "output_type": "display_data"
    }
   ],
   "source": [
    "clf = SGDClassifier(loss='hinge',alpha = optimal_a4, penalty='l2')\n",
    "calibrator = CalibratedClassifierCV(base_estimator=clf, cv=3, method='isotonic')\n",
    "calibrator.fit(tfidf_sent_vectors_train, y_train)\n",
    "\n",
    "train_fpr_tw2v, train_tpr_tw2v, thresholds_tw2v = roc_curve(y_train, calibrator.predict_proba(tfidf_sent_vectors_train)[:,1])\n",
    "test_fpr_tw2v, test_tpr_tw2v, thresholds_tw2v = roc_curve(y_test, calibrator.predict_proba(tfidf_sent_vectors_test)[:,1])\n",
    "\n",
    "plt.plot(train_fpr_tw2v, train_tpr_tw2v, label=\"train AUC =\"+str(auc(train_fpr_tw2v, train_tpr_tw2v)))\n",
    "plt.plot(test_fpr_tw2v, test_tpr_tw2v, label=\"test AUC =\"+str(auc(test_fpr_tw2v, test_tpr_tw2v)))\n",
    "plt.legend()\n",
    "plt.xlabel(\"Alpha: hyperparameter\")\n",
    "plt.ylabel(\"AUC\")\n",
    "plt.title(\"ERROR PLOTS\")\n",
    "plt.show()"
   ]
  },
  {
   "cell_type": "markdown",
   "metadata": {},
   "source": [
    "Calculating Confusion Matrix"
   ]
  },
  {
   "cell_type": "code",
   "execution_count": 59,
   "metadata": {
    "scrolled": true
   },
   "outputs": [
    {
     "name": "stdout",
     "output_type": "stream",
     "text": [
      "\n",
      "Accuracy = 84.175148%\n",
      "\n",
      "precision= 84.175148%\n",
      "\n",
      "recall   = 100.000000%\n",
      "\n",
      "F1-Score = 91.407716%\n"
     ]
    }
   ],
   "source": [
    "clf = SGDClassifier(loss='hinge',penalty='l2',alpha = optimal_a4, class_weight='balanced') \n",
    "clf.fit(tfidf_sent_vectors_train, y_train)\n",
    "predb = clf.predict(tfidf_sent_vectors_test)\n",
    "\n",
    "acc_tw2v = accuracy_score(y_test, predb) * 100\n",
    "pre_tw2v = precision_score(y_test, predb) * 100\n",
    "rec_tw2v = recall_score(y_test, predb) * 100\n",
    "f1_tw2v  = f1_score(y_test, predb) * 100\n",
    "\n",
    "print('\\nAccuracy = %f%%' % (acc_tw2v))\n",
    "print('\\nprecision= %f%%' % (pre_tw2v))\n",
    "print('\\nrecall   = %f%%' % (rec_tw2v))\n",
    "print('\\nF1-Score = %f%%' % (f1_tw2v))"
   ]
  },
  {
   "cell_type": "code",
   "execution_count": 60,
   "metadata": {},
   "outputs": [
    {
     "data": {
      "image/png": "[encoded data removed]",
      "text/plain": [
       "<matplotlib.figure.Figure at 0x27e6102e940>"
      ]
     },
     "metadata": {},
     "output_type": "display_data"
    }
   ],
   "source": [
    "cm = confusion_matrix(y_test,predb)\n",
    "sns.heatmap(cm, annot=True,fmt='d')\n",
    "plt.title('Confusion Matrix for BoW')\n",
    "plt.show()"
   ]
  },
  {
   "cell_type": "markdown",
   "metadata": {},
   "source": [
    "## [5.2] RBF SVM"
   ]
  },
  {
   "cell_type": "markdown",
   "metadata": {},
   "source": [
    "### [5.2.1] Applying RBF SVM on BOW,<font color='red'> SET 1</font>"
   ]
  },
  {
   "cell_type": "markdown",
   "metadata": {},
   "source": [
    "### Hyperparameter tuning using GridSearchCV"
   ]
  },
  {
   "cell_type": "code",
   "execution_count": 115,
   "metadata": {},
   "outputs": [
    {
     "name": "stdout",
     "output_type": "stream",
     "text": [
      "best C =  {'C': 100}\n",
      "Accuracy on train data =  91.79191109269469\n"
     ]
    }
   ],
   "source": [
    "C = [0.001, 0.01, 0.1, 1, 10, 100, 1000]\n",
    "parameters = {'C': C}\n",
    "grid = GridSearchCV(SVC(kernel='rbf'), parameters, cv=3, scoring='roc_auc', n_jobs=-1, return_train_score=True)\n",
    "grid.fit(x_train_bow, y_train)\n",
    "\n",
    "print(\"best C = \", grid.best_params_)\n",
    "print(\"Accuracy on train data = \", grid.best_score_*100)\n",
    "a = grid.best_params_ \n",
    "optimal_a5 = a.get('C')\n"
   ]
  },
  {
   "cell_type": "code",
   "execution_count": 116,
   "metadata": {},
   "outputs": [
    {
     "data": {
      "image/png": "[encoded data removed]",
      "text/plain": [
       "<matplotlib.figure.Figure at 0x27e1d275160>"
      ]
     },
     "metadata": {},
     "output_type": "display_data"
    }
   ],
   "source": [
    "train_auc_bow = grid.cv_results_['mean_train_score']\n",
    "cv_auc_bow    = grid.cv_results_['mean_test_score'] \n",
    "\n",
    "plt.plot(C, train_auc_bow, label='Train AUC')\n",
    "plt.scatter(C, train_auc_bow, label='Train AUC')\n",
    "\n",
    "plt.plot(C, cv_auc_bow, label='CV AUC')\n",
    "plt.scatter(C, cv_auc_bow, label='CV AUC')\n",
    "\n",
    "plt.legend()\n",
    "plt.xlabel(\"C: hyperparameter\")\n",
    "plt.ylabel(\"AUC\")\n",
    "plt.title(\"ERROR PLOTS\")\n",
    "plt.xscale('log')\n",
    "plt.show()"
   ]
  },
  {
   "cell_type": "markdown",
   "metadata": {},
   "source": [
    "Testing"
   ]
  },
  {
   "cell_type": "code",
   "execution_count": 117,
   "metadata": {},
   "outputs": [
    {
     "data": {
      "image/png": "[encoded data removed]",
      "text/plain": [
       "<matplotlib.figure.Figure at 0x27e1fe06c50>"
      ]
     },
     "metadata": {},
     "output_type": "display_data"
    }
   ],
   "source": [
    "clf = SVC(kernel='rbf', C = optimal_a5, probability=True)\n",
    "clf.fit(x_train_bow, y_train)\n",
    "\n",
    "train_fpr_bow, train_tpr_bow, thresholds_bow = roc_curve(y_train, clf.predict_proba(x_train_bow)[:,1])\n",
    "test_fpr_bow, test_tpr_bow, thresholds_bow = roc_curve(y_test, clf.predict_proba(x_test_bow)[:,1])\n",
    "\n",
    "plt.plot(train_fpr_bow, train_tpr_bow, label=\"train AUC =\"+str(auc(train_fpr_bow, train_tpr_bow)))\n",
    "plt.plot(test_fpr_bow, test_tpr_bow, label=\"test AUC =\"+str(auc(test_fpr_bow, test_tpr_bow)))\n",
    "plt.legend()\n",
    "plt.xlabel(\"C: hyperparameter\")\n",
    "plt.ylabel(\"AUC\")\n",
    "plt.title(\"ERROR PLOTS\")\n",
    "plt.show()"
   ]
  },
  {
   "cell_type": "code",
   "execution_count": 118,
   "metadata": {},
   "outputs": [
    {
     "name": "stdout",
     "output_type": "stream",
     "text": [
      "\n",
      "Accuracy = 88.411304%\n",
      "\n",
      "precision= 95.561513%\n",
      "\n",
      "recall   = 90.442628%\n",
      "\n",
      "F1-Score = 92.931634%\n"
     ]
    }
   ],
   "source": [
    "clf = SVC(kernel='rbf', C = optimal_a5, class_weight='balanced') \n",
    "clf.fit(x_train_bow,y_train)\n",
    "\n",
    "predb1 = clf.predict(x_test_bow)\n",
    "\n",
    "acc_b1 = accuracy_score(y_test, predb1) * 100\n",
    "pre_b1 = precision_score(y_test, predb1) * 100\n",
    "rec_b1 = recall_score(y_test, predb1) * 100\n",
    "f1_b1 = f1_score(y_test, predb1) * 100\n",
    "\n",
    "print('\\nAccuracy = %f%%' % (acc_b1))\n",
    "print('\\nprecision= %f%%' % (pre_b1))\n",
    "print('\\nrecall   = %f%%' % (rec_b1))\n",
    "print('\\nF1-Score = %f%%' % (f1_b1))"
   ]
  },
  {
   "cell_type": "code",
   "execution_count": 168,
   "metadata": {},
   "outputs": [
    {
     "data": {
      "image/png": "[encoded data removed]",
      "text/plain": [
       "<matplotlib.figure.Figure at 0x1e5741d8198>"
      ]
     },
     "metadata": {},
     "output_type": "display_data"
    }
   ],
   "source": [
    "cm = confusion_matrix(y_test,predb1)\n",
    "sns.heatmap(cm, annot=True,fmt='d')\n",
    "plt.title('Confusion Matrix for BoW')\n",
    "plt.show()"
   ]
  },
  {
   "cell_type": "markdown",
   "metadata": {},
   "source": [
    "### [5.2.2] Applying RBF SVM on TFIDF,<font color='red'> SET 2</font>"
   ]
  },
  {
   "cell_type": "markdown",
   "metadata": {},
   "source": [
    "### Hyperparameter tuning using GridSearchCV"
   ]
  },
  {
   "cell_type": "code",
   "execution_count": 119,
   "metadata": {},
   "outputs": [
    {
     "name": "stdout",
     "output_type": "stream",
     "text": [
      "best C =  {'C': 1000}\n",
      "Accuracy on train data =  93.06359300499562\n"
     ]
    }
   ],
   "source": [
    "C = [0.001, 0.01, 0.1, 1, 10, 100, 1000]\n",
    "parameters = {'C': C}\n",
    "grid = GridSearchCV(SVC(kernel='rbf'), parameters, cv=3, scoring='roc_auc', n_jobs=-1, return_train_score=True)\n",
    "grid.fit(x_train_tf, y_train)\n",
    "\n",
    "print(\"best C = \", grid.best_params_)\n",
    "print(\"Accuracy on train data = \", grid.best_score_*100)\n",
    "a = grid.best_params_ \n",
    "optimal_a6 = a.get('C')\n"
   ]
  },
  {
   "cell_type": "code",
   "execution_count": 120,
   "metadata": {},
   "outputs": [
    {
     "data": {
      "image/png": "[encoded data removed]",
      "text/plain": [
       "<matplotlib.figure.Figure at 0x27e1e6590b8>"
      ]
     },
     "metadata": {},
     "output_type": "display_data"
    }
   ],
   "source": [
    "train_auc_tf = grid.cv_results_['mean_train_score']\n",
    "cv_auc_tf     = grid.cv_results_['mean_test_score'] \n",
    "\n",
    "plt.plot(C, train_auc_tf, label='Train AUC')\n",
    "plt.scatter(C, train_auc_tf, label='Train AUC')\n",
    "\n",
    "plt.plot(C, cv_auc_tf, label='CV AUC')\n",
    "plt.scatter(C, cv_auc_tf, label='CV AUC')\n",
    "\n",
    "plt.legend()\n",
    "plt.xlabel(\"C: hyperparameter\")\n",
    "plt.ylabel(\"AUC\")\n",
    "plt.title(\"ERROR PLOTS\")\n",
    "plt.xscale('log')\n",
    "plt.show()"
   ]
  },
  {
   "cell_type": "markdown",
   "metadata": {},
   "source": [
    "Testing"
   ]
  },
  {
   "cell_type": "code",
   "execution_count": 121,
   "metadata": {},
   "outputs": [],
   "source": [
    "optimal_a6 = 1"
   ]
  },
  {
   "cell_type": "code",
   "execution_count": 122,
   "metadata": {},
   "outputs": [
    {
     "data": {
      "image/png": "[encoded data removed]",
      "text/plain": [
       "<matplotlib.figure.Figure at 0x27e1e64b668>"
      ]
     },
     "metadata": {},
     "output_type": "display_data"
    }
   ],
   "source": [
    "clf = SVC(kernel='rbf', C = optimal_a6, probability=True)\n",
    "clf.fit(x_train_tf, y_train)\n",
    "\n",
    "train_fpr_tf, train_tpr_tf, thresholds_tf = roc_curve(y_train, clf.predict_proba(x_train_tf)[:,1])\n",
    "test_fpr_tf, test_tpr_tf, thresholds_tf = roc_curve(y_test, clf.predict_proba(x_test_bow)[:,1])\n",
    "\n",
    "plt.plot(train_fpr_tf, train_tpr_tf, label=\"train AUC =\"+str(auc(train_fpr_tf, train_tpr_tf)))\n",
    "plt.plot(test_fpr_tf, test_tpr_tf, label=\"test AUC =\"+str(auc(test_fpr_tf, test_tpr_tf)))\n",
    "plt.legend()\n",
    "plt.xlabel(\"C: hyperparameter\")\n",
    "plt.ylabel(\"AUC\")\n",
    "plt.title(\"ERROR PLOTS\")\n",
    "plt.show()"
   ]
  },
  {
   "cell_type": "markdown",
   "metadata": {},
   "source": [
    "Calculating Confusion Matrix"
   ]
  },
  {
   "cell_type": "code",
   "execution_count": 123,
   "metadata": {},
   "outputs": [
    {
     "name": "stdout",
     "output_type": "stream",
     "text": [
      "\n",
      "Accuracy = 84.231774%\n",
      "\n",
      "precision= 84.231774%\n",
      "\n",
      "recall   = 100.000000%\n",
      "\n",
      "F1-Score = 91.441093%\n"
     ]
    }
   ],
   "source": [
    "clf = SVC(kernel='rbf', C = optimal_a6, class_weight='balanced') \n",
    "clf.fit(x_train_tf, y_train)\n",
    "\n",
    "predb1 = clf.predict(x_test_tf)\n",
    "\n",
    "acc_tf1 = accuracy_score(y_test, predb1) * 100\n",
    "pre_tf1 = precision_score(y_test, predb1) * 100\n",
    "rec_tf1 = recall_score(y_test, predb1) * 100\n",
    "f1_tf1 = f1_score(y_test, predb1) * 100\n",
    "\n",
    "print('\\nAccuracy = %f%%' % (acc_tf1))\n",
    "print('\\nprecision= %f%%' % (pre_tf1))\n",
    "print('\\nrecall   = %f%%' % (rec_tf1))\n",
    "print('\\nF1-Score = %f%%' % (f1_tf1))"
   ]
  },
  {
   "cell_type": "code",
   "execution_count": 124,
   "metadata": {},
   "outputs": [
    {
     "data": {
      "image/png": "[encoded data removed]",
      "text/plain": [
       "<matplotlib.figure.Figure at 0x27e73d3fb00>"
      ]
     },
     "metadata": {},
     "output_type": "display_data"
    }
   ],
   "source": [
    "cm = confusion_matrix(y_test,predb1)\n",
    "sns.heatmap(cm, annot=True,fmt='d')\n",
    "plt.title('Confusion Matrix for BoW')\n",
    "plt.show()"
   ]
  },
  {
   "cell_type": "markdown",
   "metadata": {},
   "source": [
    "### [5.2.3]  Applying RBF SVM on AVG W2V,<font color='red'> SET 3</font>"
   ]
  },
  {
   "cell_type": "markdown",
   "metadata": {},
   "source": [
    "### Hyperparameter tuning using GridSearchCV"
   ]
  },
  {
   "cell_type": "code",
   "execution_count": 130,
   "metadata": {},
   "outputs": [
    {
     "name": "stdout",
     "output_type": "stream",
     "text": [
      "best C =  {'C': 1000}\n",
      "Accuracy on train data =  78.58427699843556\n"
     ]
    }
   ],
   "source": [
    "C = [0.0001, 0.001, 0.01, 0.1, 1, 10, 100, 1000]\n",
    "parameters = {'C': C}\n",
    "grid = GridSearchCV(SVC(kernel='rbf'), parameters, cv=3, scoring='roc_auc', n_jobs=-1, return_train_score=True)\n",
    "grid.fit(sent_vectors_train, y_train)\n",
    "\n",
    "print(\"best C = \", grid.best_params_)\n",
    "print(\"Accuracy on train data = \", grid.best_score_*100)\n",
    "a = grid.best_params_ \n",
    "optimal_a7 = a.get('C')\n"
   ]
  },
  {
   "cell_type": "code",
   "execution_count": 131,
   "metadata": {},
   "outputs": [
    {
     "data": {
      "image/png": "[encoded data removed]",
      "text/plain": [
       "<matplotlib.figure.Figure at 0x27e086e8e10>"
      ]
     },
     "metadata": {},
     "output_type": "display_data"
    }
   ],
   "source": [
    "train_auc_aw2v = grid.cv_results_['mean_train_score']\n",
    "cv_auc_aw2v    = grid.cv_results_['mean_test_score'] \n",
    "\n",
    "plt.plot(C, train_auc_aw2v, label='Train AUC')\n",
    "plt.scatter(C, train_auc_aw2v, label='Train AUC')\n",
    "\n",
    "plt.plot(C, cv_auc_aw2v, label='CV AUC')\n",
    "plt.scatter(C, cv_auc_aw2v, label='CV AUC')\n",
    "\n",
    "plt.legend()\n",
    "plt.xlabel(\"C: hyperparameter\")\n",
    "plt.ylabel(\"AUC\")\n",
    "plt.title(\"ERROR PLOTS\")\n",
    "plt.xscale('log')\n",
    "plt.show()"
   ]
  },
  {
   "cell_type": "markdown",
   "metadata": {},
   "source": [
    "Testing"
   ]
  },
  {
   "cell_type": "code",
   "execution_count": 132,
   "metadata": {},
   "outputs": [
    {
     "data": {
      "image/png": "[encoded data removed]",
      "text/plain": [
       "<matplotlib.figure.Figure at 0x27e1fde1470>"
      ]
     },
     "metadata": {},
     "output_type": "display_data"
    }
   ],
   "source": [
    "clf = SVC(kernel='rbf', C = optimal_a7, probability=True)\n",
    "clf.fit(sent_vectors_train, y_train)\n",
    "\n",
    "train_fpr_aw2v, train_tpr_aw2v, thresholds_aw2v = roc_curve(y_train, clf.predict_proba(sent_vectors_train)[:,1])\n",
    "test_fpr_aw2v, test_tpr_aw2v, thresholds_aw2v = roc_curve(y_test, clf.predict_proba(sent_vectors_test)[:,1])\n",
    "\n",
    "plt.plot(train_fpr_aw2v, train_tpr_aw2v, label=\"train AUC =\"+str(auc(train_fpr_aw2v, train_tpr_aw2v)))\n",
    "plt.plot(test_fpr_aw2v, test_tpr_aw2v, label=\"test AUC =\"+str(auc(test_fpr_aw2v, test_tpr_aw2v)))\n",
    "plt.legend()\n",
    "plt.xlabel(\"C: hyperparameter\")\n",
    "plt.ylabel(\"AUC\")\n",
    "plt.title(\"ERROR PLOTS\")\n",
    "plt.show()"
   ]
  },
  {
   "cell_type": "markdown",
   "metadata": {},
   "source": [
    "Calculating Confusion Matrix"
   ]
  },
  {
   "cell_type": "code",
   "execution_count": 134,
   "metadata": {},
   "outputs": [
    {
     "name": "stdout",
     "output_type": "stream",
     "text": [
      "\n",
      "Accuracy = 15.768226%\n",
      "\n",
      "precision= 0.000000%\n",
      "\n",
      "recall   = 0.000000%\n",
      "\n",
      "F1-Score = 0.000000%\n"
     ]
    }
   ],
   "source": [
    "clf = SVC(kernel='rbf', C = optimal_a7, class_weight='balanced') \n",
    "clf.fit(sent_vectors_train,y_train)\n",
    "\n",
    "predb1 = clf.predict(sent_vectors_test)\n",
    "\n",
    "acc_aw2v1 = accuracy_score(y_test, predb1) * 100\n",
    "pre_aw2v1 = precision_score(y_test, predb1) * 100\n",
    "rec_aw2v1 = recall_score(y_test, predb1) * 100\n",
    "f1_aw2v1 = f1_score(y_test, predb1) * 100\n",
    "\n",
    "print('\\nAccuracy = %f%%' % (acc_aw2v1))\n",
    "print('\\nprecision= %f%%' % (pre_aw2v1))\n",
    "print('\\nrecall   = %f%%' % (rec_aw2v1))\n",
    "print('\\nF1-Score = %f%%' % (f1_aw2v1))"
   ]
  },
  {
   "cell_type": "code",
   "execution_count": 135,
   "metadata": {},
   "outputs": [
    {
     "name": "stdout",
     "output_type": "stream",
     "text": [
      "\n",
      "Accuracy = 84.231774%\n",
      "\n",
      "precision= 84.231774%\n",
      "\n",
      "recall   = 100.000000%\n",
      "\n",
      "F1-Score = 91.441093%\n"
     ]
    }
   ],
   "source": [
    "clf = SVC(kernel='rbf', C = optimal_a7) \n",
    "clf.fit(sent_vectors_train,y_train)\n",
    "\n",
    "predb1 = clf.predict(sent_vectors_test)\n",
    "\n",
    "acc_aw2v1 = accuracy_score(y_test, predb1) * 100\n",
    "pre_aw2v1 = precision_score(y_test, predb1) * 100\n",
    "rec_aw2v1 = recall_score(y_test, predb1) * 100\n",
    "f1_aw2v1 = f1_score(y_test, predb1) * 100\n",
    "\n",
    "print('\\nAccuracy = %f%%' % (acc_aw2v1))\n",
    "print('\\nprecision= %f%%' % (pre_aw2v1))\n",
    "print('\\nrecall   = %f%%' % (rec_aw2v1))\n",
    "print('\\nF1-Score = %f%%' % (f1_aw2v1))"
   ]
  },
  {
   "cell_type": "code",
   "execution_count": 136,
   "metadata": {},
   "outputs": [
    {
     "data": {
      "image/png": "[encoded data removed]",
      "text/plain": [
       "<matplotlib.figure.Figure at 0x27e5a384080>"
      ]
     },
     "metadata": {},
     "output_type": "display_data"
    }
   ],
   "source": [
    "cm = confusion_matrix(y_test,predb1)\n",
    "sns.heatmap(cm, annot=True,fmt='d')\n",
    "plt.title('Confusion Matrix for BoW')\n",
    "plt.show()"
   ]
  },
  {
   "cell_type": "markdown",
   "metadata": {},
   "source": [
    "### [5.2.4]  Applying RBF SVM on TFIDF W2V,<font color='red'> SET 4</font>"
   ]
  },
  {
   "cell_type": "markdown",
   "metadata": {},
   "source": [
    "### Hyperparameter tuning using GridSearchCV"
   ]
  },
  {
   "cell_type": "code",
   "execution_count": 137,
   "metadata": {},
   "outputs": [
    {
     "name": "stdout",
     "output_type": "stream",
     "text": [
      "best C =  {'C': 1000}\n",
      "Accuracy on train data =  73.17460039388827\n"
     ]
    }
   ],
   "source": [
    "C = [0.001, 0.01, 0.1, 1, 10, 100, 1000]\n",
    "parameters = {'C': C}\n",
    "grid = GridSearchCV(SVC(kernel='rbf'), parameters, cv=3, scoring='roc_auc', n_jobs=-1, return_train_score=True)\n",
    "grid.fit(tfidf_sent_vectors_train, y_train)\n",
    "\n",
    "print(\"best C = \", grid.best_params_)\n",
    "print(\"Accuracy on train data = \", grid.best_score_*100)\n",
    "a = grid.best_params_ \n",
    "optimal_a8 = a.get('C')\n"
   ]
  },
  {
   "cell_type": "code",
   "execution_count": 138,
   "metadata": {},
   "outputs": [
    {
     "data": {
      "image/png": "[encoded data removed]",
      "text/plain": [
       "<matplotlib.figure.Figure at 0x27e76aa59b0>"
      ]
     },
     "metadata": {},
     "output_type": "display_data"
    }
   ],
   "source": [
    "train_auc_tw2v = grid.cv_results_['mean_train_score']\n",
    "cv_auc_tw2v    = grid.cv_results_['mean_test_score'] \n",
    "\n",
    "plt.plot(C, train_auc_tw2v, label='Train AUC')\n",
    "plt.scatter(C, train_auc_tw2v, label='Train AUC')\n",
    "\n",
    "plt.plot(C, cv_auc_tw2v, label='CV AUC')\n",
    "plt.scatter(C, cv_auc_tw2v, label='CV AUC')\n",
    "\n",
    "plt.legend()\n",
    "plt.xlabel(\"C: hyperparameter\")\n",
    "plt.ylabel(\"AUC\")\n",
    "plt.title(\"ERROR PLOTS\")\n",
    "plt.xscale('log')\n",
    "plt.show()"
   ]
  },
  {
   "cell_type": "markdown",
   "metadata": {},
   "source": [
    "Testing"
   ]
  },
  {
   "cell_type": "code",
   "execution_count": 139,
   "metadata": {},
   "outputs": [
    {
     "data": {
      "image/png": "[encoded data removed]",
      "text/plain": [
       "<matplotlib.figure.Figure at 0x27e612a6550>"
      ]
     },
     "metadata": {},
     "output_type": "display_data"
    }
   ],
   "source": [
    "clf = SVC(kernel='rbf', C = optimal_a8, probability=True)\n",
    "clf.fit(tfidf_sent_vectors_train, y_train)\n",
    "\n",
    "train_fpr_tw2v, train_tpr_tw2v, thresholds_tw2v = roc_curve(y_train, clf.predict_proba(tfidf_sent_vectors_train)[:,1])\n",
    "test_fpr_tw2v, test_tpr_tw2v, thresholds_tw2v = roc_curve(y_test, clf.predict_proba(tfidf_sent_vectors_test)[:,1])\n",
    "\n",
    "plt.plot(train_fpr_tw2v, train_tpr_tw2v, label=\"train AUC =\"+str(auc(train_fpr_tw2v, train_tpr_tw2v)))\n",
    "plt.plot(test_fpr_tw2v, test_tpr_tw2v, label=\"test AUC =\"+str(auc(test_fpr_tw2v, test_tpr_tw2v)))\n",
    "plt.legend()\n",
    "plt.xlabel(\"C: hyperparameter\")\n",
    "plt.ylabel(\"AUC\")\n",
    "plt.title(\"ERROR PLOTS\")\n",
    "plt.show()"
   ]
  },
  {
   "cell_type": "markdown",
   "metadata": {},
   "source": [
    "Calculating Confusion Matrix"
   ]
  },
  {
   "cell_type": "code",
   "execution_count": 192,
   "metadata": {},
   "outputs": [
    {
     "name": "stdout",
     "output_type": "stream",
     "text": [
      "\n",
      "Accuracy = 59.926383%\n",
      "\n",
      "precision= 89.854443%\n",
      "\n",
      "recall   = 58.716638%\n",
      "\n",
      "F1-Score = 71.022581%\n"
     ]
    }
   ],
   "source": [
    "clf = SVC(kernel='rbf', C = optimal_a8, class_weight='balanced') \n",
    "clf.fit(tfidf_sent_vectors_train,y_train)\n",
    "\n",
    "predb1 = clf.predict(sent_vectors_test)\n",
    "\n",
    "acc_tw2v1 = accuracy_score(y_test, predb1) * 100\n",
    "pre_tw2v1 = precision_score(y_test, predb1) * 100\n",
    "rec_tw2v1 = recall_score(y_test, predb1) * 100\n",
    "f1_tw2v1 = f1_score(y_test, predb1) * 100\n",
    "\n",
    "print('\\nAccuracy = %f%%' % (acc_tw2v1))\n",
    "print('\\nprecision= %f%%' % (pre_tw2v1))\n",
    "print('\\nrecall   = %f%%' % (rec_tw2v1))\n",
    "print('\\nF1-Score = %f%%' % (f1_tw2v1))"
   ]
  },
  {
   "cell_type": "code",
   "execution_count": 140,
   "metadata": {},
   "outputs": [
    {
     "name": "stdout",
     "output_type": "stream",
     "text": [
      "\n",
      "Accuracy = 84.231774%\n",
      "\n",
      "precision= 84.231774%\n",
      "\n",
      "recall   = 100.000000%\n",
      "\n",
      "F1-Score = 91.441093%\n"
     ]
    }
   ],
   "source": [
    "clf = SVC(kernel='rbf', C = optimal_a8) \n",
    "clf.fit(tfidf_sent_vectors_train,y_train)\n",
    "\n",
    "predb1 = clf.predict(sent_vectors_test)\n",
    "\n",
    "acc_tw2v1 = accuracy_score(y_test, predb1) * 100\n",
    "pre_tw2v1 = precision_score(y_test, predb1) * 100\n",
    "rec_tw2v1 = recall_score(y_test, predb1) * 100\n",
    "f1_tw2v1 = f1_score(y_test, predb1) * 100\n",
    "\n",
    "print('\\nAccuracy = %f%%' % (acc_tw2v1))\n",
    "print('\\nprecision= %f%%' % (pre_tw2v1))\n",
    "print('\\nrecall   = %f%%' % (rec_tw2v1))\n",
    "print('\\nF1-Score = %f%%' % (f1_tw2v1))"
   ]
  },
  {
   "cell_type": "code",
   "execution_count": 141,
   "metadata": {},
   "outputs": [
    {
     "data": {
      "image/png": "[encoded data removed]",
      "text/plain": [
       "<matplotlib.figure.Figure at 0x27e6100b898>"
      ]
     },
     "metadata": {},
     "output_type": "display_data"
    }
   ],
   "source": [
    "cm = confusion_matrix(y_test,predb1)\n",
    "sns.heatmap(cm, annot=True,fmt='d')\n",
    "plt.title('Confusion Matrix for BoW')\n",
    "plt.show()"
   ]
  },
  {
   "cell_type": "markdown",
   "metadata": {},
   "source": [
    "# [6] Conclusions"
   ]
  },
  {
   "cell_type": "markdown",
   "metadata": {},
   "source": [
    "1. For Liner SVM I have used 100k points and for RBF kernel I have used 30k data points.\n",
    "2. In terms of accuracy measures BoW is our best model."
   ]
  },
  {
   "cell_type": "code",
   "execution_count": 142,
   "metadata": {},
   "outputs": [
    {
     "name": "stdout",
     "output_type": "stream",
     "text": [
      "+-------+-----------+---------+--------+-------------------+-------------------+-------------------+-------------------+\n",
      "| Index |   Model   | Optimal |  SVM   |     Accuracy%     |     Precision%    |      Recall%      |        F1%        |\n",
      "+-------+-----------+---------+--------+-------------------+-------------------+-------------------+-------------------+\n",
      "|   1   |    Bow    |  0.001  | Linear | 87.95002278596384 | 97.10556468888556 | 88.26299583408803 |  92.4733733425054 |\n",
      "|   2   |    Bow    |  0.0001 |  RBF   | 88.41130372833057 | 95.56151325588323 | 90.44262757259656 |  92.9316338354577 |\n",
      "|   3   |   Tfidf   |   0.1   | Linear |  85.8916907185174 |  97.1846904700745 | 85.65930085129506 | 91.05874990974512 |\n",
      "|   4   |   Tfidf   |    1    |  RBF   | 84.23177392543339 | 84.23177392543339 |       100.0       |  91.441093065223  |\n",
      "|   5   |  Avg W2v  |   100   | Linear |  84.175148108765  |  84.175148108765  |       100.0       | 91.40771594119224 |\n",
      "|   6   |  Avg W2v  |    1    |  RBF   | 84.23177392543339 | 84.23177392543339 |       100.0       |  91.441093065223  |\n",
      "|   7   | Tfidf W2v |   1000  | Linear |  84.175148108765  |  84.175148108765  |       100.0       | 91.05874990974512 |\n",
      "|   8   | Tfidf W2v |   1000  |  RBF   | 84.23177392543339 | 84.23177392543339 |       100.0       |  91.441093065223  |\n",
      "+-------+-----------+---------+--------+-------------------+-------------------+-------------------+-------------------+\n"
     ]
    }
   ],
   "source": [
    "# Please compare all your models using Prettytable library\n",
    "number= [1,2,3,4,5,6,7,8]\n",
    "name= [\"Bow\", \"Bow\", \"Tfidf\", \"Tfidf\", \"Avg W2v\", \"Avg W2v\", \"Tfidf W2v\", \"Tfidf W2v\"]\n",
    "svm= [\"Linear\", \"RBF\", \"Linear\", \"RBF\", \"Linear\", \"RBF\", \"Linear\", \"RBF\"]\n",
    "optimal= [optimal_a1, optimal_a2, optimal_a4, optimal_a3, optimal_a5, optimal_a6, optimal_a7, optimal_a8]\n",
    "acc= [acc_b,acc_b1,acc_tf,acc_tf1,acc_aw2v,acc_aw2v1,acc_tw2v,acc_tw2v1]\n",
    "pre= [pre_b,pre_b1,pre_tf,pre_tf1,pre_aw2v,pre_aw2v1,pre_tw2v,pre_tw2v1]\n",
    "rec= [rec_b,rec_b1,rec_tf,rec_tf1,rec_aw2v,rec_aw2v1,rec_tw2v,rec_tw2v1]\n",
    "f1= [f1_b,f1_b1,f1_tf,f1_tf1,f1_aw2v,f1_aw2v1,f1_tf,f1_tw2v1]\n",
    "\n",
    "\n",
    "#Initialize Prettytable\n",
    "pt = PrettyTable()\n",
    "pt.add_column(\"Index\", number)\n",
    "pt.add_column(\"Model\", name)\n",
    "pt.add_column(\"Optimal\", optimal)\n",
    "pt.add_column(\"SVM\", svm)\n",
    "pt.add_column(\"Accuracy%\", acc)\n",
    "pt.add_column(\"Precision%\", pre)\n",
    "pt.add_column(\"Recall%\", rec)\n",
    "pt.add_column(\"F1%\", f1)\n",
    "\n",
    "print(pt)# Please compare all your models using Prettytable library"
   ]
  },
  {
   "cell_type": "code",
   "execution_count": null,
   "metadata": {},
   "outputs": [],
   "source": []
  }
 ],
 "metadata": {
  "kernelspec": {
   "display_name": "Python 3",
   "language": "python",
   "name": "python3"
  },
  "language_info": {
   "codemirror_mode": {
    "name": "ipython",
    "version": 3
   },
   "file_extension": ".py",
   "mimetype": "text/x-python",
   "name": "python",
   "nbconvert_exporter": "python",
   "pygments_lexer": "ipython3",
   "version": "3.6.4"
  }
 },
 "nbformat": 4,
 "nbformat_minor": 2
}
