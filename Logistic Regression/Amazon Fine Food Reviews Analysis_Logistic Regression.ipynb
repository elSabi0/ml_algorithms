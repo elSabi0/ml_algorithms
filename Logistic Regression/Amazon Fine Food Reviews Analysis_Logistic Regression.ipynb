{
 "cells": [
  {
   "cell_type": "markdown",
   "metadata": {
    "colab_type": "text",
    "id": "AM7jsfwALPlp"
   },
   "source": [
    "# Amazon Fine Food Reviews Analysis\n",
    "\n",
    "\n",
    "Data Source: https://www.kaggle.com/snap/amazon-fine-food-reviews <br>\n",
    "\n",
    "EDA: https://nycdatascience.com/blog/student-works/amazon-fine-foods-visualization/\n",
    "\n",
    "\n",
    "The Amazon Fine Food Reviews dataset consists of reviews of fine foods from Amazon.<br>\n",
    "\n",
    "Number of reviews: 568,454<br>\n",
    "Number of users: 256,059<br>\n",
    "Number of products: 74,258<br>\n",
    "Timespan: Oct 1999 - Oct 2012<br>\n",
    "Number of Attributes/Columns in data: 10 \n",
    "\n",
    "Attribute Information:\n",
    "\n",
    "1. Id\n",
    "2. ProductId - unique identifier for the product\n",
    "3. UserId - unqiue identifier for the user\n",
    "4. ProfileName\n",
    "5. HelpfulnessNumerator - number of users who found the review helpful\n",
    "6. HelpfulnessDenominator - number of users who indicated whether they found the review helpful or not\n",
    "7. Score - rating between 1 and 5\n",
    "8. Time - timestamp for the review\n",
    "9. Summary - brief summary of the review\n",
    "10. Text - text of the review\n",
    "\n",
    "\n",
    "#### Objective:\n",
    "Given a review, determine whether the review is positive (rating of 4 or 5) or negative (rating of 1 or 2).\n",
    "\n",
    "<br>\n",
    "[Q] How to determine if a review is positive or negative?<br>\n",
    "<br> \n",
    "[Ans] We could use Score/Rating. A rating of 4 or 5 can be cosnidered as a positive review. A rating of 1 or 2 can be considered as negative one. A review of rating 3 is considered nuetral and such reviews are ignored from our analysis. This is an approximate and proxy way of determining the polarity (positivity/negativity) of a review.\n",
    "\n",
    "\n"
   ]
  },
  {
   "cell_type": "markdown",
   "metadata": {
    "colab_type": "text",
    "id": "CaQ7XJ4OLPls"
   },
   "source": [
    "# [1]. Reading Data"
   ]
  },
  {
   "cell_type": "markdown",
   "metadata": {
    "colab_type": "text",
    "id": "5VnEBjKRLPlu"
   },
   "source": [
    "## [1.1] Loading the data\n",
    "\n",
    "The dataset is available in two forms\n",
    "1. .csv file\n",
    "2. SQLite Database\n",
    "\n",
    "In order to load the data, We have used the SQLITE dataset as it is easier to query the data and visualise the data efficiently.\n",
    "<br> \n",
    "\n",
    "Here as we only want to get the global sentiment of the recommendations (positive or negative), we will purposefully ignore all Scores equal to 3. If the score is above 3, then the recommendation wil be set to \"positive\". Otherwise, it will be set to \"negative\"."
   ]
  },
  {
   "cell_type": "code",
   "execution_count": 1,
   "metadata": {
    "colab": {},
    "colab_type": "code",
    "id": "x6YclOzXLPlv"
   },
   "outputs": [
    {
     "name": "stderr",
     "output_type": "stream",
     "text": [
      "C:\\Users\\hp\\Anaconda3\\lib\\site-packages\\sklearn\\externals\\joblib\\__init__.py:15: DeprecationWarning: sklearn.externals.joblib is deprecated in 0.21 and will be removed in 0.23. Please import this functionality directly from joblib, which can be installed with: pip install joblib. If this warning is raised when loading pickled models, you may need to re-serialize those models with scikit-learn 0.21+.\n",
      "  warnings.warn(msg, category=DeprecationWarning)\n"
     ]
    }
   ],
   "source": [
    "%matplotlib inline\n",
    "import warnings\n",
    "warnings.filterwarnings(\"ignore\")\n",
    "from bs4 import BeautifulSoup\n",
    "\n",
    "\n",
    "import sqlite3\n",
    "import pandas as pd\n",
    "import numpy as np\n",
    "import nltk\n",
    "import string\n",
    "import matplotlib.pyplot as plt\n",
    "import seaborn as sns\n",
    "from sklearn.feature_extraction.text import TfidfTransformer\n",
    "from sklearn.feature_extraction.text import TfidfVectorizer\n",
    "\n",
    "from sklearn.feature_extraction.text import CountVectorizer\n",
    "from sklearn.metrics import confusion_matrix\n",
    "from sklearn import metrics\n",
    "from sklearn.metrics import roc_curve, auc\n",
    "from nltk.stem.porter import PorterStemmer\n",
    "\n",
    "import re\n",
    "# Tutorial about Python regular expressions: https://pymotw.com/2/re/\n",
    "from nltk.corpus import stopwords\n",
    "from nltk.stem import PorterStemmer\n",
    "from nltk.stem.wordnet import WordNetLemmatizer\n",
    "\n",
    "from gensim.models import Word2Vec\n",
    "from gensim.models import KeyedVectors\n",
    "import pickle\n",
    "\n",
    "from tqdm import tqdm\n",
    "import os\n",
    "\n",
    "from sklearn.model_selection import train_test_split\n",
    "from sklearn.metrics import roc_auc_score\n",
    "from sklearn.model_selection import GridSearchCV\n",
    "from sklearn.linear_model import LogisticRegression\n",
    "\n",
    "from sklearn.metrics import accuracy_score\n",
    "from sklearn.metrics import precision_score\n",
    "from sklearn.metrics import f1_score\n",
    "from sklearn.metrics import recall_score\n",
    "from prettytable import PrettyTable\n",
    "from sklearn.externals import joblib"
   ]
  },
  {
   "cell_type": "code",
   "execution_count": 2,
   "metadata": {
    "colab": {},
    "colab_type": "code",
    "id": "NZ4OSpSiLPl0",
    "outputId": "241c4c64-6186-4351-e38f-fcd06c6896dd"
   },
   "outputs": [
    {
     "name": "stdout",
     "output_type": "stream",
     "text": [
      "Number of data points in our data (100000, 10)\n"
     ]
    },
    {
     "data": {
      "text/html": [
       "<div>\n",
       "<style scoped>\n",
       "    .dataframe tbody tr th:only-of-type {\n",
       "        vertical-align: middle;\n",
       "    }\n",
       "\n",
       "    .dataframe tbody tr th {\n",
       "        vertical-align: top;\n",
       "    }\n",
       "\n",
       "    .dataframe thead th {\n",
       "        text-align: right;\n",
       "    }\n",
       "</style>\n",
       "<table border=\"1\" class=\"dataframe\">\n",
       "  <thead>\n",
       "    <tr style=\"text-align: right;\">\n",
       "      <th></th>\n",
       "      <th>Id</th>\n",
       "      <th>ProductId</th>\n",
       "      <th>UserId</th>\n",
       "      <th>ProfileName</th>\n",
       "      <th>HelpfulnessNumerator</th>\n",
       "      <th>HelpfulnessDenominator</th>\n",
       "      <th>Score</th>\n",
       "      <th>Time</th>\n",
       "      <th>Summary</th>\n",
       "      <th>Text</th>\n",
       "    </tr>\n",
       "  </thead>\n",
       "  <tbody>\n",
       "    <tr>\n",
       "      <th>0</th>\n",
       "      <td>1</td>\n",
       "      <td>B001E4KFG0</td>\n",
       "      <td>A3SGXH7AUHU8GW</td>\n",
       "      <td>delmartian</td>\n",
       "      <td>1</td>\n",
       "      <td>1</td>\n",
       "      <td>1</td>\n",
       "      <td>1303862400</td>\n",
       "      <td>Good Quality Dog Food</td>\n",
       "      <td>I have bought several of the Vitality canned d...</td>\n",
       "    </tr>\n",
       "    <tr>\n",
       "      <th>1</th>\n",
       "      <td>2</td>\n",
       "      <td>B00813GRG4</td>\n",
       "      <td>A1D87F6ZCVE5NK</td>\n",
       "      <td>dll pa</td>\n",
       "      <td>0</td>\n",
       "      <td>0</td>\n",
       "      <td>0</td>\n",
       "      <td>1346976000</td>\n",
       "      <td>Not as Advertised</td>\n",
       "      <td>Product arrived labeled as Jumbo Salted Peanut...</td>\n",
       "    </tr>\n",
       "    <tr>\n",
       "      <th>2</th>\n",
       "      <td>3</td>\n",
       "      <td>B000LQOCH0</td>\n",
       "      <td>ABXLMWJIXXAIN</td>\n",
       "      <td>Natalia Corres \"Natalia Corres\"</td>\n",
       "      <td>1</td>\n",
       "      <td>1</td>\n",
       "      <td>1</td>\n",
       "      <td>1219017600</td>\n",
       "      <td>\"Delight\" says it all</td>\n",
       "      <td>This is a confection that has been around a fe...</td>\n",
       "    </tr>\n",
       "  </tbody>\n",
       "</table>\n",
       "</div>"
      ],
      "text/plain": [
       "   Id   ProductId          UserId                      ProfileName  \\\n",
       "0   1  B001E4KFG0  A3SGXH7AUHU8GW                       delmartian   \n",
       "1   2  B00813GRG4  A1D87F6ZCVE5NK                           dll pa   \n",
       "2   3  B000LQOCH0   ABXLMWJIXXAIN  Natalia Corres \"Natalia Corres\"   \n",
       "\n",
       "   HelpfulnessNumerator  HelpfulnessDenominator  Score        Time  \\\n",
       "0                     1                       1      1  1303862400   \n",
       "1                     0                       0      0  1346976000   \n",
       "2                     1                       1      1  1219017600   \n",
       "\n",
       "                 Summary                                               Text  \n",
       "0  Good Quality Dog Food  I have bought several of the Vitality canned d...  \n",
       "1      Not as Advertised  Product arrived labeled as Jumbo Salted Peanut...  \n",
       "2  \"Delight\" says it all  This is a confection that has been around a fe...  "
      ]
     },
     "execution_count": 2,
     "metadata": {},
     "output_type": "execute_result"
    }
   ],
   "source": [
    "# using SQLite Table to read data.\n",
    "con = sqlite3.connect('database.sqlite') \n",
    "\n",
    "# filtering only positive and negative reviews i.e. \n",
    "# not taking into consideration those reviews with Score=3\n",
    "# SELECT * FROM Reviews WHERE Score != 3 LIMIT 500000, will give top 500000 data points\n",
    "# you can change the number to any other number based on your computing power\n",
    "\n",
    "# filtered_data = pd.read_sql_query(\"\"\" SELECT * FROM Reviews WHERE Score != 3 LIMIT 500000\"\"\", con) \n",
    "# for tsne assignment you can take 5k data points\n",
    "\n",
    "filtered_data = pd.read_sql_query(\"\"\" SELECT * FROM Reviews WHERE Score != 3 LIMIT 100000\"\"\", con) \n",
    "\n",
    "# Give reviews with Score>3 a positive rating(1), and reviews with a score<3 a negative rating(0).\n",
    "def partition(x):\n",
    "    if x < 3:\n",
    "        return 0\n",
    "    return 1\n",
    "\n",
    "#changing reviews with score less than 3 to be positive and vice-versa\n",
    "actualScore = filtered_data['Score']\n",
    "positiveNegative = actualScore.map(partition) \n",
    "filtered_data['Score'] = positiveNegative\n",
    "print(\"Number of data points in our data\", filtered_data.shape)\n",
    "filtered_data.head(3)"
   ]
  },
  {
   "cell_type": "code",
   "execution_count": 3,
   "metadata": {
    "colab": {},
    "colab_type": "code",
    "id": "r44Y4VDjLPl7"
   },
   "outputs": [],
   "source": [
    "display = pd.read_sql_query(\"\"\"\n",
    "SELECT UserId, ProductId, ProfileName, Time, Score, Text, COUNT(*)\n",
    "FROM Reviews\n",
    "GROUP BY UserId\n",
    "HAVING COUNT(*)>1\n",
    "\"\"\", con)"
   ]
  },
  {
   "cell_type": "code",
   "execution_count": 4,
   "metadata": {
    "colab": {},
    "colab_type": "code",
    "id": "tTwINQv1LPl_",
    "outputId": "0385b9ca-0a35-4c2b-b656-8e8494414e6f",
    "scrolled": true
   },
   "outputs": [
    {
     "name": "stdout",
     "output_type": "stream",
     "text": [
      "(80668, 7)\n"
     ]
    },
    {
     "data": {
      "text/html": [
       "<div>\n",
       "<style scoped>\n",
       "    .dataframe tbody tr th:only-of-type {\n",
       "        vertical-align: middle;\n",
       "    }\n",
       "\n",
       "    .dataframe tbody tr th {\n",
       "        vertical-align: top;\n",
       "    }\n",
       "\n",
       "    .dataframe thead th {\n",
       "        text-align: right;\n",
       "    }\n",
       "</style>\n",
       "<table border=\"1\" class=\"dataframe\">\n",
       "  <thead>\n",
       "    <tr style=\"text-align: right;\">\n",
       "      <th></th>\n",
       "      <th>UserId</th>\n",
       "      <th>ProductId</th>\n",
       "      <th>ProfileName</th>\n",
       "      <th>Time</th>\n",
       "      <th>Score</th>\n",
       "      <th>Text</th>\n",
       "      <th>COUNT(*)</th>\n",
       "    </tr>\n",
       "  </thead>\n",
       "  <tbody>\n",
       "    <tr>\n",
       "      <th>0</th>\n",
       "      <td>#oc-R115TNMSPFT9I7</td>\n",
       "      <td>B007Y59HVM</td>\n",
       "      <td>Breyton</td>\n",
       "      <td>1331510400</td>\n",
       "      <td>2</td>\n",
       "      <td>Overall its just OK when considering the price...</td>\n",
       "      <td>2</td>\n",
       "    </tr>\n",
       "    <tr>\n",
       "      <th>1</th>\n",
       "      <td>#oc-R11D9D7SHXIJB9</td>\n",
       "      <td>B005HG9ET0</td>\n",
       "      <td>Louis E. Emory \"hoppy\"</td>\n",
       "      <td>1342396800</td>\n",
       "      <td>5</td>\n",
       "      <td>My wife has recurring extreme muscle spasms, u...</td>\n",
       "      <td>3</td>\n",
       "    </tr>\n",
       "    <tr>\n",
       "      <th>2</th>\n",
       "      <td>#oc-R11DNU2NBKQ23Z</td>\n",
       "      <td>B007Y59HVM</td>\n",
       "      <td>Kim Cieszykowski</td>\n",
       "      <td>1348531200</td>\n",
       "      <td>1</td>\n",
       "      <td>This coffee is horrible and unfortunately not ...</td>\n",
       "      <td>2</td>\n",
       "    </tr>\n",
       "  </tbody>\n",
       "</table>\n",
       "</div>"
      ],
      "text/plain": [
       "               UserId   ProductId             ProfileName        Time  Score  \\\n",
       "0  #oc-R115TNMSPFT9I7  B007Y59HVM                 Breyton  1331510400      2   \n",
       "1  #oc-R11D9D7SHXIJB9  B005HG9ET0  Louis E. Emory \"hoppy\"  1342396800      5   \n",
       "2  #oc-R11DNU2NBKQ23Z  B007Y59HVM        Kim Cieszykowski  1348531200      1   \n",
       "\n",
       "                                                Text  COUNT(*)  \n",
       "0  Overall its just OK when considering the price...         2  \n",
       "1  My wife has recurring extreme muscle spasms, u...         3  \n",
       "2  This coffee is horrible and unfortunately not ...         2  "
      ]
     },
     "execution_count": 4,
     "metadata": {},
     "output_type": "execute_result"
    }
   ],
   "source": [
    "print(display.shape)\n",
    "display.head(3)"
   ]
  },
  {
   "cell_type": "code",
   "execution_count": 5,
   "metadata": {
    "colab": {},
    "colab_type": "code",
    "id": "EOslHQgnLPmF",
    "outputId": "cb28598d-470a-42bb-e742-4763f953c8cb"
   },
   "outputs": [
    {
     "data": {
      "text/html": [
       "<div>\n",
       "<style scoped>\n",
       "    .dataframe tbody tr th:only-of-type {\n",
       "        vertical-align: middle;\n",
       "    }\n",
       "\n",
       "    .dataframe tbody tr th {\n",
       "        vertical-align: top;\n",
       "    }\n",
       "\n",
       "    .dataframe thead th {\n",
       "        text-align: right;\n",
       "    }\n",
       "</style>\n",
       "<table border=\"1\" class=\"dataframe\">\n",
       "  <thead>\n",
       "    <tr style=\"text-align: right;\">\n",
       "      <th></th>\n",
       "      <th>UserId</th>\n",
       "      <th>ProductId</th>\n",
       "      <th>ProfileName</th>\n",
       "      <th>Time</th>\n",
       "      <th>Score</th>\n",
       "      <th>Text</th>\n",
       "      <th>COUNT(*)</th>\n",
       "    </tr>\n",
       "  </thead>\n",
       "  <tbody>\n",
       "    <tr>\n",
       "      <th>80638</th>\n",
       "      <td>AZY10LLTJ71NX</td>\n",
       "      <td>B006P7E5ZI</td>\n",
       "      <td>undertheshrine \"undertheshrine\"</td>\n",
       "      <td>1334707200</td>\n",
       "      <td>5</td>\n",
       "      <td>I was recommended to try green tea extract to ...</td>\n",
       "      <td>5</td>\n",
       "    </tr>\n",
       "  </tbody>\n",
       "</table>\n",
       "</div>"
      ],
      "text/plain": [
       "              UserId   ProductId                      ProfileName        Time  \\\n",
       "80638  AZY10LLTJ71NX  B006P7E5ZI  undertheshrine \"undertheshrine\"  1334707200   \n",
       "\n",
       "       Score                                               Text  COUNT(*)  \n",
       "80638      5  I was recommended to try green tea extract to ...         5  "
      ]
     },
     "execution_count": 5,
     "metadata": {},
     "output_type": "execute_result"
    }
   ],
   "source": [
    "display[display['UserId']=='AZY10LLTJ71NX']"
   ]
  },
  {
   "cell_type": "code",
   "execution_count": 6,
   "metadata": {
    "colab": {},
    "colab_type": "code",
    "id": "pSwF4sdoLPmM",
    "outputId": "2f3bd7f2-0eea-45f7-eab6-bf08c630d9a3"
   },
   "outputs": [
    {
     "data": {
      "text/plain": [
       "393063"
      ]
     },
     "execution_count": 6,
     "metadata": {},
     "output_type": "execute_result"
    }
   ],
   "source": [
    "display['COUNT(*)'].sum()"
   ]
  },
  {
   "cell_type": "markdown",
   "metadata": {
    "colab_type": "text",
    "id": "PuNkhjz0LPmQ"
   },
   "source": [
    "#  [2] Exploratory Data Analysis"
   ]
  },
  {
   "cell_type": "markdown",
   "metadata": {
    "colab_type": "text",
    "id": "oCJaTWrTLPmS"
   },
   "source": [
    "## [2.1] Data Cleaning: Deduplication\n",
    "\n",
    "It is observed (as shown in the table below) that the reviews data had many duplicate entries. Hence it was necessary to remove duplicates in order to get unbiased results for the analysis of the data.  Following is an example:"
   ]
  },
  {
   "cell_type": "code",
   "execution_count": 7,
   "metadata": {
    "colab": {},
    "colab_type": "code",
    "id": "3lvzRwWVLPmT",
    "outputId": "96ba6f90-6c40-4972-ecd2-d2d208e48877",
    "scrolled": false
   },
   "outputs": [
    {
     "data": {
      "text/html": [
       "<div>\n",
       "<style scoped>\n",
       "    .dataframe tbody tr th:only-of-type {\n",
       "        vertical-align: middle;\n",
       "    }\n",
       "\n",
       "    .dataframe tbody tr th {\n",
       "        vertical-align: top;\n",
       "    }\n",
       "\n",
       "    .dataframe thead th {\n",
       "        text-align: right;\n",
       "    }\n",
       "</style>\n",
       "<table border=\"1\" class=\"dataframe\">\n",
       "  <thead>\n",
       "    <tr style=\"text-align: right;\">\n",
       "      <th></th>\n",
       "      <th>Id</th>\n",
       "      <th>ProductId</th>\n",
       "      <th>UserId</th>\n",
       "      <th>ProfileName</th>\n",
       "      <th>HelpfulnessNumerator</th>\n",
       "      <th>HelpfulnessDenominator</th>\n",
       "      <th>Score</th>\n",
       "      <th>Time</th>\n",
       "      <th>Summary</th>\n",
       "      <th>Text</th>\n",
       "    </tr>\n",
       "  </thead>\n",
       "  <tbody>\n",
       "    <tr>\n",
       "      <th>0</th>\n",
       "      <td>78445</td>\n",
       "      <td>B000HDL1RQ</td>\n",
       "      <td>AR5J8UI46CURR</td>\n",
       "      <td>Geetha Krishnan</td>\n",
       "      <td>2</td>\n",
       "      <td>2</td>\n",
       "      <td>5</td>\n",
       "      <td>1199577600</td>\n",
       "      <td>LOACKER QUADRATINI VANILLA WAFERS</td>\n",
       "      <td>DELICIOUS WAFERS. I FIND THAT EUROPEAN WAFERS ...</td>\n",
       "    </tr>\n",
       "    <tr>\n",
       "      <th>1</th>\n",
       "      <td>138317</td>\n",
       "      <td>B000HDOPYC</td>\n",
       "      <td>AR5J8UI46CURR</td>\n",
       "      <td>Geetha Krishnan</td>\n",
       "      <td>2</td>\n",
       "      <td>2</td>\n",
       "      <td>5</td>\n",
       "      <td>1199577600</td>\n",
       "      <td>LOACKER QUADRATINI VANILLA WAFERS</td>\n",
       "      <td>DELICIOUS WAFERS. I FIND THAT EUROPEAN WAFERS ...</td>\n",
       "    </tr>\n",
       "    <tr>\n",
       "      <th>2</th>\n",
       "      <td>138277</td>\n",
       "      <td>B000HDOPYM</td>\n",
       "      <td>AR5J8UI46CURR</td>\n",
       "      <td>Geetha Krishnan</td>\n",
       "      <td>2</td>\n",
       "      <td>2</td>\n",
       "      <td>5</td>\n",
       "      <td>1199577600</td>\n",
       "      <td>LOACKER QUADRATINI VANILLA WAFERS</td>\n",
       "      <td>DELICIOUS WAFERS. I FIND THAT EUROPEAN WAFERS ...</td>\n",
       "    </tr>\n",
       "  </tbody>\n",
       "</table>\n",
       "</div>"
      ],
      "text/plain": [
       "       Id   ProductId         UserId      ProfileName  HelpfulnessNumerator  \\\n",
       "0   78445  B000HDL1RQ  AR5J8UI46CURR  Geetha Krishnan                     2   \n",
       "1  138317  B000HDOPYC  AR5J8UI46CURR  Geetha Krishnan                     2   \n",
       "2  138277  B000HDOPYM  AR5J8UI46CURR  Geetha Krishnan                     2   \n",
       "\n",
       "   HelpfulnessDenominator  Score        Time  \\\n",
       "0                       2      5  1199577600   \n",
       "1                       2      5  1199577600   \n",
       "2                       2      5  1199577600   \n",
       "\n",
       "                             Summary  \\\n",
       "0  LOACKER QUADRATINI VANILLA WAFERS   \n",
       "1  LOACKER QUADRATINI VANILLA WAFERS   \n",
       "2  LOACKER QUADRATINI VANILLA WAFERS   \n",
       "\n",
       "                                                Text  \n",
       "0  DELICIOUS WAFERS. I FIND THAT EUROPEAN WAFERS ...  \n",
       "1  DELICIOUS WAFERS. I FIND THAT EUROPEAN WAFERS ...  \n",
       "2  DELICIOUS WAFERS. I FIND THAT EUROPEAN WAFERS ...  "
      ]
     },
     "execution_count": 7,
     "metadata": {},
     "output_type": "execute_result"
    }
   ],
   "source": [
    "display= pd.read_sql_query(\"\"\"\n",
    "SELECT *\n",
    "FROM Reviews\n",
    "WHERE Score != 3 AND UserId=\"AR5J8UI46CURR\"\n",
    "ORDER BY ProductID\n",
    "\"\"\", con)\n",
    "display.head(3)"
   ]
  },
  {
   "cell_type": "markdown",
   "metadata": {
    "colab_type": "text",
    "id": "uT7p9_deLPmb"
   },
   "source": [
    "As it can be seen above that same user has multiple reviews with same values for HelpfulnessNumerator, HelpfulnessDenominator, Score, Time, Summary and Text and on doing analysis it was found that <br>\n",
    "<br> \n",
    "ProductId=B000HDOPZG was Loacker Quadratini Vanilla Wafer Cookies, 8.82-Ounce Packages (Pack of 8)<br>\n",
    "<br> \n",
    "ProductId=B000HDL1RQ was Loacker Quadratini Lemon Wafer Cookies, 8.82-Ounce Packages (Pack of 8) and so on<br>\n",
    "\n",
    "It was inferred after analysis that reviews with same parameters other than ProductId belonged to the same product just having different flavour or quantity. Hence in order to reduce redundancy it was decided to eliminate the rows having same parameters.<br>\n",
    "\n",
    "The method used for the same was that we first sort the data according to ProductId and then just keep the first similar product review and delelte the others. for eg. in the above just the review for ProductId=B000HDL1RQ remains. This method ensures that there is only one representative for each product and deduplication without sorting would lead to possibility of different representatives still existing for the same product."
   ]
  },
  {
   "cell_type": "code",
   "execution_count": 8,
   "metadata": {
    "colab": {},
    "colab_type": "code",
    "id": "mdsKFc50LPme"
   },
   "outputs": [],
   "source": [
    "#Sorting data according to ProductId in ascending order\n",
    "sorted_data=filtered_data.sort_values('ProductId', axis=0, ascending=True, inplace=False, kind='quicksort', na_position='last')"
   ]
  },
  {
   "cell_type": "code",
   "execution_count": 9,
   "metadata": {
    "colab": {},
    "colab_type": "code",
    "id": "2itLgX-NLPmk",
    "outputId": "ac765625-dfdc-4e4e-f886-bd3b7ca3635a"
   },
   "outputs": [
    {
     "data": {
      "text/plain": [
       "(87775, 10)"
      ]
     },
     "execution_count": 9,
     "metadata": {},
     "output_type": "execute_result"
    }
   ],
   "source": [
    "#Deduplication of entries\n",
    "final=sorted_data.drop_duplicates(subset={\"UserId\",\"ProfileName\",\"Time\",\"Text\"}, keep='first', inplace=False)\n",
    "final.shape"
   ]
  },
  {
   "cell_type": "code",
   "execution_count": 10,
   "metadata": {
    "colab": {},
    "colab_type": "code",
    "id": "IBU4iZk4LPmt",
    "outputId": "ceeba223-fe3f-407a-b4e5-0d46c08f69dd"
   },
   "outputs": [
    {
     "data": {
      "text/plain": [
       "87.775"
      ]
     },
     "execution_count": 10,
     "metadata": {},
     "output_type": "execute_result"
    }
   ],
   "source": [
    "#Checking to see how much % of data still remains\n",
    "(final['Id'].size*1.0)/(filtered_data['Id'].size*1.0)*100"
   ]
  },
  {
   "cell_type": "markdown",
   "metadata": {
    "colab_type": "text",
    "id": "gFBOfSe4LPmy"
   },
   "source": [
    "<b>Observation:-</b> It was also seen that in two rows given below the value of HelpfulnessNumerator is greater than HelpfulnessDenominator which is not practically possible hence these two rows too are removed from calcualtions"
   ]
  },
  {
   "cell_type": "code",
   "execution_count": 11,
   "metadata": {
    "colab": {},
    "colab_type": "code",
    "id": "50flE40lLPmz",
    "outputId": "b6c7e38e-25c1-4a48-be1f-70fdf31aba13"
   },
   "outputs": [
    {
     "data": {
      "text/html": [
       "<div>\n",
       "<style scoped>\n",
       "    .dataframe tbody tr th:only-of-type {\n",
       "        vertical-align: middle;\n",
       "    }\n",
       "\n",
       "    .dataframe tbody tr th {\n",
       "        vertical-align: top;\n",
       "    }\n",
       "\n",
       "    .dataframe thead th {\n",
       "        text-align: right;\n",
       "    }\n",
       "</style>\n",
       "<table border=\"1\" class=\"dataframe\">\n",
       "  <thead>\n",
       "    <tr style=\"text-align: right;\">\n",
       "      <th></th>\n",
       "      <th>Id</th>\n",
       "      <th>ProductId</th>\n",
       "      <th>UserId</th>\n",
       "      <th>ProfileName</th>\n",
       "      <th>HelpfulnessNumerator</th>\n",
       "      <th>HelpfulnessDenominator</th>\n",
       "      <th>Score</th>\n",
       "      <th>Time</th>\n",
       "      <th>Summary</th>\n",
       "      <th>Text</th>\n",
       "    </tr>\n",
       "  </thead>\n",
       "  <tbody>\n",
       "    <tr>\n",
       "      <th>0</th>\n",
       "      <td>64422</td>\n",
       "      <td>B000MIDROQ</td>\n",
       "      <td>A161DK06JJMCYF</td>\n",
       "      <td>J. E. Stephens \"Jeanne\"</td>\n",
       "      <td>3</td>\n",
       "      <td>1</td>\n",
       "      <td>5</td>\n",
       "      <td>1224892800</td>\n",
       "      <td>Bought This for My Son at College</td>\n",
       "      <td>My son loves spaghetti so I didn't hesitate or...</td>\n",
       "    </tr>\n",
       "    <tr>\n",
       "      <th>1</th>\n",
       "      <td>44737</td>\n",
       "      <td>B001EQ55RW</td>\n",
       "      <td>A2V0I904FH7ABY</td>\n",
       "      <td>Ram</td>\n",
       "      <td>3</td>\n",
       "      <td>2</td>\n",
       "      <td>4</td>\n",
       "      <td>1212883200</td>\n",
       "      <td>Pure cocoa taste with crunchy almonds inside</td>\n",
       "      <td>It was almost a 'love at first bite' - the per...</td>\n",
       "    </tr>\n",
       "  </tbody>\n",
       "</table>\n",
       "</div>"
      ],
      "text/plain": [
       "      Id   ProductId          UserId              ProfileName  \\\n",
       "0  64422  B000MIDROQ  A161DK06JJMCYF  J. E. Stephens \"Jeanne\"   \n",
       "1  44737  B001EQ55RW  A2V0I904FH7ABY                      Ram   \n",
       "\n",
       "   HelpfulnessNumerator  HelpfulnessDenominator  Score        Time  \\\n",
       "0                     3                       1      5  1224892800   \n",
       "1                     3                       2      4  1212883200   \n",
       "\n",
       "                                        Summary  \\\n",
       "0             Bought This for My Son at College   \n",
       "1  Pure cocoa taste with crunchy almonds inside   \n",
       "\n",
       "                                                Text  \n",
       "0  My son loves spaghetti so I didn't hesitate or...  \n",
       "1  It was almost a 'love at first bite' - the per...  "
      ]
     },
     "execution_count": 11,
     "metadata": {},
     "output_type": "execute_result"
    }
   ],
   "source": [
    "display= pd.read_sql_query(\"\"\"\n",
    "SELECT *\n",
    "FROM Reviews\n",
    "WHERE Score != 3 AND Id=44737 OR Id=64422\n",
    "ORDER BY ProductID\n",
    "\"\"\", con)\n",
    "\n",
    "display.head()"
   ]
  },
  {
   "cell_type": "code",
   "execution_count": 12,
   "metadata": {
    "colab": {},
    "colab_type": "code",
    "id": "0YTPJMLTLPm7"
   },
   "outputs": [],
   "source": [
    "final=final[final.HelpfulnessNumerator<=final.HelpfulnessDenominator]"
   ]
  },
  {
   "cell_type": "code",
   "execution_count": 13,
   "metadata": {
    "colab": {},
    "colab_type": "code",
    "id": "LVJ_l-x2LPnC",
    "outputId": "d4a19c7a-16fe-4b5b-c3d1-aa1ef0f948a0"
   },
   "outputs": [
    {
     "name": "stdout",
     "output_type": "stream",
     "text": [
      "(87773, 10)\n"
     ]
    },
    {
     "data": {
      "text/plain": [
       "1    73592\n",
       "0    14181\n",
       "Name: Score, dtype: int64"
      ]
     },
     "execution_count": 13,
     "metadata": {},
     "output_type": "execute_result"
    }
   ],
   "source": [
    "#Before starting the next phase of preprocessing lets see the number of entries left\n",
    "print(final.shape)\n",
    "\n",
    "#How many positive and negative reviews are present in our dataset?\n",
    "final['Score'].value_counts()"
   ]
  },
  {
   "cell_type": "markdown",
   "metadata": {
    "colab_type": "text",
    "id": "GrTYWzYrLPnH"
   },
   "source": [
    "#  [3] Preprocessing"
   ]
  },
  {
   "cell_type": "markdown",
   "metadata": {
    "colab_type": "text",
    "id": "zbvLitZeLPnI"
   },
   "source": [
    "## [3.1].  Preprocessing Review Text\n",
    "\n",
    "Now that we have finished deduplication our data requires some preprocessing before we go on further with analysis and making the prediction model.\n",
    "\n",
    "Hence in the Preprocessing phase we do the following in the order below:-\n",
    "\n",
    "1. Begin by removing the html tags\n",
    "2. Remove any punctuations or limited set of special characters like , or . or # etc.\n",
    "3. Check if the word is made up of english letters and is not alpha-numeric\n",
    "4. Check to see if the length of the word is greater than 2 (as it was researched that there is no adjective in 2-letters)\n",
    "5. Convert the word to lowercase\n",
    "6. Remove Stopwords\n",
    "7. Finally Snowball Stemming the word (it was obsereved to be better than Porter Stemming)<br>\n",
    "\n",
    "After which we collect the words used to describe positive and negative reviews"
   ]
  },
  {
   "cell_type": "code",
   "execution_count": 14,
   "metadata": {
    "colab": {},
    "colab_type": "code",
    "id": "yYDc0ZXALPnK",
    "outputId": "5403fab9-796a-493d-f9d3-2a410d004f64"
   },
   "outputs": [
    {
     "name": "stdout",
     "output_type": "stream",
     "text": [
      "My dogs loves this chicken but its a product from China, so we wont be buying it anymore.  Its very hard to find any chicken products made in the USA but they are out there, but this one isnt.  Its too bad too because its a good product but I wont take any chances till they know what is going on with the china imports.\n",
      "==================================================\n",
      "The Candy Blocks were a nice visual for the Lego Birthday party but the candy has little taste to it.  Very little of the 2 lbs that I bought were eaten and I threw the rest away.  I would not buy the candy again.\n",
      "==================================================\n",
      "was way to hot for my blood, took a bite and did a jig  lol\n",
      "==================================================\n",
      "My dog LOVES these treats. They tend to have a very strong fish oil smell. So if you are afraid of the fishy smell, don't get it. But I think my dog likes it because of the smell. These treats are really small in size. They are great for training. You can give your dog several of these without worrying about him over eating. Amazon's price was much more reasonable than any other retailer. You can buy a 1 pound bag on Amazon for almost the same price as a 6 ounce bag at other retailers. It's definitely worth it to buy a big bag if your dog eats them a lot.\n",
      "==================================================\n"
     ]
    }
   ],
   "source": [
    "# printing some random reviews\n",
    "sent_0 = final['Text'].values[0]\n",
    "print(sent_0)\n",
    "print(\"=\"*50)\n",
    "\n",
    "sent_1000 = final['Text'].values[1000]\n",
    "print(sent_1000)\n",
    "print(\"=\"*50)\n",
    "\n",
    "sent_1500 = final['Text'].values[1500]\n",
    "print(sent_1500)\n",
    "print(\"=\"*50)\n",
    "\n",
    "sent_4900 = final['Text'].values[4900]\n",
    "print(sent_4900)\n",
    "print(\"=\"*50)"
   ]
  },
  {
   "cell_type": "code",
   "execution_count": 15,
   "metadata": {
    "colab": {},
    "colab_type": "code",
    "id": "AxYh-wPiLPnS",
    "outputId": "31bddcb2-6c52-4b16-f9fb-c03d5b3bb7c8"
   },
   "outputs": [
    {
     "name": "stdout",
     "output_type": "stream",
     "text": [
      "My dogs loves this chicken but its a product from China, so we wont be buying it anymore.  Its very hard to find any chicken products made in the USA but they are out there, but this one isnt.  Its too bad too because its a good product but I wont take any chances till they know what is going on with the china imports.\n"
     ]
    }
   ],
   "source": [
    "# remove urls from text python: https://stackoverflow.com/a/40823105/4084039\n",
    "sent_0 = re.sub(r\"http\\S+\", \"\", sent_0)\n",
    "sent_1000 = re.sub(r\"http\\S+\", \"\", sent_1000)\n",
    "sent_150 = re.sub(r\"http\\S+\", \"\", sent_1500)\n",
    "sent_4900 = re.sub(r\"http\\S+\", \"\", sent_4900)\n",
    "\n",
    "print(sent_0)"
   ]
  },
  {
   "cell_type": "code",
   "execution_count": 16,
   "metadata": {
    "colab": {},
    "colab_type": "code",
    "id": "JMSSWjZqLPne",
    "outputId": "eb1bae4e-6f37-45ee-84a3-ef3bebf4e30a"
   },
   "outputs": [
    {
     "name": "stdout",
     "output_type": "stream",
     "text": [
      "My dogs loves this chicken but its a product from China, so we wont be buying it anymore.  Its very hard to find any chicken products made in the USA but they are out there, but this one isnt.  Its too bad too because its a good product but I wont take any chances till they know what is going on with the china imports.\n",
      "==================================================\n",
      "The Candy Blocks were a nice visual for the Lego Birthday party but the candy has little taste to it.  Very little of the 2 lbs that I bought were eaten and I threw the rest away.  I would not buy the candy again.\n",
      "==================================================\n",
      "was way to hot for my blood, took a bite and did a jig  lol\n",
      "==================================================\n",
      "My dog LOVES these treats. They tend to have a very strong fish oil smell. So if you are afraid of the fishy smell, don't get it. But I think my dog likes it because of the smell. These treats are really small in size. They are great for training. You can give your dog several of these without worrying about him over eating. Amazon's price was much more reasonable than any other retailer. You can buy a 1 pound bag on Amazon for almost the same price as a 6 ounce bag at other retailers. It's definitely worth it to buy a big bag if your dog eats them a lot.\n"
     ]
    }
   ],
   "source": [
    "# https://stackoverflow.com/questions/16206380/python-beautifulsoup-how-to-remove-all-tags-from-an-element\n",
    "\n",
    "soup = BeautifulSoup(sent_0, 'lxml')\n",
    "text = soup.get_text()\n",
    "print(text)\n",
    "print(\"=\"*50)\n",
    "\n",
    "soup = BeautifulSoup(sent_1000, 'lxml')\n",
    "text = soup.get_text()\n",
    "print(text)\n",
    "print(\"=\"*50)\n",
    "\n",
    "soup = BeautifulSoup(sent_1500, 'lxml')\n",
    "text = soup.get_text()\n",
    "print(text)\n",
    "print(\"=\"*50)\n",
    "\n",
    "soup = BeautifulSoup(sent_4900, 'lxml')\n",
    "text = soup.get_text()\n",
    "print(text)"
   ]
  },
  {
   "cell_type": "code",
   "execution_count": 14,
   "metadata": {
    "colab": {},
    "colab_type": "code",
    "id": "BEtpMkhULPnt"
   },
   "outputs": [],
   "source": [
    "# https://stackoverflow.com/a/47091490/4084039\n",
    "import re\n",
    "\n",
    "def decontracted(phrase):\n",
    "    # specific\n",
    "    phrase = re.sub(r\"won't\", \"will not\", phrase)\n",
    "    phrase = re.sub(r\"can\\'t\", \"can not\", phrase)\n",
    "\n",
    "    # general\n",
    "    phrase = re.sub(r\"n\\'t\", \" not\", phrase)\n",
    "    phrase = re.sub(r\"\\'re\", \" are\", phrase)\n",
    "    phrase = re.sub(r\"\\'s\", \" is\", phrase)\n",
    "    phrase = re.sub(r\"\\'d\", \" would\", phrase)\n",
    "    phrase = re.sub(r\"\\'ll\", \" will\", phrase)\n",
    "    phrase = re.sub(r\"\\'t\", \" not\", phrase)\n",
    "    phrase = re.sub(r\"\\'ve\", \" have\", phrase)\n",
    "    phrase = re.sub(r\"\\'m\", \" am\", phrase)\n",
    "    return phrase"
   ]
  },
  {
   "cell_type": "code",
   "execution_count": 0,
   "metadata": {
    "colab": {},
    "colab_type": "code",
    "id": "GavAnzNjLPnx",
    "outputId": "517fca9a-b1b6-4c6c-ab33-4c5ac4a5bd62"
   },
   "outputs": [
    {
     "name": "stdout",
     "output_type": "stream",
     "text": [
      "Wow.  So far, two two-star reviews.  One obviously had no idea what they were ordering; the other wants crispy cookies.  Hey, I am sorry; but these reviews do nobody any good beyond reminding us to look  before ordering.<br /><br />These are chocolate-oatmeal cookies.  If you do not like that combination, do not order this type of cookie.  I find the combo quite nice, really.  The oatmeal sort of \"calms\" the rich chocolate flavor and gives the cookie sort of a coconut-type consistency.  Now let is also remember that tastes differ; so, I have given my opinion.<br /><br />Then, these are soft, chewy cookies -- as advertised.  They are not \"crispy\" cookies, or the blurb would say \"crispy,\" rather than \"chewy.\"  I happen to like raw cookie dough; however, I do not see where these taste like raw cookie dough.  Both are soft, however, so is this the confusion?  And, yes, they stick together.  Soft cookies tend to do that.  They are not individually wrapped, which would add to the cost.  Oh yeah, chocolate chip cookies tend to be somewhat sweet.<br /><br />So, if you want something hard and crisp, I suggest Nabiso is Ginger Snaps.  If you want a cookie that is soft, chewy and tastes like a combination of chocolate and oatmeal, give these a try.  I am here to place my second order.\n",
      "==================================================\n"
     ]
    }
   ],
   "source": [
    "sent_1500 = decontracted(sent_1500)\n",
    "print(sent_1500)\n",
    "print(\"=\"*50)"
   ]
  },
  {
   "cell_type": "code",
   "execution_count": 0,
   "metadata": {
    "colab": {},
    "colab_type": "code",
    "id": "Kl8nOoL-LPn3",
    "outputId": "16742d57-2529-4fc0-9d28-e9332dbbca97"
   },
   "outputs": [
    {
     "name": "stdout",
     "output_type": "stream",
     "text": [
      "Why is this $[...] when the same product is available for $[...] here?<br /> /><br />The Victor  and  traps are unreal, of course -- total fly genocide. Pretty stinky, but only right nearby.\n"
     ]
    }
   ],
   "source": [
    "#remove words with numbers python: https://stackoverflow.com/a/18082370/4084039\n",
    "sent_0 = re.sub(\"\\S*\\d\\S*\", \"\", sent_0).strip()\n",
    "print(sent_0)"
   ]
  },
  {
   "cell_type": "code",
   "execution_count": 0,
   "metadata": {
    "colab": {},
    "colab_type": "code",
    "id": "EGB6X2uxLPn7",
    "outputId": "dbd754e5-eb73-4b3a-f3c3-7b1b40952851"
   },
   "outputs": [
    {
     "name": "stdout",
     "output_type": "stream",
     "text": [
      "Wow So far two two star reviews One obviously had no idea what they were ordering the other wants crispy cookies Hey I am sorry but these reviews do nobody any good beyond reminding us to look before ordering br br These are chocolate oatmeal cookies If you do not like that combination do not order this type of cookie I find the combo quite nice really The oatmeal sort of calms the rich chocolate flavor and gives the cookie sort of a coconut type consistency Now let is also remember that tastes differ so I have given my opinion br br Then these are soft chewy cookies as advertised They are not crispy cookies or the blurb would say crispy rather than chewy I happen to like raw cookie dough however I do not see where these taste like raw cookie dough Both are soft however so is this the confusion And yes they stick together Soft cookies tend to do that They are not individually wrapped which would add to the cost Oh yeah chocolate chip cookies tend to be somewhat sweet br br So if you want something hard and crisp I suggest Nabiso is Ginger Snaps If you want a cookie that is soft chewy and tastes like a combination of chocolate and oatmeal give these a try I am here to place my second order \n"
     ]
    }
   ],
   "source": [
    "#remove spacial character: https://stackoverflow.com/a/5843547/4084039\n",
    "sent_1500 = re.sub('[^A-Za-z0-9]+', ' ', sent_1500)\n",
    "print(sent_1500)"
   ]
  },
  {
   "cell_type": "code",
   "execution_count": 15,
   "metadata": {
    "colab": {},
    "colab_type": "code",
    "id": "CCurSJJ2LPn_"
   },
   "outputs": [],
   "source": [
    "# https://gist.github.com/sebleier/554280\n",
    "# we are removing the words from the stop words list: 'no', 'nor', 'not'\n",
    "# <br /><br /> ==> after the above steps, we are getting \"br br\"\n",
    "# we are including them into stop words list\n",
    "# instead of <br /> if we have <br/> these tags would have revmoved in the 1st step\n",
    "\n",
    "stopwords= set(['br', 'the', 'i', 'me', 'my', 'myself', 'we', 'our', 'ours', 'ourselves', 'you', \"you're\", \"you've\",\\\n",
    "            \"you'll\", \"you'd\", 'your', 'yours', 'yourself', 'yourselves', 'he', 'him', 'his', 'himself', \\\n",
    "            'she', \"she's\", 'her', 'hers', 'herself', 'it', \"it's\", 'its', 'itself', 'they', 'them', 'their',\\\n",
    "            'theirs', 'themselves', 'what', 'which', 'who', 'whom', 'this', 'that', \"that'll\", 'these', 'those', \\\n",
    "            'am', 'is', 'are', 'was', 'were', 'be', 'been', 'being', 'have', 'has', 'had', 'having', 'do', 'does', \\\n",
    "            'did', 'doing', 'a', 'an', 'the', 'and', 'but', 'if', 'or', 'because', 'as', 'until', 'while', 'of', \\\n",
    "            'at', 'by', 'for', 'with', 'about', 'against', 'between', 'into', 'through', 'during', 'before', 'after',\\\n",
    "            'above', 'below', 'to', 'from', 'up', 'down', 'in', 'out', 'on', 'off', 'over', 'under', 'again', 'further',\\\n",
    "            'then', 'once', 'here', 'there', 'when', 'where', 'why', 'how', 'all', 'any', 'both', 'each', 'few', 'more',\\\n",
    "            'most', 'other', 'some', 'such', 'only', 'own', 'same', 'so', 'than', 'too', 'very', \\\n",
    "            's', 't', 'can', 'will', 'just', 'don', \"don't\", 'should', \"should've\", 'now', 'd', 'll', 'm', 'o', 're', \\\n",
    "            've', 'y', 'ain', 'aren', \"aren't\", 'couldn', \"couldn't\", 'didn', \"didn't\", 'doesn', \"doesn't\", 'hadn',\\\n",
    "            \"hadn't\", 'hasn', \"hasn't\", 'haven', \"haven't\", 'isn', \"isn't\", 'ma', 'mightn', \"mightn't\", 'mustn',\\\n",
    "            \"mustn't\", 'needn', \"needn't\", 'shan', \"shan't\", 'shouldn', \"shouldn't\", 'wasn', \"wasn't\", 'weren', \"weren't\", \\\n",
    "            'won', \"won't\", 'wouldn', \"wouldn't\"])"
   ]
  },
  {
   "cell_type": "code",
   "execution_count": 16,
   "metadata": {
    "colab": {},
    "colab_type": "code",
    "id": "mFHQEvfnLPoF",
    "outputId": "5cd6bcc3-54fe-4a8e-a39d-d6dabf3f37f9"
   },
   "outputs": [
    {
     "name": "stderr",
     "output_type": "stream",
     "text": [
      "100%|███████████████████████████████████████| 87773/87773 [00:34<00:00, 2507.97it/s]\n"
     ]
    }
   ],
   "source": [
    "# Combining all the above stundents \n",
    "\n",
    "preprocessed_reviews = []\n",
    "# tqdm is for printing the status bar\n",
    "for sentance in tqdm(final['Text'].values):\n",
    "    sentance = re.sub(r\"http\\S+\", \"\", sentance)\n",
    "    sentance = BeautifulSoup(sentance, 'lxml').get_text()\n",
    "    sentance = decontracted(sentance)\n",
    "    sentance = re.sub(\"\\S*\\d\\S*\", \"\", sentance).strip()\n",
    "    sentance = re.sub('[^A-Za-z]+', ' ', sentance)\n",
    "    # https://gist.github.com/sebleier/554280\n",
    "    sentance = ' '.join(e.lower() for e in sentance.split() if e.lower() not in stopwords)\n",
    "    preprocessed_reviews.append(sentance.strip())"
   ]
  },
  {
   "cell_type": "code",
   "execution_count": 17,
   "metadata": {
    "colab": {},
    "colab_type": "code",
    "id": "Tqx8QUeRLPoH",
    "outputId": "0182081c-6282-4113-b186-5b5bac596388"
   },
   "outputs": [
    {
     "data": {
      "text/plain": [
       "'way hot blood took bite jig lol'"
      ]
     },
     "execution_count": 17,
     "metadata": {},
     "output_type": "execute_result"
    }
   ],
   "source": [
    "preprocessed_reviews[1500]"
   ]
  },
  {
   "cell_type": "markdown",
   "metadata": {},
   "source": [
    "# [4] Splitting the Data"
   ]
  },
  {
   "cell_type": "code",
   "execution_count": 18,
   "metadata": {},
   "outputs": [],
   "source": [
    "x = preprocessed_reviews\n",
    "y = final[\"Score\"].values"
   ]
  },
  {
   "cell_type": "markdown",
   "metadata": {},
   "source": [
    "Splitting the data as train data, cross validation data and test data"
   ]
  },
  {
   "cell_type": "code",
   "execution_count": 19,
   "metadata": {},
   "outputs": [],
   "source": [
    "# splitting the data into 3 parts for furhter process, \n",
    "# train data, cross validation data and test data\n",
    "\n",
    "x_train, x_test, y_train, y_test = train_test_split(x, y, test_size=0.30)         # this is random splitting\n",
    "x_train, x_cv, y_train, y_cv = train_test_split(x_train, y_train, test_size=0.30) # this is random splitting\n",
    "\n"
   ]
  },
  {
   "cell_type": "code",
   "execution_count": 20,
   "metadata": {},
   "outputs": [
    {
     "name": "stdout",
     "output_type": "stream",
     "text": [
      "43008\n",
      "18433\n",
      "26332\n"
     ]
    }
   ],
   "source": [
    "# number of rows in earch data set, train, cross validation and test data respectively\n",
    "print(len(x_train))\n",
    "print(len(x_cv))\n",
    "print(len(x_test))"
   ]
  },
  {
   "cell_type": "markdown",
   "metadata": {
    "colab_type": "text",
    "id": "B93jqKuhLPoQ"
   },
   "source": [
    "# [4] Featurization"
   ]
  },
  {
   "cell_type": "markdown",
   "metadata": {
    "colab_type": "text",
    "id": "Mr4j2QhgLPoQ"
   },
   "source": [
    "## [4.1] BAG OF WORDS"
   ]
  },
  {
   "cell_type": "code",
   "execution_count": 75,
   "metadata": {
    "colab": {},
    "colab_type": "code",
    "id": "dZVHt3mtLPoR",
    "outputId": "ea1629cd-7c92-400e-9acd-f7caeef0f389"
   },
   "outputs": [
    {
     "name": "stdout",
     "output_type": "stream",
     "text": [
      "some feature names  ['ability', 'able', 'absolute', 'absolutely', 'absorb', 'absorbed', 'acai', 'accept', 'acceptable', 'access']\n",
      "==================================================\n",
      "(43008, 5000) (43008,)\n",
      "(18433, 5000) (18433,)\n",
      "(26332, 5000) (26332,)\n",
      "==================================================\n"
     ]
    }
   ],
   "source": [
    "#BoW\n",
    "count_vect = CountVectorizer(max_features=5000) #in scikit-learn\n",
    "count_vect.fit(x_train)\n",
    "print(\"some feature names \", count_vect.get_feature_names()[:10])\n",
    "print('='*50)\n",
    "\n",
    "x_train_bow = count_vect.transform(x_train)\n",
    "x_test_bow  = count_vect.transform(x_test)\n",
    "x_cv_bow    = count_vect.transform(x_cv)\n",
    "\n",
    "print(x_train_bow.shape, y_train.shape)\n",
    "print(x_cv_bow.shape, y_cv.shape)\n",
    "print(x_test_bow.shape, y_test.shape)\n",
    "print(\"=\"*50)\n"
   ]
  },
  {
   "cell_type": "code",
   "execution_count": 36,
   "metadata": {},
   "outputs": [
    {
     "data": {
      "text/plain": [
       "['y_cv_bow100k.pkl']"
      ]
     },
     "execution_count": 36,
     "metadata": {},
     "output_type": "execute_result"
    }
   ],
   "source": [
    "############## writing bag of words\n",
    "\n",
    "joblib.dump(x_train_bow, 'x_tr_bow100k.pkl') \n",
    "joblib.dump(x_test_bow , 'x_te_bow100k.pkl')\n",
    "joblib.dump(x_cv_bow   , 'x_cv_bow100k.pkl')\n",
    "\n",
    "joblib.dump(y_train, 'y_train_bow100k.pkl')\n",
    "joblib.dump(y_test , 'y_test_bow100k.pkl')\n",
    "joblib.dump(y_cv   , 'y_cv_bow100k.pkl')"
   ]
  },
  {
   "cell_type": "markdown",
   "metadata": {
    "colab_type": "text",
    "id": "-cEEpDx0LPoZ"
   },
   "source": [
    "## [4.3] TF-IDF"
   ]
  },
  {
   "cell_type": "code",
   "execution_count": 76,
   "metadata": {},
   "outputs": [
    {
     "name": "stdout",
     "output_type": "stream",
     "text": [
      "some sample features ['ability', 'able', 'absolute', 'absolutely', 'absorb', 'absorbed', 'acai', 'accept', 'acceptable', 'access']\n",
      "==================================================\n",
      "After featurization\n",
      "\n",
      "(43008, 5000) (43008,)\n",
      "(18433, 5000) (18433,)\n",
      "(26332, 5000) (26332,)\n",
      "==================================================\n"
     ]
    }
   ],
   "source": [
    "# TFIDF using scikit-learn\n",
    "\n",
    "tf_idf = TfidfVectorizer(max_features=5000) #arguments: ngram_range=(1,2), min_df=10                #in scikit-learn\n",
    "tf_idf.fit(x_train)\n",
    "\n",
    "print(\"some sample features\",tf_idf.get_feature_names()[0:10])\n",
    "print('='*50)\n",
    "\n",
    "# we use fit() method to learn the vocabulary from x_train \n",
    "# and now transform text data to vectors using transform() method\n",
    "\n",
    "x_train_tf = tf_idf.transform(x_train)\n",
    "x_cv_tf    = tf_idf.transform(x_cv)\n",
    "x_test_tf  = tf_idf.transform(x_test)\n",
    "\n",
    "print(\"After featurization\\n\")\n",
    "\n",
    "print(x_train_tf.shape, y_train.shape)\n",
    "print(x_cv_tf.shape, y_cv.shape)\n",
    "print(x_test_tf.shape, y_test.shape)\n",
    "print(\"=\"*50)\n"
   ]
  },
  {
   "cell_type": "code",
   "execution_count": 50,
   "metadata": {},
   "outputs": [
    {
     "data": {
      "text/plain": [
       "['y_cv_tfidf100k.pkl']"
      ]
     },
     "execution_count": 50,
     "metadata": {},
     "output_type": "execute_result"
    }
   ],
   "source": [
    "############## writing tfidf features\n",
    "\n",
    "joblib.dump(x_train_tf, 'x_tr_tfidf100k.pkl') \n",
    "joblib.dump(x_test_tf , 'x_te_tfidf100k.pkl')\n",
    "joblib.dump(x_cv_tf   , 'x_cv_tfidf100k.pkl')\n",
    "\n",
    "joblib.dump(y_train, 'y_train_tfidf100k.pkl')\n",
    "joblib.dump(y_test , 'y_test_tfidf100k.pkl')\n",
    "joblib.dump(y_cv   , 'y_cv_tfidf100k.pkl')"
   ]
  },
  {
   "cell_type": "markdown",
   "metadata": {
    "colab_type": "text",
    "id": "m3YEHTLPLPod"
   },
   "source": [
    "## [4.4] Word2Vec"
   ]
  },
  {
   "cell_type": "code",
   "execution_count": 21,
   "metadata": {},
   "outputs": [],
   "source": [
    "# Train your own Word2Vec model using your own text corpus\n",
    "\n",
    "list_of_sentance_train =[]\n",
    "\n",
    "for sentance in x_train:\n",
    "    list_of_sentance_train.append(sentance.split())"
   ]
  },
  {
   "cell_type": "code",
   "execution_count": 24,
   "metadata": {},
   "outputs": [],
   "source": [
    "# this line of code trains your w2v model on the give list of sentances\n",
    "w2v_model = Word2Vec(list_of_sentance_train,min_count=5,size=200, workers=-1)"
   ]
  },
  {
   "cell_type": "code",
   "execution_count": 25,
   "metadata": {
    "colab": {},
    "colab_type": "code",
    "id": "bRWXmmnWLPoo",
    "outputId": "1cc345e7-d991-49b8-f1b7-a0d81f0b97e6"
   },
   "outputs": [
    {
     "name": "stdout",
     "output_type": "stream",
     "text": [
      "number of words that occured minimum 5 times  12472\n",
      "sample words  ['excellent', 'tea', 'canada', 'could', 'find', 'two', 'makers', 'get', 'maker', 'cost', 'triple', 'including', 'shipping', 'happy', 'bags', 'used', 'put', 'lavender', 'arrived', 'quickly', 'probably', 'order', 'love', 'food', 'leaves', 'mouth', 'burning', 'long', 'mexican', 'meal', 'adore', 'taste', 'ginger', 'beverage', 'piquant', 'heavily', 'overwhelmed', 'hot', 'drink', 'would', 'really', 'warm', 'cold', 'winter', 'night', 'mad', 'crave', 'spicy', 'foods', 'burn']\n"
     ]
    }
   ],
   "source": [
    "w2v_words = list(w2v_model.wv.vocab)\n",
    "print(\"number of words that occured minimum 5 times \",len(w2v_words))\n",
    "print(\"sample words \", w2v_words[0:50])"
   ]
  },
  {
   "cell_type": "markdown",
   "metadata": {
    "colab_type": "text",
    "id": "TtWqibqfLPos"
   },
   "source": [
    "## [4.4.1] Converting text into vectors using Avg W2V, TFIDF-W2V"
   ]
  },
  {
   "cell_type": "markdown",
   "metadata": {
    "colab_type": "text",
    "id": "JriP5nZCLPot"
   },
   "source": [
    "#### [4.4.1.1] Avg W2v"
   ]
  },
  {
   "cell_type": "markdown",
   "metadata": {},
   "source": [
    "converting train data"
   ]
  },
  {
   "cell_type": "code",
   "execution_count": 27,
   "metadata": {},
   "outputs": [
    {
     "name": "stderr",
     "output_type": "stream",
     "text": [
      "100%|████████████████████████████████████████| 43008/43008 [01:13<00:00, 586.27it/s]\n"
     ]
    },
    {
     "name": "stdout",
     "output_type": "stream",
     "text": [
      "(43008, 200)\n",
      "[ 6.49759204e-05 -4.01210485e-04 -1.96987505e-04  1.86674397e-04\n",
      " -3.93062613e-04 -3.95692781e-04  1.28592659e-04 -5.81469275e-04\n",
      "  4.70423633e-04  2.20779065e-04  5.01036455e-04 -5.79889586e-06\n",
      " -6.81360504e-04  4.06504592e-04  4.39158857e-04 -4.52771211e-04\n",
      " -5.18123185e-04 -2.06430349e-04  3.01051062e-05 -6.26732314e-04\n",
      " -1.15786870e-04 -1.24883969e-04 -9.64300387e-05 -7.65322069e-05\n",
      " -3.96786912e-04  3.01352922e-04 -7.21676791e-05  9.52072904e-04\n",
      "  1.56492573e-04 -3.05378818e-04 -1.98475498e-04 -4.89442053e-04\n",
      "  2.84798705e-04  1.18249424e-05  1.09017731e-05 -1.21266353e-04\n",
      "  7.28418105e-04 -1.91253396e-04 -6.03933902e-04  2.90955751e-04\n",
      "  1.36362929e-04  2.19257390e-04 -1.94731879e-05 -3.81956561e-04\n",
      "  4.75944406e-04 -6.16348574e-04  4.22344096e-04 -5.76920092e-04\n",
      "  9.38924194e-05 -4.10423917e-04 -3.86084836e-04  1.58965829e-05\n",
      " -5.95699610e-04 -6.37844918e-04  2.46262401e-04 -2.44120830e-05\n",
      " -4.46473554e-04  4.92073369e-04 -2.72515400e-05  6.03172991e-05\n",
      "  2.50730610e-04 -5.44709353e-04 -5.96124858e-04  3.65358407e-05\n",
      "  4.39838551e-04  2.33081671e-04 -3.85497251e-04 -2.03161001e-04\n",
      "  5.20842854e-04  6.23440148e-05  1.80451692e-04  5.92701396e-04\n",
      " -5.86813549e-05  1.91423026e-04 -8.23013243e-04 -1.56216588e-04\n",
      "  1.01790418e-04  1.70859852e-05  4.27651107e-04  6.32332563e-05\n",
      "  3.45331337e-04 -4.99068909e-05 -4.79262580e-04 -2.71710742e-05\n",
      " -4.93192732e-04 -2.26665398e-04  7.39147905e-04 -7.67093902e-04\n",
      " -3.63686532e-04 -2.86699055e-04 -2.38230654e-04  2.56952322e-04\n",
      "  4.74037767e-04 -1.93245609e-04 -4.58647327e-05 -5.07645326e-04\n",
      " -2.81645342e-04 -1.64829760e-04  3.80434117e-04 -4.32361914e-04\n",
      " -1.63783560e-04 -2.08929845e-04 -4.40110459e-04  5.16464518e-06\n",
      " -1.50112883e-04 -2.15631427e-04 -2.44774946e-04  3.76047367e-04\n",
      " -1.29596779e-05  1.04429203e-03 -4.19369234e-05  8.51692114e-05\n",
      " -1.57659392e-04  4.71947652e-05 -4.84818069e-04  3.47919394e-04\n",
      "  4.87278653e-04 -1.19406088e-04 -1.69411334e-04 -6.71505000e-04\n",
      "  3.93459353e-04 -2.99256446e-04  1.24246934e-04 -1.02825654e-04\n",
      " -9.63593158e-04  4.81979884e-04 -2.55358686e-04  2.21120963e-04\n",
      " -4.71681782e-04  1.10714206e-04  1.66992197e-05 -1.68547732e-05\n",
      " -1.11216779e-03  3.79408049e-04  3.68347192e-04 -7.85754039e-05\n",
      "  1.78414812e-05 -3.09244814e-04 -1.20281006e-04  5.31448837e-04\n",
      " -1.04655137e-04  4.15186560e-04  4.10789243e-04  1.16622274e-04\n",
      "  4.51028825e-04  3.63063307e-04 -6.65880064e-04  4.33785901e-04\n",
      " -2.72301937e-04  3.06393756e-04 -3.62828852e-04 -3.99346100e-04\n",
      "  3.43876338e-04  2.58125382e-04  8.58824790e-04 -7.05141304e-05\n",
      " -2.11588138e-04 -3.38762977e-04 -6.63754285e-05 -8.89204010e-05\n",
      " -1.92854404e-04 -6.99194435e-05  2.50763883e-04 -3.00660717e-05\n",
      "  4.03485260e-04 -1.12916895e-04  1.85531900e-04 -2.63258137e-05\n",
      " -2.85088588e-04 -5.12822579e-04 -4.13335508e-04  2.02946790e-04\n",
      " -6.27907082e-04 -1.67283369e-04  6.13648988e-05  5.52147776e-04\n",
      " -2.67722344e-04 -1.64403850e-04  2.22268113e-04 -2.85741298e-05\n",
      " -2.51584106e-04 -2.62495413e-04 -7.14193520e-05  5.01744832e-04\n",
      " -7.97117339e-04 -1.63002565e-04  2.16393481e-04  1.76400293e-04\n",
      " -8.76360656e-05 -2.95655794e-04 -4.68348361e-05 -3.35334574e-04\n",
      " -9.11909135e-05  3.41075151e-04  2.57341519e-04 -4.75211574e-04\n",
      "  2.78015619e-04 -6.22203942e-04 -1.07132159e-03  3.19772211e-04]\n"
     ]
    }
   ],
   "source": [
    "# average Word2Vec\n",
    "# compute average word2vec for each review.\n",
    "sent_vectors_train = []; # the avg-w2v for each sentence/review is stored in this list\n",
    "for sent in tqdm(list_of_sentance_train): # for each review/sentence\n",
    "    sent_vec = np.zeros(200) # as word vectors are of zero length 50, you might need to change this to 300 if you use google's w2v\n",
    "    cnt_words =0; # num of words with a valid vector in the sentence/review\n",
    "    for word in sent: # for each word in a review/sentence\n",
    "        if word in w2v_words:\n",
    "            vec = w2v_model.wv[word]\n",
    "            sent_vec += vec\n",
    "            cnt_words += 1\n",
    "    if cnt_words != 0:\n",
    "        sent_vec /= cnt_words\n",
    "    sent_vectors_train.append(sent_vec)\n",
    "sent_vectors_train = np.array(sent_vectors_train)\n",
    "print(sent_vectors_train.shape)\n",
    "print(sent_vectors_train[0])"
   ]
  },
  {
   "cell_type": "code",
   "execution_count": 28,
   "metadata": {},
   "outputs": [
    {
     "data": {
      "text/plain": [
       "numpy.ndarray"
      ]
     },
     "execution_count": 28,
     "metadata": {},
     "output_type": "execute_result"
    }
   ],
   "source": [
    "type(sent_vectors_train)"
   ]
  },
  {
   "cell_type": "markdown",
   "metadata": {},
   "source": [
    "converting cv data"
   ]
  },
  {
   "cell_type": "code",
   "execution_count": 29,
   "metadata": {},
   "outputs": [],
   "source": [
    "\n",
    "list_of_sentance_cv=[]\n",
    "for sentance in x_cv:\n",
    "    list_of_sentance_cv.append(sentance.split())"
   ]
  },
  {
   "cell_type": "code",
   "execution_count": 30,
   "metadata": {},
   "outputs": [
    {
     "name": "stderr",
     "output_type": "stream",
     "text": [
      "100%|████████████████████████████████████████| 18433/18433 [00:31<00:00, 577.48it/s]\n"
     ]
    },
    {
     "name": "stdout",
     "output_type": "stream",
     "text": [
      "(18433, 200)\n",
      "[ 1.16855281e-04 -3.17491519e-04 -1.20220506e-04 -1.44613717e-04\n",
      " -3.00735857e-04 -2.26813029e-04 -1.63127571e-04 -1.92485348e-04\n",
      " -1.52865692e-04  2.05376198e-04  3.99788965e-04 -3.93996413e-05\n",
      " -1.64488527e-04  2.39554695e-04 -2.15464873e-04 -2.93143705e-04\n",
      "  2.33918112e-04  2.65208670e-05  7.98673136e-06  5.01255722e-05\n",
      " -1.38347057e-04  1.61930907e-04 -9.12943366e-05 -6.90486334e-05\n",
      " -2.93101682e-04  1.18370465e-04 -1.87933830e-04 -2.12501105e-04\n",
      "  1.36790226e-04 -2.97779194e-04  3.18305654e-04 -4.27578008e-04\n",
      " -1.57667365e-04  4.07461678e-05  8.11535602e-05 -3.34954983e-04\n",
      " -1.06396723e-04 -1.11633577e-04  1.34797164e-04  2.50672578e-04\n",
      "  5.27413341e-05  3.33075107e-04  4.76527938e-04  1.73796322e-04\n",
      " -3.15455396e-04  2.27128396e-04 -2.32001786e-04  7.72218942e-04\n",
      "  6.65636070e-05 -2.64314131e-04 -2.09448180e-04 -1.55663125e-04\n",
      " -8.03119160e-05 -3.00346969e-04 -5.76618763e-05 -7.46521552e-06\n",
      " -1.63014051e-04  3.33713006e-04  2.45533076e-04  4.86178487e-04\n",
      " -2.21784122e-04  2.30954482e-04  2.92317986e-04 -3.17879837e-04\n",
      " -1.82280624e-04  1.34920397e-04  4.65926286e-04  4.47713329e-04\n",
      " -2.66699079e-04  3.01376215e-04  1.28268994e-04  3.27684475e-04\n",
      "  4.12212841e-04 -2.01420264e-04  1.27540320e-04  2.95746912e-05\n",
      " -1.74014317e-04 -1.51584254e-05 -2.89460410e-05  8.31956131e-05\n",
      "  2.94056315e-04 -1.78071995e-04 -2.30242140e-04 -3.51065372e-04\n",
      " -4.05077673e-04 -3.60692959e-04  5.73650984e-05 -2.05483241e-04\n",
      " -2.60306689e-04 -5.75437872e-04 -2.44564539e-04 -9.17338782e-05\n",
      " -1.88531971e-04 -1.17027580e-04  4.17310726e-04 -8.44653098e-06\n",
      "  1.29817186e-04  1.09044024e-04 -4.61346121e-04  5.79029070e-04\n",
      " -2.97756321e-05 -2.02839742e-05 -2.73696678e-04 -1.09954133e-04\n",
      "  7.32544295e-06 -1.69653606e-04 -1.86089656e-05 -6.13508766e-05\n",
      " -3.21827493e-04  5.43409527e-04  7.67897939e-04 -5.77435642e-05\n",
      " -3.33748260e-04 -2.44599624e-04 -7.63199139e-05 -2.95591318e-04\n",
      " -3.38269246e-04  2.35837105e-05 -1.81418251e-05 -6.85736599e-04\n",
      "  2.82524910e-04  2.73430324e-04 -3.29154650e-05 -1.16294565e-04\n",
      " -2.83789730e-04  1.28844578e-04  6.90119586e-04  3.25888230e-04\n",
      "  4.49833889e-05  3.01234772e-04 -2.13973865e-04  1.50048761e-04\n",
      " -3.50690820e-04  2.07118102e-05  2.67075853e-04  2.77949239e-04\n",
      "  7.48069786e-04  2.63766269e-05  1.71999314e-04 -1.41238918e-04\n",
      "  5.54458029e-05  1.16587590e-04  6.45711543e-04  2.91366527e-04\n",
      "  2.68627309e-04 -4.03567672e-04  2.20319736e-04  4.97608611e-05\n",
      " -3.25726945e-04  2.75439078e-05  4.83691089e-04  3.97197683e-04\n",
      " -5.13893904e-04 -1.91445200e-05  2.17059488e-04  3.81562655e-05\n",
      " -5.69926097e-05  8.22620650e-05 -2.39010675e-04  5.21588617e-04\n",
      "  1.09451513e-04 -3.06703335e-05  2.30939834e-04  3.01193417e-04\n",
      " -4.19023019e-04 -1.60373562e-05  1.10394496e-04 -1.66738490e-05\n",
      "  1.71218834e-04  3.19005379e-04 -4.93753787e-04 -3.26593563e-04\n",
      "  8.20631689e-04  2.13464973e-04  1.91991036e-04  2.12138453e-04\n",
      " -3.00663762e-04 -6.82194242e-04  4.32936232e-04 -7.13383038e-06\n",
      "  4.78109275e-04  1.60036091e-04  2.59564179e-04  1.16896527e-04\n",
      "  2.22516338e-04  1.61123798e-05 -3.41609875e-04 -1.21746125e-05\n",
      " -3.70990824e-05  1.58981626e-04  5.04312956e-05  2.39257983e-04\n",
      "  5.31763164e-05 -9.11195824e-05 -3.36089798e-04 -1.32401313e-05\n",
      "  2.30864783e-04 -5.51974032e-04  1.76539208e-04 -1.26959005e-04]\n"
     ]
    }
   ],
   "source": [
    "# average Word2Vec\n",
    "# compute average word2vec for each review.\n",
    "sent_vectors_cv = []; # the avg-w2v for each sentence/review is stored in this list\n",
    "for sent in tqdm(list_of_sentance_cv): # for each review/sentence\n",
    "    sent_vec = np.zeros(200) # as word vectors are of zero length 50, you might need to change this to 300 if you use google's w2v\n",
    "    cnt_words =0; # num of words with a valid vector in the sentence/review\n",
    "    for word in sent: # for each word in a review/sentence\n",
    "        if word in w2v_words:\n",
    "            vec = w2v_model.wv[word]\n",
    "            sent_vec += vec\n",
    "            cnt_words += 1\n",
    "    if cnt_words != 0:\n",
    "        sent_vec /= cnt_words\n",
    "    sent_vectors_cv.append(sent_vec)\n",
    "sent_vectors_cv = np.array(sent_vectors_cv)\n",
    "print(sent_vectors_cv.shape)\n",
    "print(sent_vectors_cv[0])"
   ]
  },
  {
   "cell_type": "markdown",
   "metadata": {},
   "source": [
    "converting test data"
   ]
  },
  {
   "cell_type": "code",
   "execution_count": 31,
   "metadata": {},
   "outputs": [],
   "source": [
    "\n",
    "list_of_sentance_test=[]\n",
    "for sentance in x_test:\n",
    "    list_of_sentance_test.append(sentance.split())"
   ]
  },
  {
   "cell_type": "code",
   "execution_count": 32,
   "metadata": {},
   "outputs": [
    {
     "name": "stderr",
     "output_type": "stream",
     "text": [
      "100%|████████████████████████████████████████| 26332/26332 [00:45<00:00, 580.50it/s]\n"
     ]
    },
    {
     "name": "stdout",
     "output_type": "stream",
     "text": [
      "(26332, 200)\n",
      "[ 2.44657602e-04 -3.82770538e-06 -1.65797182e-04 -2.67196673e-04\n",
      " -2.94189998e-04 -1.83520926e-05  3.71838370e-04 -6.27543121e-04\n",
      " -3.13828263e-04  8.88660410e-05  4.74972029e-04  3.59352684e-04\n",
      " -5.77392770e-04  1.75332721e-05  7.57770055e-04 -4.03996464e-04\n",
      " -2.27566947e-04  9.08476440e-05  6.16209931e-05 -1.01442970e-04\n",
      "  1.20363843e-04  1.83817013e-04  4.15593002e-05  3.65880583e-04\n",
      " -4.37059493e-04 -4.09149505e-04 -1.86081647e-04 -2.20838061e-04\n",
      " -1.30986020e-04 -2.30593454e-04 -3.46377352e-04  3.37129751e-04\n",
      " -1.34481979e-04 -3.37700057e-04 -7.34359438e-04  2.67073188e-04\n",
      " -5.80207992e-05 -6.77376479e-04 -1.98991525e-04  4.16251993e-04\n",
      "  2.12386361e-05  3.10751511e-04 -5.02228562e-06 -8.27586873e-05\n",
      "  5.37937663e-04 -3.40164600e-05  6.28020082e-04  7.09034767e-04\n",
      "  1.39479924e-05 -2.54827616e-04  2.23274684e-04  2.94947641e-04\n",
      "  2.01781208e-04 -5.52410298e-04 -3.91599290e-04  2.15113375e-04\n",
      " -5.10607037e-05  1.70028141e-04  3.81539782e-04 -7.18643207e-05\n",
      " -4.07492746e-05 -2.76094272e-04 -3.45940657e-04 -4.15176242e-04\n",
      " -2.04200532e-04  2.46420894e-04  2.54971217e-04  2.90581947e-04\n",
      " -8.46184150e-06  9.04217328e-04  3.72461346e-05  6.80280825e-04\n",
      " -9.49248293e-06 -4.46303687e-04 -2.60605956e-04  2.09473945e-04\n",
      " -3.67717922e-04 -1.93539318e-04  3.54892679e-04 -5.13934420e-05\n",
      "  1.29198031e-04 -4.78597200e-04 -1.48448663e-04  3.49202202e-05\n",
      "  2.11545251e-04 -5.69994623e-04  1.05719753e-04 -3.67277438e-04\n",
      " -3.46832804e-05 -3.87744320e-05  1.15512507e-04  1.34058130e-04\n",
      " -1.26421437e-04  6.47118757e-05  3.60218393e-04 -3.57974019e-04\n",
      "  2.80502381e-04  4.25098313e-04 -5.28584237e-04 -1.68389445e-04\n",
      " -1.56414708e-04 -1.25821981e-04 -3.10378266e-04 -4.98106714e-04\n",
      "  5.09119139e-05  1.25391903e-04 -3.47765965e-04 -4.88682558e-04\n",
      " -2.86776462e-04  6.17311537e-04  3.23533846e-04 -2.53852807e-04\n",
      " -6.68744390e-05  1.32988724e-04 -3.97592542e-04  6.38576833e-05\n",
      "  2.85213471e-05 -1.19353820e-04 -2.52574070e-04  2.15630278e-04\n",
      "  1.52658307e-04  2.37003188e-04  9.95455691e-05 -5.94131340e-04\n",
      " -3.51306094e-04  6.42164267e-05  3.79612742e-04  1.56837149e-05\n",
      "  9.24768980e-05  1.49291122e-04  3.93892253e-05  2.24530714e-04\n",
      " -3.06337150e-04 -5.01079782e-05  1.53975183e-04 -2.33681872e-04\n",
      "  3.98191616e-04  5.33963904e-05 -1.99949089e-05  3.16721285e-04\n",
      "  2.13203452e-04 -1.83147157e-04  4.20808562e-04  2.63011787e-04\n",
      "  5.59326849e-05 -1.50269860e-04 -4.58394687e-05 -2.38366545e-04\n",
      " -3.21102811e-04 -4.37414560e-05 -4.63514072e-04 -1.52878932e-04\n",
      "  3.93371165e-05 -1.91150235e-04 -3.09785450e-05  2.20481448e-04\n",
      "  4.35853871e-04  1.24440086e-04  1.65341065e-04  1.93958413e-04\n",
      "  2.65359659e-04 -1.32494880e-04 -1.30938928e-05 -3.77085680e-05\n",
      "  1.46215818e-04  2.04161928e-04 -9.91059767e-05  2.80344438e-04\n",
      " -4.50549979e-04  2.29512434e-04  3.36159345e-04 -7.74333848e-04\n",
      "  6.19113282e-05 -2.36805226e-04  2.89910481e-04 -1.89431828e-04\n",
      " -2.28071919e-04 -6.28124876e-04 -1.09216140e-06  3.66677064e-04\n",
      "  7.00320656e-04  9.59689828e-04 -4.33444239e-04  2.69893637e-04\n",
      "  3.54069038e-04 -2.41929240e-04 -2.40426738e-04 -6.54208008e-05\n",
      " -2.58772029e-04  1.70471071e-04  5.56216792e-05 -1.64616814e-04\n",
      " -2.68826317e-04  4.80182444e-04 -9.58171792e-05  6.74981845e-05\n",
      " -1.74109869e-04 -2.35014294e-04  1.31011510e-05 -2.38138648e-04]\n"
     ]
    }
   ],
   "source": [
    "# average Word2Vec\n",
    "# compute average word2vec for each review.\n",
    "sent_vectors_test = []; # the avg-w2v for each sentence/review is stored in this list\n",
    "for sent in tqdm(list_of_sentance_test): # for each review/sentence\n",
    "    sent_vec = np.zeros(200) # as word vectors are of zero length 50, you might need to change this to 300 if you use google's w2v\n",
    "    cnt_words =0; # num of words with a valid vector in the sentence/review\n",
    "    for word in sent: # for each word in a review/sentence\n",
    "        if word in w2v_words:\n",
    "            vec = w2v_model.wv[word]\n",
    "            sent_vec += vec\n",
    "            cnt_words += 1\n",
    "    if cnt_words != 0:\n",
    "        sent_vec /= cnt_words\n",
    "    sent_vectors_test.append(sent_vec)\n",
    "sent_vectors_test = np.array(sent_vectors_test)\n",
    "print(sent_vectors_test.shape)\n",
    "print(sent_vectors_test[0])"
   ]
  },
  {
   "cell_type": "code",
   "execution_count": 33,
   "metadata": {},
   "outputs": [
    {
     "data": {
      "text/plain": [
       "['y_cv.pkl']"
      ]
     },
     "execution_count": 33,
     "metadata": {},
     "output_type": "execute_result"
    }
   ],
   "source": [
    "############## writing average w2v for 100k data points with 200 features ########################\n",
    "\n",
    "joblib.dump(sent_vectors_train, 'sent_vectors_train_100k.pkl') \n",
    "joblib.dump(sent_vectors_test , 'sent_vectors_test_100k.pkl')\n",
    "joblib.dump(sent_vectors_cv   , 'sent_vectors_cv_100k.pkl')\n",
    "\n",
    "joblib.dump(y_train, 'y_train.pkl')\n",
    "joblib.dump(y_test , 'y_test.pkl')\n",
    "joblib.dump(y_cv   , 'y_cv.pkl')"
   ]
  },
  {
   "cell_type": "markdown",
   "metadata": {
    "colab_type": "text",
    "id": "2sHfb529LPow"
   },
   "source": [
    "#### [4.4.1.2] TFIDF weighted W2v"
   ]
  },
  {
   "cell_type": "markdown",
   "metadata": {},
   "source": [
    "converting train data"
   ]
  },
  {
   "cell_type": "code",
   "execution_count": 34,
   "metadata": {},
   "outputs": [],
   "source": [
    "# S = [\"abc def pqr\", \"def def def abc\", \"pqr pqr def\"]\n",
    "model = TfidfVectorizer()\n",
    "tf_idf_matrix_train = model.fit_transform(x_train)\n",
    "# we are converting a dictionary with word as a key, and the idf as a value\n",
    "dictionary_train = dict(zip(model.get_feature_names(), list(model.idf_)))"
   ]
  },
  {
   "cell_type": "code",
   "execution_count": 35,
   "metadata": {},
   "outputs": [
    {
     "name": "stderr",
     "output_type": "stream",
     "text": [
      "100%|█████████████████████████████████████████| 43008/43008 [17:18<00:00, 41.42it/s]\n"
     ]
    }
   ],
   "source": [
    "# TF-IDF weighted Word2Vec\n",
    "tfidf_feat = model.get_feature_names() # tfidf words/col-names\n",
    "# final_tf_idf is the sparse matrix with row= sentence, col=word and cell_val = tfidf\n",
    "\n",
    "tfidf_sent_vectors_train = []; # the tfidf-w2v for each sentence/review is stored in this list\n",
    "row=0;\n",
    "for sent in tqdm(list_of_sentance_train): # for each review/sentence \n",
    "    sent_vec = np.zeros(200) # as word vectors are of zero length\n",
    "    weight_sum =0; # num of words with a valid vector in the sentence/review\n",
    "    for word in sent: # for each word in a review/sentence\n",
    "        if word in w2v_words and word in tfidf_feat:\n",
    "            vec = w2v_model.wv[word]\n",
    "#             tf_idf = tf_idf_matrix[row, tfidf_feat.index(word)]\n",
    "            # to reduce the computation we are \n",
    "            # dictionary[word] = idf value of word in whole courpus\n",
    "            # sent.count(word) = tf valeus of word in this review\n",
    "            tf_idf = dictionary_train[word]*(sent.count(word)/len(sent))\n",
    "            sent_vec += (vec * tf_idf)\n",
    "            weight_sum += tf_idf\n",
    "    if weight_sum != 0:\n",
    "        sent_vec /= weight_sum\n",
    "    tfidf_sent_vectors_train.append(sent_vec)\n",
    "    row += 1"
   ]
  },
  {
   "cell_type": "markdown",
   "metadata": {},
   "source": [
    "converting cv data"
   ]
  },
  {
   "cell_type": "code",
   "execution_count": 36,
   "metadata": {},
   "outputs": [
    {
     "name": "stderr",
     "output_type": "stream",
     "text": [
      "100%|█████████████████████████████████████████| 18433/18433 [07:39<00:00, 40.12it/s]\n"
     ]
    }
   ],
   "source": [
    "# TF-IDF weighted Word2Vec\n",
    "tfidf_feat = model.get_feature_names() # tfidf words/col-names\n",
    "# final_tf_idf is the sparse matrix with row= sentence, col=word and cell_val = tfidf\n",
    "\n",
    "tfidf_sent_vectors_cv = []; # the tfidf-w2v for each sentence/review is stored in this list\n",
    "row=0;\n",
    "for sent in tqdm(list_of_sentance_cv): # for each review/sentence \n",
    "    sent_vec = np.zeros(200) # as word vectors are of zero length\n",
    "    weight_sum =0; # num of words with a valid vector in the sentence/review\n",
    "    for word in sent: # for each word in a review/sentence\n",
    "        if word in w2v_words and word in tfidf_feat:\n",
    "            vec = w2v_model.wv[word]\n",
    "#             tf_idf = tf_idf_matrix[row, tfidf_feat.index(word)]\n",
    "            # to reduce the computation we are \n",
    "            # dictionary[word] = idf value of word in whole courpus\n",
    "            # sent.count(word) = tf valeus of word in this review\n",
    "            tf_idf = dictionary_train[word]*(sent.count(word)/len(sent))\n",
    "            sent_vec += (vec * tf_idf)\n",
    "            weight_sum += tf_idf\n",
    "    if weight_sum != 0:\n",
    "        sent_vec /= weight_sum\n",
    "    tfidf_sent_vectors_cv.append(sent_vec)\n",
    "    row += 1"
   ]
  },
  {
   "cell_type": "markdown",
   "metadata": {},
   "source": [
    "converting test data"
   ]
  },
  {
   "cell_type": "code",
   "execution_count": 37,
   "metadata": {},
   "outputs": [
    {
     "name": "stderr",
     "output_type": "stream",
     "text": [
      "100%|█████████████████████████████████████████| 26332/26332 [10:45<00:00, 40.77it/s]\n"
     ]
    }
   ],
   "source": [
    "# TF-IDF weighted Word2Vec\n",
    "tfidf_feat = model.get_feature_names() # tfidf words/col-names\n",
    "# final_tf_idf is the sparse matrix with row= sentence, col=word and cell_val = tfidf\n",
    "\n",
    "tfidf_sent_vectors_test = []; # the tfidf-w2v for each sentence/review is stored in this list\n",
    "row=0;\n",
    "for sent in tqdm(list_of_sentance_test): # for each review/sentence \n",
    "    sent_vec = np.zeros(200) # as word vectors are of zero length\n",
    "    weight_sum =0; # num of words with a valid vector in the sentence/review\n",
    "    for word in sent: # for each word in a review/sentence\n",
    "        if word in w2v_words and word in tfidf_feat:\n",
    "            vec = w2v_model.wv[word]\n",
    "#             tf_idf = tf_idf_matrix[row, tfidf_feat.index(word)]\n",
    "            # to reduce the computation we are \n",
    "            # dictionary[word] = idf value of word in whole courpus\n",
    "            # sent.count(word) = tf valeus of word in this review\n",
    "            tf_idf = dictionary_train[word]*(sent.count(word)/len(sent))\n",
    "            sent_vec += (vec * tf_idf)\n",
    "            weight_sum += tf_idf\n",
    "    if weight_sum != 0:\n",
    "        sent_vec /= weight_sum\n",
    "    tfidf_sent_vectors_test.append(sent_vec)\n",
    "    row += 1"
   ]
  },
  {
   "cell_type": "code",
   "execution_count": 38,
   "metadata": {},
   "outputs": [
    {
     "data": {
      "text/plain": [
       "['y_cv.pkl']"
      ]
     },
     "execution_count": 38,
     "metadata": {},
     "output_type": "execute_result"
    }
   ],
   "source": [
    "############## writing average w2v with 100k datapoints and 200 features ########################\n",
    "\n",
    "joblib.dump(tfidf_sent_vectors_train, 'tfidf_sent_vectors_train_100k.pkl') \n",
    "joblib.dump(tfidf_sent_vectors_test , 'tfidf_sent_vectors_test_100k.pkl')\n",
    "joblib.dump(tfidf_sent_vectors_cv   , 'tfidf_sent_vectors_cv_100k.pkl')\n",
    "\n",
    "joblib.dump(y_train, 'y_train.pkl')\n",
    "joblib.dump(y_test , 'y_test.pkl')\n",
    "joblib.dump(y_cv   , 'y_cv.pkl')"
   ]
  },
  {
   "cell_type": "markdown",
   "metadata": {
    "colab_type": "text",
    "id": "Kxx72u1hLPo1"
   },
   "source": [
    "# [5] Assignment 5: Apply Logistic Regression"
   ]
  },
  {
   "cell_type": "markdown",
   "metadata": {
    "colab_type": "text",
    "id": "KDR9We0oLPo2"
   },
   "source": [
    "<ol>\n",
    "    <li><strong>Apply Logistic Regression on these feature sets</strong>\n",
    "        <ul>\n",
    "            <li><font color='red'>SET 1:</font>Review text, preprocessed one converted into vectors using (BOW)</li>\n",
    "            <li><font color='red'>SET 2:</font>Review text, preprocessed one converted into vectors using (TFIDF)</li>\n",
    "            <li><font color='red'>SET 3:</font>Review text, preprocessed one converted into vectors using (AVG W2v)</li>\n",
    "            <li><font color='red'>SET 4:</font>Review text, preprocessed one converted into vectors using (TFIDF W2v)</li>\n",
    "        </ul>\n",
    "    </li>\n",
    "    <br>\n",
    "    <li><strong>Hyper paramter tuning (find best hyper parameters corresponding the algorithm that you choose)</strong>\n",
    "        <ul>\n",
    "    <li>Find the best hyper parameter which will give the maximum <a href='https://www.appliedaicourse.com/course/applied-ai-course-online/lessons/receiver-operating-characteristic-curve-roc-curve-and-auc-1/'>AUC</a> value</li>\n",
    "    <li>Find the best hyper paramter using k-fold cross validation or simple cross validation data</li>\n",
    "    <li>Use gridsearch cv or randomsearch cv or you can also write your own for loops to do this task of hyperparameter tuning</li>          \n",
    "        </ul>\n",
    "    </li>\n",
    "    <br>\n",
    "    <li><strong>Pertubation Test</strong>\n",
    "        <ul>\n",
    "    <li>Get the weights W after fit your model with the data X i.e Train data.</li>\n",
    "    <li>Add a noise to the X (X' = X + e) and get the new data set X' (if X is a sparse\n",
    "matrix, X.data+=e)</li>\n",
    "    <li>Fit the model again on data X' and get the weights W'</li>\n",
    "    <li>Add a small eps value(to eliminate the divisible by zero error) to W and W’ i.e\n",
    "W=W+10^-6 and W’ = W’+10^-6</li>\n",
    "    <li>Now find the % change between W and W' (| (W-W') / (W) |)*100)</li>\n",
    "    <li>Calculate the 0th, 10th, 20th, 30th, ...100th percentiles, and observe any sudden rise in the values of percentage_change_vector</li>\n",
    "    <li> Ex: consider your 99th percentile is 1.3 and your 100th percentiles are 34.6, there is sudden rise from 1.3 to 34.6, now calculate the 99.1, 99.2, 99.3,..., 100th percentile values and get the proper value after which there is sudden rise the values, assume it is 2.5</li>\n",
    "            <li> Print the feature names whose % change is more than a threshold x(in our example it's 2.5)</li>\n",
    "        </ul>\n",
    "    </li>\n",
    "    <br>\n",
    "    <li><strong>Sparsity</strong>\n",
    "        <ul>\n",
    "    <li>Calculate sparsity on weight vector obtained after using L1 regularization</li>\n",
    "        </ul>\n",
    "    </li>\n",
    "    <br><font color='red'>NOTE: Do sparsity and multicollinearity for any one of the vectorizers. Bow or tf-idf is recommended.</font>\n",
    "    <br>\n",
    "    <br>\n",
    "    <li><strong>Feature importance</strong>\n",
    "        <ul>\n",
    "    <li>Get top 10 important features for both positive and negative classes separately.</li>\n",
    "        </ul>\n",
    "    </li>\n",
    "    <br>\n",
    "    <li><strong>Feature engineering</strong>\n",
    "        <ul>\n",
    "    <li>To increase the performance of your model, you can also experiment with with feature engineering like :</li>\n",
    "            <ul>\n",
    "            <li>Taking length of reviews as another feature.</li>\n",
    "            <li>Considering some features from review summary as well.</li>\n",
    "        </ul>\n",
    "        </ul>\n",
    "    </li>\n",
    "    <br>\n",
    "    <li><strong>Representation of results</strong>\n",
    "        <ul>\n",
    "    <li>You need to plot the performance of model both on train data and cross validation data for each hyper parameter, like shown in the figure.\n",
    "    <img src='train_cv_auc.JPG' width=300px></li>\n",
    "    <li>Once after you found the best hyper parameter, you need to train your model with it, and find the AUC on test data and plot the ROC curve on both train and test.\n",
    "    <img src='train_test_auc.JPG' width=300px></li>\n",
    "    <li>Along with plotting ROC curve, you need to print the <a href='https://www.appliedaicourse.com/course/applied-ai-course-online/lessons/confusion-matrix-tpr-fpr-fnr-tnr-1/'>confusion matrix</a> with predicted and original labels of test data points. Please visualize your confusion matrices using <a href='https://seaborn.pydata.org/generated/seaborn.heatmap.html'>seaborn heatmaps.\n",
    "    <img src='confusion_matrix.png' width=300px></li>\n",
    "        </ul>\n",
    "    </li>\n",
    "    <br>\n",
    "    <li><strong>Conclusion</strong>\n",
    "        <ul>\n",
    "    <li>You need to summarize the results at the end of the notebook, summarize it in the table format. To print out a table please refer to this prettytable library<a href='http://zetcode.com/python/prettytable/'>  link</a> \n",
    "        <img src='summary.JPG' width=400px>\n",
    "    </li>\n",
    "        </ul>\n",
    "</ol>"
   ]
  },
  {
   "cell_type": "markdown",
   "metadata": {
    "colab_type": "text",
    "id": "gilb-DOVLPo2"
   },
   "source": [
    "<h4><font color='red'>Note: Data Leakage</font></h4>\n",
    "\n",
    "1. There will be an issue of data-leakage if you vectorize the entire data and then split it into train/cv/test.\n",
    "2. To avoid the issue of data-leakag, make sure to split your data first and then vectorize it. \n",
    "3. While vectorizing your data, apply the method fit_transform() on you train data, and apply the method transform() on cv/test data.\n",
    "4. For more details please go through this <a href='https://soundcloud.com/applied-ai-course/leakage-bow-and-tfidf'>link.</a>"
   ]
  },
  {
   "cell_type": "markdown",
   "metadata": {
    "colab_type": "text",
    "id": "jiYocvSHLPo4"
   },
   "source": [
    "# Applying Logistic Regression"
   ]
  },
  {
   "cell_type": "markdown",
   "metadata": {
    "colab_type": "text",
    "id": "LE_XPVZJLPo4"
   },
   "source": [
    "## [5.1] Logistic Regression on BOW,<font color='red'> SET 1</font>"
   ]
  },
  {
   "cell_type": "markdown",
   "metadata": {
    "colab_type": "text",
    "id": "_iciJvj2LPo4"
   },
   "source": [
    "### [5.1.1] Applying Logistic Regression with L1 regularization on BOW,<font color='red'> SET 1</font>"
   ]
  },
  {
   "cell_type": "markdown",
   "metadata": {},
   "source": [
    "### Hyperparameter tuning using GridSearchCV"
   ]
  },
  {
   "cell_type": "code",
   "execution_count": 77,
   "metadata": {},
   "outputs": [
    {
     "name": "stdout",
     "output_type": "stream",
     "text": [
      "best C =  {'C': 0.1}\n",
      "Accuracy on train data =  93.40263192425276\n"
     ]
    }
   ],
   "source": [
    "lam = [0.001,0.01,0.1,1,10]\n",
    "clf = LogisticRegression()\n",
    "param_grid = {'C':lam}\n",
    "\n",
    "grid = GridSearchCV(estimator = clf,param_grid=param_grid ,cv = 3,n_jobs = -1, scoring='roc_auc', return_train_score=True)\n",
    "grid.fit(x_train_bow, y_train)\n",
    "\n",
    "print(\"best C = \", grid.best_params_)\n",
    "print(\"Accuracy on train data = \", grid.best_score_*100)\n",
    "a = grid.best_params_\n",
    "optimal_a1 = a.get('C')"
   ]
  },
  {
   "cell_type": "code",
   "execution_count": 78,
   "metadata": {
    "scrolled": true
   },
   "outputs": [
    {
     "data": {
      "image/png": "[encoded data removed]",
      "text/plain": [
       "<matplotlib.figure.Figure at 0x1cbc3e79518>"
      ]
     },
     "metadata": {},
     "output_type": "display_data"
    }
   ],
   "source": [
    "# https://scikit-learn.org/stable/modules/generated/sklearn.model_selection.GridSearchCV.html\n",
    "\n",
    "bow_auc_train      = grid.cv_results_['mean_train_score']\n",
    "bow_auc_cv         = grid.cv_results_['mean_test_score'] \n",
    "\n",
    "plt.plot(lam, bow_auc_train, label='Train AUC')\n",
    "plt.scatter(lam, bow_auc_train, label='Train AUC')\n",
    "\n",
    "plt.plot(lam, bow_auc_cv, label='CV AUC')\n",
    "plt.scatter(lam, bow_auc_cv, label='CV AUC')\n",
    "\n",
    "plt.legend()\n",
    "plt.xlabel(\"C: hyperparameter\")\n",
    "plt.ylabel(\"AUC\")\n",
    "plt.xscale('log')\n",
    "plt.title(\"ERROR PLOTS\")\n",
    "plt.show()"
   ]
  },
  {
   "cell_type": "markdown",
   "metadata": {},
   "source": [
    "\"Here we can observe that for our hyperparameter C best value is 0.1\""
   ]
  },
  {
   "cell_type": "markdown",
   "metadata": {},
   "source": [
    "Testing with test data"
   ]
  },
  {
   "cell_type": "code",
   "execution_count": 79,
   "metadata": {},
   "outputs": [
    {
     "data": {
      "image/png": "[encoded data removed]",
      "text/plain": [
       "<matplotlib.figure.Figure at 0x1cbc39ba9b0>"
      ]
     },
     "metadata": {},
     "output_type": "display_data"
    }
   ],
   "source": [
    "# https://scikit-learn.org/stable/modules/generated/sklearn.metrics.roc_curve.html#sklearn.metrics.roc_curve\n",
    "\n",
    "clf = LogisticRegression()\n",
    "clf.fit(x_train_bow, y_train)\n",
    "\n",
    "train_fpr_bow, train_tpr_bow, thresholds_bow = roc_curve(y_train, clf.predict_proba(x_train_bow)[:,1])\n",
    "test_fpr_bow, test_tpr_bow, thresholds_bow = roc_curve(y_test, clf.predict_proba(x_test_bow)[:,1])\n",
    "\n",
    "plt.plot(train_fpr_bow, train_tpr_bow, label=\"train AUC =\"+str(auc(train_fpr_bow, train_tpr_bow)))\n",
    "plt.plot(test_fpr_bow, test_tpr_bow, label=\"test AUC =\"+str(auc(test_fpr_bow, test_tpr_bow)))\n",
    "plt.legend()\n",
    "plt.xlabel(\"C: hyperparameter\")\n",
    "plt.ylabel(\"AUC\")\n",
    "plt.title(\"ERROR PLOTS\")\n",
    "plt.show()"
   ]
  },
  {
   "cell_type": "markdown",
   "metadata": {
    "colab_type": "text",
    "id": "5h4NhywcLPo7"
   },
   "source": [
    "#### [5.1.1.1] Calculating sparsity on weight vector obtained using L1 regularization on BOW,<font color='red'> SET 1</font>"
   ]
  },
  {
   "cell_type": "markdown",
   "metadata": {},
   "source": [
    "#### Calculating Confusion Matrix"
   ]
  },
  {
   "cell_type": "code",
   "execution_count": 80,
   "metadata": {},
   "outputs": [
    {
     "name": "stdout",
     "output_type": "stream",
     "text": [
      "\n",
      "Accuracy  = 90.684338%\n",
      "\n",
      "precision = 91.714419%\n",
      "\n",
      "recall    = 97.733852%\n",
      "\n",
      "F1-Score  = 94.628506%\n"
     ]
    }
   ],
   "source": [
    "clf = LogisticRegression(C = optimal_a1 , penalty='l1')\n",
    "clf.fit(x_train_bow, y_train)\n",
    "\n",
    "pred = clf.predict(x_test_bow)\n",
    "\n",
    "acc_b = accuracy_score(y_test, pred) * 100\n",
    "pre_b = precision_score(y_test, pred) * 100\n",
    "rec_b = recall_score(y_test, pred) * 100\n",
    "f1_b  = f1_score(y_test, pred) * 100\n",
    "\n",
    "print('\\nAccuracy  = %f%%' % (acc_b))\n",
    "print('\\nprecision = %f%%' % (pre_b))\n",
    "print('\\nrecall    = %f%%' % (rec_b))\n",
    "print('\\nF1-Score  = %f%%' % (f1_b))"
   ]
  },
  {
   "cell_type": "code",
   "execution_count": 67,
   "metadata": {},
   "outputs": [
    {
     "data": {
      "image/png": "[encoded data removed]",
      "text/plain": [
       "<matplotlib.figure.Figure at 0x1bf08266048>"
      ]
     },
     "metadata": {},
     "output_type": "display_data"
    }
   ],
   "source": [
    "cm = confusion_matrix(y_test,pred)\n",
    "sns.heatmap(cm, annot=True,fmt='d')\n",
    "plt.ylabel('Predicted label')\n",
    "plt.xlabel('True label')\n",
    "plt.title('Confusion Matrix for BoW')\n",
    "plt.show()"
   ]
  },
  {
   "cell_type": "code",
   "execution_count": null,
   "metadata": {},
   "outputs": [],
   "source": []
  },
  {
   "cell_type": "code",
   "execution_count": 68,
   "metadata": {},
   "outputs": [],
   "source": [
    "clf = LogisticRegression(C=100, penalty='l1')\n",
    "clf.fit(x_train_bow, y_train)\n",
    "\n",
    "pred = clf.predict(x_test_bow)\n",
    "ac1 = accuracy_score(y_test, pred) * 100\n",
    "er1 = np.around(100 - ac1, decimals = 2)\n",
    "\n",
    "w = clf.coef_\n",
    "s1 = np.count_nonzero(w)\n",
    "\n",
    "#======================================================================\n",
    "\n",
    "clf = LogisticRegression(C=10, penalty='l1')\n",
    "clf.fit(x_train_bow, y_train)\n",
    "\n",
    "pred = clf.predict(x_test_bow)\n",
    "ac2 = accuracy_score(y_test, pred) * 100\n",
    "er2 = np.around(100 - ac2, decimals = 2)\n",
    "\n",
    "w = clf.coef_\n",
    "s2 = np.count_nonzero(w)\n",
    "\n",
    "#======================================================================\n",
    "\n",
    "clf = LogisticRegression(C=1, penalty='l1')\n",
    "clf.fit(x_train_bow, y_train)\n",
    "\n",
    "pred = clf.predict(x_test_bow)\n",
    "ac3 = accuracy_score(y_test, pred) * 100\n",
    "er3 = np.around(100 - ac3, decimals = 2)\n",
    "\n",
    "w = clf.coef_\n",
    "s3 = np.count_nonzero(w)\n",
    "\n",
    "#======================================================================\n",
    "\n",
    "clf = LogisticRegression(C=0.1, penalty='l1')\n",
    "clf.fit(x_train_bow, y_train)\n",
    "\n",
    "pred = clf.predict(x_test_bow)\n",
    "ac4 = accuracy_score(y_test, pred) * 100\n",
    "er4 = np.around(100 - ac4, decimals = 2)\n",
    "\n",
    "w = clf.coef_\n",
    "s4 = np.count_nonzero(w)\n",
    "\n",
    "#======================================================================\n",
    "\n",
    "clf = LogisticRegression(C=0.01, penalty='l1')\n",
    "clf.fit(x_train_bow, y_train)\n",
    "\n",
    "pred = clf.predict(x_test_bow)\n",
    "ac5 = accuracy_score(y_test, pred) * 100\n",
    "er5 = np.around(100 - ac5, decimals = 2)\n",
    "\n",
    "w = clf.coef_\n",
    "s5 = np.count_nonzero(w)\n",
    "\n",
    "#======================================================================"
   ]
  },
  {
   "cell_type": "code",
   "execution_count": 69,
   "metadata": {},
   "outputs": [
    {
     "name": "stdout",
     "output_type": "stream",
     "text": [
      "+------+----------------+----------+\n",
      "|  C   | Train_Error(%) | Sparsity |\n",
      "+------+----------------+----------+\n",
      "| 100  |     11.07      |   4966   |\n",
      "|  10  |     10.27      |   4702   |\n",
      "|  1   |      8.69      |   3107   |\n",
      "| 0.1  |      9.29      |   700    |\n",
      "| 0.01 |     13.71      |    93    |\n",
      "+------+----------------+----------+\n"
     ]
    }
   ],
   "source": [
    "x = PrettyTable()\n",
    "\n",
    "c = [100,10,1,0.1,0.01]\n",
    "\n",
    "x.field_names = ['C','Train_Error(%)','Sparsity']\n",
    "\n",
    "x.add_row([c[0],er1,s1])\n",
    "x.add_row([c[1],er2,s2])\n",
    "x.add_row([c[2],er3,s3])\n",
    "x.add_row([c[3],er4,s4])\n",
    "x.add_row([c[4],er5,s5])\n",
    "\n",
    "print(x)"
   ]
  },
  {
   "cell_type": "markdown",
   "metadata": {
    "colab_type": "text",
    "id": "aRHMa52qLPpA"
   },
   "source": [
    "### [5.1.2] Applying Logistic Regression with L2 regularization on BOW,<font color='red'> SET 1</font>"
   ]
  },
  {
   "cell_type": "code",
   "execution_count": 81,
   "metadata": {},
   "outputs": [
    {
     "name": "stdout",
     "output_type": "stream",
     "text": [
      "\n",
      "Accuracy = 91.432478%\n",
      "\n",
      "precision= 92.652114%\n",
      "\n",
      "recall   = 97.530306%\n",
      "\n",
      "F1-Score = 95.028647%\n"
     ]
    }
   ],
   "source": [
    "clf = LogisticRegression(C = optimal_a1)\n",
    "clf.fit(x_train_bow,y_train)\n",
    "\n",
    "pred = clf.predict(x_test_bow)\n",
    "\n",
    "acc_b2 = accuracy_score(y_test, pred) * 100\n",
    "pre_b2 = precision_score(y_test, pred) * 100\n",
    "rec_b2 = recall_score(y_test, pred) * 100\n",
    "f1_b2  = f1_score(y_test, pred) * 100\n",
    "\n",
    "print('\\nAccuracy = %f%%' % (acc_b2))\n",
    "print('\\nprecision= %f%%' % (pre_b2))\n",
    "print('\\nrecall   = %f%%' % (rec_b2))\n",
    "print('\\nF1-Score = %f%%' % (f1_b2))"
   ]
  },
  {
   "cell_type": "code",
   "execution_count": 72,
   "metadata": {},
   "outputs": [
    {
     "data": {
      "image/png": "[encoded data removed]",
      "text/plain": [
       "<matplotlib.figure.Figure at 0x1bf0c1017f0>"
      ]
     },
     "metadata": {},
     "output_type": "display_data"
    }
   ],
   "source": [
    "import seaborn as sns\n",
    "cm = confusion_matrix(y_test,pred)\n",
    "sns.heatmap(cm, annot=True,fmt='d')\n",
    "plt.title('Confusion Matrix')\n",
    "plt.show()"
   ]
  },
  {
   "cell_type": "markdown",
   "metadata": {
    "colab_type": "text",
    "id": "UaJkugTKLPpE"
   },
   "source": [
    "#### [5.1.2.1] Performing pertubation test (multicollinearity check) on BOW,<font color='red'> SET 1</font>"
   ]
  },
  {
   "cell_type": "code",
   "execution_count": 73,
   "metadata": {},
   "outputs": [
    {
     "name": "stdout",
     "output_type": "stream",
     "text": [
      "Accuracy on test set: 91.493%\n",
      "Non Zero weights: 5000\n"
     ]
    }
   ],
   "source": [
    "# from sklearn.linear_model import LogisticRegression\n",
    "\n",
    "clf = LogisticRegression(C= optimal_a1, penalty= 'l2')\n",
    "clf.fit(x_train_bow,y_train)\n",
    "y_pred = clf.predict(x_test_bow)\n",
    "print(\"Accuracy on test set: %0.3f%%\"%(accuracy_score(y_test, y_pred)*100))\n",
    "print(\"Non Zero weights:\",np.count_nonzero(clf.coef_))"
   ]
  },
  {
   "cell_type": "code",
   "execution_count": 74,
   "metadata": {},
   "outputs": [
    {
     "name": "stdout",
     "output_type": "stream",
     "text": [
      "[-0.11828416  0.14784608  0.07844733  0.2899714  -0.12574554 -0.06580674\n",
      "  0.08502243 -0.1820233  -0.02990117 -0.01156399  0.08286648  0.29266685\n",
      " -0.03601395  0.00134779 -0.00861052  0.30527248  0.12111194  0.05425803\n",
      " -0.06000727 -0.13465612 -0.19783663  0.09692817 -0.05466848 -0.01151854\n",
      "  0.1452461   0.15460764 -0.04499032 -0.0272331  -0.23572383  0.14167968\n",
      " -0.08776724  0.14026028 -0.12931243  0.26623561  0.09463407  0.13276691\n",
      "  0.62350468  0.40163391  0.110437    0.61814222 -0.1640716  -0.04199796\n",
      "  0.11461488  0.07611953  0.03151373 -0.31722006  0.2159016  -0.07740436\n",
      "  0.41345863 -0.05410631]\n"
     ]
    }
   ],
   "source": [
    "from scipy.sparse import find\n",
    "#Weights before adding random noise\n",
    "weights1 = find(clf.coef_[0])[2]\n",
    "print(weights1[:50])"
   ]
  },
  {
   "cell_type": "code",
   "execution_count": 75,
   "metadata": {},
   "outputs": [],
   "source": [
    "x_train_bow_new = x_train_bow\n",
    "#Random noise\n",
    "epsilon = np.random.uniform(low=-0.0001, high=0.0001, size=(find(x_train_bow_new)[0].size,))\n",
    "\n",
    "#Getting the postions(row and column) and value of non-zero datapoints \n",
    "a,b,c = find(x_train_bow_new)\n",
    "\n",
    "#Introducing random noise to non-zero datapoints\n",
    "x_train_bow_new[a,b] = epsilon + x_train_bow_new[a,b] "
   ]
  },
  {
   "cell_type": "code",
   "execution_count": 76,
   "metadata": {},
   "outputs": [
    {
     "name": "stdout",
     "output_type": "stream",
     "text": [
      "Accuracy on test set: 91.091%\n",
      "Non Zero weights: 5000\n"
     ]
    }
   ],
   "source": [
    "#Training on train data having random noise\n",
    "# from sklearn.linear_model import LogisticRegression\n",
    "\n",
    "clf = LogisticRegression(C= optimal_a1, penalty= 'l2')\n",
    "clf.fit(x_train_bow_new, y_train)\n",
    "y_pred = clf.predict(x_test_bow)\n",
    "print(\"Accuracy on test set: %0.3f%%\"%(accuracy_score(y_test, y_pred)*100))\n",
    "print(\"Non Zero weights:\",np.count_nonzero(clf.coef_))"
   ]
  },
  {
   "cell_type": "code",
   "execution_count": 77,
   "metadata": {},
   "outputs": [
    {
     "name": "stdout",
     "output_type": "stream",
     "text": [
      "[ 0.08638771  0.19871468  0.08928028  0.34156782 -0.10146011 -0.02845346\n",
      " -0.0086347  -0.19486528  0.09572047 -0.07636405  0.05525308  0.21327691\n",
      "  0.04630791 -0.00578565 -0.13085844  0.29748709  0.0240218   0.00803406\n",
      "  0.00335476 -0.15299587 -0.12499382  0.14523545  0.0106188  -0.19629824\n",
      "  0.13226826  0.06888225  0.06502459 -0.12984293 -0.1148442   0.09788302\n",
      " -0.40338227  0.06874388 -0.08917456  0.37464932  0.08582865  0.09176393\n",
      "  0.5867344   0.40284308  0.07626824  0.56084165 -0.04817533  0.02209232\n",
      "  0.16642448  0.03925806  0.06757161 -0.16457494  0.24596967 -0.23649219\n",
      "  0.28331048 -0.07432764]\n"
     ]
    }
   ],
   "source": [
    "from scipy.sparse import find\n",
    "#Weights after adding random noise\n",
    "weights2 = find(clf.coef_[0])[2]\n",
    "print(weights2[:50])"
   ]
  },
  {
   "cell_type": "code",
   "execution_count": 78,
   "metadata": {},
   "outputs": [
    {
     "name": "stdout",
     "output_type": "stream",
     "text": [
      "5000\n"
     ]
    }
   ],
   "source": [
    "print(weights2.size)"
   ]
  },
  {
   "cell_type": "code",
   "execution_count": 79,
   "metadata": {},
   "outputs": [],
   "source": [
    "weights_diff = (abs(weights1 - weights2)/weights1) * 100"
   ]
  },
  {
   "cell_type": "code",
   "execution_count": 80,
   "metadata": {},
   "outputs": [
    {
     "name": "stdout",
     "output_type": "stream",
     "text": [
      "1922\n"
     ]
    }
   ],
   "source": [
    "print(weights_diff[np.where(weights_diff > 30)].size)"
   ]
  },
  {
   "cell_type": "markdown",
   "metadata": {
    "colab_type": "text",
    "id": "eB1rF0BQLPpG"
   },
   "source": [
    "### [5.1.3] Feature Importance on BOW,<font color='red'> SET 1</font>"
   ]
  },
  {
   "cell_type": "markdown",
   "metadata": {},
   "source": [
    "Printing Most informative features."
   ]
  },
  {
   "cell_type": "code",
   "execution_count": 83,
   "metadata": {},
   "outputs": [
    {
     "name": "stdout",
     "output_type": "stream",
     "text": [
      "\t\tNegative\t\t\t\t\tPositive\n",
      "_____________________________________________________________________________________________\n",
      "\t-1.5615\tworst          \t\t\t\t1.2520\tdelicious      \n",
      "\t-1.5389\tdisappointing  \t\t\t\t1.2110\tperfect        \n",
      "\t-1.5187\tterrible       \t\t\t\t1.1229\tgreat          \n",
      "\t-1.3937\tawful          \t\t\t\t1.1224\texcellent      \n",
      "\t-1.3256\tdisappointed   \t\t\t\t1.0423\tamazing        \n",
      "\t-1.3158\tdisappointment \t\t\t\t1.0195\tnice           \n",
      "\t-1.2438\thorrible       \t\t\t\t0.9989\tloves          \n",
      "\t-1.2159\tthrew          \t\t\t\t0.9902\tbest           \n",
      "\t-1.1506\twaste          \t\t\t\t0.9741\twonderful      \n",
      "\t-1.1315\trip            \t\t\t\t0.9671\thighly         \n"
     ]
    }
   ],
   "source": [
    "def show_most_informative_features(vectorizer, clf, n=10):\n",
    "    feature_names = vectorizer.get_feature_names()\n",
    "    coefs_with_fns = sorted(zip(clf.coef_[0], feature_names))\n",
    "    top = zip(coefs_with_fns[:n], coefs_with_fns[:-(n + 1):-1])\n",
    "    print(\"\\t\\tNegative\\t\\t\\t\\t\\tPositive\")\n",
    "    print(\"_____________________________________________________________________________________________\")\n",
    "    for (coef_1, fn_1), (coef_2, fn_2) in top:\n",
    "        print(\"\\t%.4f\\t%-15s\\t\\t\\t\\t%.4f\\t%-15s\" % (coef_1, fn_1, coef_2, fn_2))\n",
    "        \n",
    "show_most_informative_features(count_vect,clf)\n",
    "#Code Reference:https://stackoverflow.com/questions/11116697/how-to-get-most-informative-features-for-scikit-learn-classifiers"
   ]
  },
  {
   "cell_type": "markdown",
   "metadata": {
    "colab_type": "text",
    "id": "nKn3VXcZLPpN"
   },
   "source": [
    "## [5.2] Logistic Regression on TFIDF,<font color='red'> SET 2</font>"
   ]
  },
  {
   "cell_type": "markdown",
   "metadata": {
    "colab_type": "text",
    "id": "naTBSzm6LPpN"
   },
   "source": [
    "### [5.2.1] Applying Logistic Regression with L1 regularization on TFIDF,<font color='red'> SET 2</font>"
   ]
  },
  {
   "cell_type": "markdown",
   "metadata": {},
   "source": [
    "#### Hyperparameter tuning using GridSearchCV"
   ]
  },
  {
   "cell_type": "code",
   "execution_count": 82,
   "metadata": {},
   "outputs": [
    {
     "name": "stdout",
     "output_type": "stream",
     "text": [
      "best C =  {'C': 1}\n",
      "Accuracy on train data =  94.79363113403443\n"
     ]
    }
   ],
   "source": [
    "lam = [0.001,0.01,0.1,1,10,100]\n",
    "clf = LogisticRegression()\n",
    "param_grid = {'C':lam}\n",
    "\n",
    "grid = GridSearchCV(estimator = clf,param_grid=param_grid ,cv = 5,n_jobs = -1, scoring='roc_auc', return_train_score=True)\n",
    "grid.fit(x_train_tf, y_train)\n",
    "\n",
    "print(\"best C = \", grid.best_params_)\n",
    "print(\"Accuracy on train data = \", grid.best_score_*100)\n",
    "a = grid.best_params_\n",
    "optimal_a1 = a.get('C')"
   ]
  },
  {
   "cell_type": "code",
   "execution_count": 83,
   "metadata": {},
   "outputs": [
    {
     "data": {
      "image/png": "[encoded data removed]",
      "text/plain": [
       "<matplotlib.figure.Figure at 0x1cbc36fa7f0>"
      ]
     },
     "metadata": {},
     "output_type": "display_data"
    }
   ],
   "source": [
    "# https://scikit-learn.org/stable/modules/generated/sklearn.model_selection.GridSearchCV.html\n",
    "\n",
    "\n",
    "tf_auc_train = grid.cv_results_['mean_train_score']\n",
    "tf_auc_cv    = grid.cv_results_['mean_test_score'] \n",
    "\n",
    "\n",
    "plt.plot(lam, tf_auc_train, label='Train AUC')\n",
    "plt.scatter(lam, tf_auc_train, label='Train AUC')\n",
    "\n",
    "plt.plot(lam, tf_auc_cv, label='CV AUC')\n",
    "plt.scatter(lam, tf_auc_cv, label='CV AUC')\n",
    "\n",
    "plt.legend()\n",
    "plt.xlabel(\"lam: hyperparameter\")\n",
    "plt.ylabel(\"AUC\")\n",
    "plt.title(\"ERROR PLOTS\")\n",
    "plt.xscale('log')\n",
    "plt.show()"
   ]
  },
  {
   "cell_type": "markdown",
   "metadata": {},
   "source": [
    "Testing with test data"
   ]
  },
  {
   "cell_type": "code",
   "execution_count": 84,
   "metadata": {},
   "outputs": [
    {
     "data": {
      "image/png": "[encoded data removed]",
      "text/plain": [
       "<matplotlib.figure.Figure at 0x1cbc38ccbe0>"
      ]
     },
     "metadata": {},
     "output_type": "display_data"
    }
   ],
   "source": [
    "# https://scikit-learn.org/stable/modules/generated/sklearn.metrics.roc_curve.html#sklearn.metrics.roc_curve\n",
    "\n",
    "clf = LogisticRegression(penalty='l1')\n",
    "clf.fit(x_train_tf, y_train)\n",
    "\n",
    "train_fpr_tfidf, train_tpr_tfidf, thresholds_tfidf = roc_curve(y_train, clf.predict_proba(x_train_tf)[:,1])\n",
    "test_fpr_tfidf, test_tpr_tfidf, thresholds_tfidf = roc_curve(y_test, clf.predict_proba(x_test_tf)[:,1])\n",
    "\n",
    "plt.plot(train_fpr_tfidf, train_tpr_tfidf, label=\"train AUC =\"+str(auc(train_fpr_tfidf, train_tpr_tfidf)))\n",
    "plt.plot(test_fpr_tfidf, test_tpr_tfidf, label=\"test AUC =\"+str(auc(test_fpr_tfidf, test_tpr_tfidf)))\n",
    "plt.legend()\n",
    "plt.xlabel(\"C: hyperparameter\")\n",
    "plt.ylabel(\"AUC\")\n",
    "plt.title(\"ERROR PLOTS\")\n",
    "plt.show()"
   ]
  },
  {
   "cell_type": "markdown",
   "metadata": {},
   "source": [
    "#### Calculating Confusin Matrix"
   ]
  },
  {
   "cell_type": "code",
   "execution_count": 85,
   "metadata": {},
   "outputs": [
    {
     "name": "stdout",
     "output_type": "stream",
     "text": [
      "\n",
      "Accuracy = 91.652742%\n",
      "\n",
      "precision= 92.905784%\n",
      "\n",
      "recall   = 97.503166%\n",
      "\n",
      "F1-Score = 95.148974%\n"
     ]
    }
   ],
   "source": [
    "clf = LogisticRegression(C = optimal_a1 , penalty='l1')\n",
    "\n",
    "clf.fit(x_train_tf,y_train)\n",
    "\n",
    "pred = clf.predict(x_test_tf)\n",
    "\n",
    "acc_tf1 = accuracy_score(y_test, pred) * 100\n",
    "pre_tf1 = precision_score(y_test, pred) * 100\n",
    "rec_tf1 = recall_score(y_test, pred) * 100\n",
    "f1_tf1  = f1_score(y_test, pred) * 100\n",
    "\n",
    "print('\\nAccuracy = %f%%' % (acc_tf1))\n",
    "print('\\nprecision= %f%%' % (pre_tf1))\n",
    "print('\\nrecall   = %f%%' % (rec_tf1))\n",
    "print('\\nF1-Score = %f%%' % (f1_tf1))"
   ]
  },
  {
   "cell_type": "code",
   "execution_count": 93,
   "metadata": {},
   "outputs": [
    {
     "data": {
      "image/png": "[encoded data removed]",
      "text/plain": [
       "<matplotlib.figure.Figure at 0x1bf23206e48>"
      ]
     },
     "metadata": {},
     "output_type": "display_data"
    }
   ],
   "source": [
    "cm = confusion_matrix(y_test,pred)\n",
    "sns.heatmap(cm, annot=True,fmt='d')\n",
    "plt.title('Confusion Matrix')\n",
    "plt.show()"
   ]
  },
  {
   "cell_type": "markdown",
   "metadata": {
    "colab_type": "text",
    "id": "NdFShHQJLPpV"
   },
   "source": [
    "### [5.2.2] Applying Logistic Regression with L2 regularization on TFIDF,<font color='red'> SET 2</font>"
   ]
  },
  {
   "cell_type": "code",
   "execution_count": 86,
   "metadata": {},
   "outputs": [
    {
     "name": "stdout",
     "output_type": "stream",
     "text": [
      "\n",
      "Accuracy = 91.493240%\n",
      "\n",
      "precision= 92.086087%\n",
      "\n",
      "recall   = 98.317351%\n",
      "\n",
      "F1-Score = 95.099755%\n"
     ]
    }
   ],
   "source": [
    "clf = LogisticRegression(C = optimal_a1)\n",
    "clf.fit(x_train_tf,y_train)\n",
    "pred = clf.predict(x_test_tf)\n",
    "\n",
    "acc_tf2 = accuracy_score(y_test, pred) * 100\n",
    "pre_tf2 = precision_score(y_test, pred) * 100\n",
    "rec_tf2 = recall_score(y_test, pred) * 100\n",
    "f1_tf2  = f1_score(y_test, pred) * 100\n",
    "\n",
    "print('\\nAccuracy = %f%%' % (acc_tf2))\n",
    "print('\\nprecision= %f%%' % (pre_tf2))\n",
    "print('\\nrecall   = %f%%' % (rec_tf2))\n",
    "print('\\nF1-Score = %f%%' % (f1_tf2))"
   ]
  },
  {
   "cell_type": "code",
   "execution_count": 98,
   "metadata": {},
   "outputs": [
    {
     "data": {
      "image/png": "[encoded data removed]",
      "text/plain": [
       "<matplotlib.figure.Figure at 0x1bf28ab0588>"
      ]
     },
     "metadata": {},
     "output_type": "display_data"
    }
   ],
   "source": [
    "cm = confusion_matrix(y_test,pred)\n",
    "sns.heatmap(cm, annot=True,fmt='d')\n",
    "plt.title('Confusion Matrix')\n",
    "plt.show()"
   ]
  },
  {
   "cell_type": "markdown",
   "metadata": {
    "colab_type": "text",
    "id": "xeeJ8eVvLPpX"
   },
   "source": [
    "### [5.2.3] Feature Importance on TFIDF,<font color='red'> SET 2</font>"
   ]
  },
  {
   "cell_type": "markdown",
   "metadata": {
    "colab_type": "text",
    "id": "Cj9XEmqQLPpY"
   },
   "source": [
    "#### [5.2.3.1] Top 10 important features of positive class from<font color='red'> SET 2</font>"
   ]
  },
  {
   "cell_type": "code",
   "execution_count": 100,
   "metadata": {},
   "outputs": [
    {
     "name": "stdout",
     "output_type": "stream",
     "text": [
      "\t\tNegative\t\t\t\t\tPositive\n",
      "_____________________________________________________________________________________________\n",
      "\t-6.8340\tnot            \t\t\t\t9.8811\tgreat          \n",
      "\t-5.9786\tworst          \t\t\t\t7.4512\tbest           \n",
      "\t-5.9097\tdisappointed   \t\t\t\t6.8551\tdelicious      \n",
      "\t-5.5184\tdisappointing  \t\t\t\t6.0728\tperfect        \n",
      "\t-5.2156\tterrible       \t\t\t\t5.4930\tgood           \n",
      "\t-5.1953\tawful          \t\t\t\t5.4258\texcellent      \n",
      "\t-4.9687\tdisappointment \t\t\t\t5.4215\twonderful      \n",
      "\t-4.9091\thorrible       \t\t\t\t5.3577\tlove           \n",
      "\t-4.4228\tunfortunately  \t\t\t\t5.2965\tloves          \n",
      "\t-4.1887\tthrew          \t\t\t\t5.1406\tnice           \n"
     ]
    }
   ],
   "source": [
    "def show_most_informative_features(vectorizer, clf, n=10):\n",
    "    feature_names = vectorizer.get_feature_names()\n",
    "    coefs_with_fns = sorted(zip(clf.coef_[0], feature_names))\n",
    "    top = zip(coefs_with_fns[:n], coefs_with_fns[:-(n + 1):-1])\n",
    "    print(\"\\t\\tNegative\\t\\t\\t\\t\\tPositive\")\n",
    "    print(\"_____________________________________________________________________________________________\")\n",
    "    for (coef_1, fn_1), (coef_2, fn_2) in top:\n",
    "        print(\"\\t%.4f\\t%-15s\\t\\t\\t\\t%.4f\\t%-15s\" % (coef_1, fn_1, coef_2, fn_2))\n",
    "        \n",
    "show_most_informative_features(count_vect,clf)\n",
    "#Code Reference:https://stackoverflow.com/questions/11116697/how-to-get-most-informative-features-for-scikit-learn-classifiers"
   ]
  },
  {
   "cell_type": "markdown",
   "metadata": {
    "colab_type": "text",
    "id": "sqYadGOgLPpi"
   },
   "source": [
    "## [5.3] Logistic Regression on AVG W2V,<font color='red'> SET 3</font>"
   ]
  },
  {
   "cell_type": "markdown",
   "metadata": {
    "colab_type": "text",
    "id": "kByBCEA1LPpj"
   },
   "source": [
    "### [5.3.1] Applying Logistic Regression with L1 regularization on AVG W2V<font color='red'> SET 3</font>"
   ]
  },
  {
   "cell_type": "markdown",
   "metadata": {},
   "source": [
    "Hyperparameter tuning using GridSearchCV"
   ]
  },
  {
   "cell_type": "code",
   "execution_count": 69,
   "metadata": {},
   "outputs": [
    {
     "name": "stdout",
     "output_type": "stream",
     "text": [
      "best C =  {'C': 0.001}\n",
      "Accuracy on train data =  76.39517856084187\n"
     ]
    }
   ],
   "source": [
    "lam = [0.0001, 0.001,0.01,0.1,1,10,100,100]\n",
    "clf = LogisticRegression()\n",
    "param_grid = {'C':lam}\n",
    "\n",
    "grid = GridSearchCV(estimator = clf,param_grid=param_grid ,cv = 5,n_jobs = -1, scoring='roc_auc', return_train_score=True)\n",
    "grid.fit(sent_vectors_train, y_train)\n",
    "\n",
    "print(\"best C = \", grid.best_params_)\n",
    "print(\"Accuracy on train data = \", grid.best_score_*100)\n",
    "a = grid.best_params_\n",
    "optimal_a1 = a.get('C')"
   ]
  },
  {
   "cell_type": "code",
   "execution_count": 70,
   "metadata": {},
   "outputs": [
    {
     "data": {
      "image/png": "[encoded data removed]",
      "text/plain": [
       "<matplotlib.figure.Figure at 0x1cbbb35b668>"
      ]
     },
     "metadata": {},
     "output_type": "display_data"
    }
   ],
   "source": [
    "# https://scikit-learn.org/stable/modules/generated/sklearn.model_selection.GridSearchCV.html\n",
    "\n",
    "aw2v_auc_train = grid.cv_results_['mean_train_score']\n",
    "aw2v_auc_cv    = grid.cv_results_['mean_test_score'] \n",
    "\n",
    "\n",
    "plt.plot(lam, aw2v_auc_train, label='Train AUC')\n",
    "plt.scatter(lam, aw2v_auc_train, label='Train AUC')\n",
    "\n",
    "plt.plot(lam, aw2v_auc_cv, label='CV AUC')\n",
    "plt.scatter(lam, aw2v_auc_cv, label='CV AUC')\n",
    "\n",
    "plt.legend()\n",
    "plt.xlabel(\"lam: hyperparameter\")\n",
    "plt.ylabel(\"AUC\")\n",
    "plt.title(\"ERROR PLOTS\")\n",
    "plt.xscale('log')\n",
    "plt.show()"
   ]
  },
  {
   "cell_type": "markdown",
   "metadata": {},
   "source": [
    "Testing with test data"
   ]
  },
  {
   "cell_type": "code",
   "execution_count": 71,
   "metadata": {},
   "outputs": [
    {
     "data": {
      "image/png": "[encoded data removed]",
      "text/plain": [
       "<matplotlib.figure.Figure at 0x1cbd3635240>"
      ]
     },
     "metadata": {},
     "output_type": "display_data"
    }
   ],
   "source": [
    "# https://scikit-learn.org/stable/modules/generated/sklearn.metrics.roc_curve.html#sklearn.metrics.roc_curve\n",
    "\n",
    "clf = LogisticRegression()\n",
    "clf.fit(sent_vectors_train, y_train)\n",
    "\n",
    "train_fpr_aw2v, train_tpr_aw2v, thresholds_aw2v = roc_curve(y_train, clf.predict_proba(sent_vectors_train)[:,1])\n",
    "test_fpr_aw2v, test_tpr_aw2v, thresholds_aw2v = roc_curve(y_test, clf.predict_proba(sent_vectors_test)[:,1])\n",
    "\n",
    "plt.plot(train_fpr_aw2v, train_tpr_aw2v, label=\"train AUC =\"+str(auc(train_fpr_aw2v, train_tpr_aw2v)))\n",
    "plt.plot(test_fpr_aw2v, test_tpr_aw2v, label=\"test AUC =\"+str(auc(test_fpr_aw2v, test_tpr_aw2v)))\n",
    "plt.legend()\n",
    "plt.xlabel(\"C: hyperparameter\")\n",
    "plt.ylabel(\"AUC\")\n",
    "plt.title(\"ERROR PLOTS\")\n",
    "plt.show()"
   ]
  },
  {
   "cell_type": "markdown",
   "metadata": {},
   "source": [
    "L1 regularisation"
   ]
  },
  {
   "cell_type": "markdown",
   "metadata": {},
   "source": [
    "Note: Whenever I add \"class_weight = 'balanced'\" in logistic regression accuracy, precision, recall and f1 score drops drastically. But if I remove this then each metric scores improve alot."
   ]
  },
  {
   "cell_type": "code",
   "execution_count": 73,
   "metadata": {},
   "outputs": [
    {
     "name": "stdout",
     "output_type": "stream",
     "text": [
      "\n",
      "Accuracy = 83.958681%\n",
      "\n",
      "precision= 83.958681%\n",
      "\n",
      "recall   = 100.000000%\n",
      "\n",
      "F1-Score = 91.279934%\n"
     ]
    }
   ],
   "source": [
    "################ without class_weight='balanced' ##########\n",
    "\n",
    "clf = LogisticRegression(C = optimal_a1,penalty='l1')\n",
    "clf.fit(sent_vectors_train,y_train)\n",
    "pred = clf.predict(sent_vectors_test)\n",
    "\n",
    "acc_aw2v = accuracy_score(y_test, pred) * 100\n",
    "pre_aw2v = precision_score(y_test, pred) * 100\n",
    "rec_aw2v = recall_score(y_test, pred) * 100\n",
    "f1_aw2v  = f1_score(y_test, pred) * 100\n",
    "\n",
    "print('\\nAccuracy = %f%%' % (acc_aw2v))\n",
    "print('\\nprecision= %f%%' % (pre_aw2v))\n",
    "print('\\nrecall   = %f%%' % (rec_aw2v))\n",
    "print('\\nF1-Score = %f%%' % (f1_aw2v))"
   ]
  },
  {
   "cell_type": "code",
   "execution_count": 72,
   "metadata": {},
   "outputs": [
    {
     "name": "stdout",
     "output_type": "stream",
     "text": [
      "\n",
      "Accuracy = 16.041319%\n",
      "\n",
      "precision= 0.000000%\n",
      "\n",
      "recall   = 0.000000%\n",
      "\n",
      "F1-Score = 0.000000%\n"
     ]
    }
   ],
   "source": [
    "################## with class_weight='balanced' ###############\n",
    "\n",
    "clf = LogisticRegression(C = optimal_a1,penalty='l1', class_weight='balanced')\n",
    "clf.fit(sent_vectors_train,y_train)\n",
    "pred = clf.predict(sent_vectors_test)\n",
    "\n",
    "acc_aw2v = accuracy_score(y_test, pred) * 100\n",
    "pre_aw2v = precision_score(y_test, pred) * 100\n",
    "rec_aw2v = recall_score(y_test, pred) * 100\n",
    "f1_aw2v  = f1_score(y_test, pred) * 100\n",
    "\n",
    "print('\\nAccuracy = %f%%' % (acc_aw2v))\n",
    "print('\\nprecision= %f%%' % (pre_aw2v))\n",
    "print('\\nrecall   = %f%%' % (rec_aw2v))\n",
    "print('\\nF1-Score = %f%%' % (f1_aw2v))"
   ]
  },
  {
   "cell_type": "code",
   "execution_count": 52,
   "metadata": {},
   "outputs": [
    {
     "data": {
      "image/png": "[encoded data removed]",
      "text/plain": [
       "<matplotlib.figure.Figure at 0x1cbbd5329e8>"
      ]
     },
     "metadata": {},
     "output_type": "display_data"
    }
   ],
   "source": [
    "cm = confusion_matrix(y_test,pred)\n",
    "sns.heatmap(cm, annot=True,fmt='d')\n",
    "plt.title('Confusion Matrix')\n",
    "plt.show()"
   ]
  },
  {
   "cell_type": "markdown",
   "metadata": {},
   "source": [
    "Testing with test data"
   ]
  },
  {
   "cell_type": "markdown",
   "metadata": {
    "colab_type": "text",
    "id": "O_8Gu2SfLPpn"
   },
   "source": [
    "### [5.3.2] Applying Logistic Regression with L2 regularization on AVG W2V,<font color='red'> SET 3</font>"
   ]
  },
  {
   "cell_type": "code",
   "execution_count": 48,
   "metadata": {},
   "outputs": [
    {
     "name": "stdout",
     "output_type": "stream",
     "text": [
      "\n",
      "Accuracy = 69.178186%\n",
      "\n",
      "precision= 91.337745%\n",
      "\n",
      "recall   = 69.920391%\n",
      "\n",
      "F1-Score = 79.206805%\n"
     ]
    }
   ],
   "source": [
    "clf = LogisticRegression(C = optimal_a1, class_weight = 'balanced')\n",
    "clf.fit(sent_vectors_train,y_train)\n",
    "pred = clf.predict(sent_vectors_test)\n",
    "\n",
    "acc_aw2v2 = accuracy_score(y_test, pred) * 100\n",
    "pre_aw2v2 = precision_score(y_test, pred) * 100\n",
    "rec_aw2v2 = recall_score(y_test, pred) * 100\n",
    "f1_aw2v2  = f1_score(y_test, pred) * 100\n",
    "\n",
    "print('\\nAccuracy = %f%%' % (acc_aw2v2))\n",
    "print('\\nprecision= %f%%' % (pre_aw2v2))\n",
    "print('\\nrecall   = %f%%' % (rec_aw2v2))\n",
    "print('\\nF1-Score = %f%%' % (f1_aw2v2))"
   ]
  },
  {
   "cell_type": "code",
   "execution_count": 66,
   "metadata": {},
   "outputs": [
    {
     "name": "stdout",
     "output_type": "stream",
     "text": [
      "\n",
      "Accuracy = 84.254899%\n",
      "\n",
      "precision= 84.338916%\n",
      "\n",
      "recall   = 99.773838%\n",
      "\n",
      "F1-Score = 91.409390%\n"
     ]
    }
   ],
   "source": [
    "clf = LogisticRegression(C = optimal_a1)\n",
    "clf.fit(sent_vectors_train,y_train)\n",
    "pred = clf.predict(sent_vectors_test)\n",
    "\n",
    "acc_aw2v2 = accuracy_score(y_test, pred) * 100\n",
    "pre_aw2v2 = precision_score(y_test, pred) * 100\n",
    "rec_aw2v2 = recall_score(y_test, pred) * 100\n",
    "f1_aw2v2  = f1_score(y_test, pred) * 100\n",
    "\n",
    "print('\\nAccuracy = %f%%' % (acc_aw2v2))\n",
    "print('\\nprecision= %f%%' % (pre_aw2v2))\n",
    "print('\\nrecall   = %f%%' % (rec_aw2v2))\n",
    "print('\\nF1-Score = %f%%' % (f1_aw2v2))"
   ]
  },
  {
   "cell_type": "code",
   "execution_count": 67,
   "metadata": {},
   "outputs": [
    {
     "data": {
      "image/png": "[encoded data removed]",
      "text/plain": [
       "<matplotlib.figure.Figure at 0x1cbbd9a00f0>"
      ]
     },
     "metadata": {},
     "output_type": "display_data"
    }
   ],
   "source": [
    "cm = confusion_matrix(y_test,pred)\n",
    "sns.heatmap(cm, annot=True,fmt='d')\n",
    "plt.title('Confusion Matrix')\n",
    "plt.show()"
   ]
  },
  {
   "cell_type": "markdown",
   "metadata": {
    "colab_type": "text",
    "id": "pdXTwVIPLPpp"
   },
   "source": [
    "## [5.4] Logistic Regression on TFIDF W2V,<font color='red'> SET 4</font>"
   ]
  },
  {
   "cell_type": "markdown",
   "metadata": {
    "colab_type": "text",
    "id": "WP9NjwNSLPpp"
   },
   "source": [
    "### [5.4.1] Applying Logistic Regression with L1 regularization on TFIDF W2V,<font color='red'> SET 4</font>"
   ]
  },
  {
   "cell_type": "code",
   "execution_count": 55,
   "metadata": {},
   "outputs": [
    {
     "name": "stdout",
     "output_type": "stream",
     "text": [
      "best C =  {'C': 1000}\n",
      "Accuracy on train data =  73.68707660880133\n"
     ]
    }
   ],
   "source": [
    "lam = [0.001,0.01,0.1,1,10,100, 1000]\n",
    "clf = LogisticRegression()\n",
    "param_grid = {'C':lam}\n",
    "\n",
    "grid = GridSearchCV(estimator = clf,param_grid=param_grid ,cv = 5,n_jobs = -1, scoring='roc_auc', return_train_score=True)\n",
    "grid.fit(tfidf_sent_vectors_train, y_train)\n",
    "\n",
    "print(\"best C = \", grid.best_params_)\n",
    "print(\"Accuracy on train data = \", grid.best_score_*100)\n",
    "a = grid.best_params_\n",
    "optimal_a1 = a.get('C')"
   ]
  },
  {
   "cell_type": "code",
   "execution_count": 56,
   "metadata": {},
   "outputs": [
    {
     "data": {
      "image/png": "[encoded data removed]",
      "text/plain": [
       "<matplotlib.figure.Figure at 0x1cbc3cc0b38>"
      ]
     },
     "metadata": {},
     "output_type": "display_data"
    }
   ],
   "source": [
    "# https://scikit-learn.org/stable/modules/generated/sklearn.model_selection.GridSearchCV.html\n",
    "\n",
    "tfw2v_auc_train = grid.cv_results_['mean_train_score']\n",
    "tfw2v_auc_cv    = grid.cv_results_['mean_test_score'] \n",
    "\n",
    "plt.plot(lam, tfw2v_auc_train, label='Train AUC')\n",
    "plt.scatter(lam, tfw2v_auc_train, label='Train AUC')\n",
    "\n",
    "plt.plot(lam, tfw2v_auc_cv, label='CV AUC')\n",
    "plt.scatter(lam, tfw2v_auc_cv, label='CV AUC')\n",
    "plt.legend()\n",
    "plt.xlabel(\"lam: hyperparameter\")\n",
    "plt.ylabel(\"AUC\")\n",
    "plt.title(\"ERROR PLOTS\")\n",
    "plt.xscale('log')\n",
    "plt.show()"
   ]
  },
  {
   "cell_type": "markdown",
   "metadata": {},
   "source": [
    "Testing with test data"
   ]
  },
  {
   "cell_type": "code",
   "execution_count": 57,
   "metadata": {},
   "outputs": [
    {
     "data": {
      "image/png": "[encoded data removed]",
      "text/plain": [
       "<matplotlib.figure.Figure at 0x1cbd3513278>"
      ]
     },
     "metadata": {},
     "output_type": "display_data"
    }
   ],
   "source": [
    "clf = LogisticRegression()\n",
    "clf.fit(tfidf_sent_vectors_train, y_train)\n",
    "\n",
    "train_fpr_tfw2v, train_tpr_tfw2v, thresholds_tfw2v = roc_curve(y_train, clf.predict_proba(tfidf_sent_vectors_train)[:,1])\n",
    "test_fpr_tfw2v, test_tpr_tfw2v, thresholds_tfw2v = roc_curve(y_test, clf.predict_proba(tfidf_sent_vectors_test)[:,1])\n",
    "\n",
    "plt.plot(train_fpr_tfw2v, train_tpr_tfw2v, label=\"train AUC =\"+str(auc(train_fpr_tfw2v, train_tpr_tfw2v)))\n",
    "plt.plot(test_fpr_tfw2v, test_tpr_tfw2v, label=\"test AUC =\"+str(auc(test_fpr_tfw2v, test_tpr_tfw2v)))\n",
    "plt.legend()\n",
    "plt.xlabel(\"C: hyperparameter\")\n",
    "plt.ylabel(\"AUC\")\n",
    "plt.title(\"ERROR PLOTS\")\n",
    "plt.show()"
   ]
  },
  {
   "cell_type": "code",
   "execution_count": 60,
   "metadata": {},
   "outputs": [
    {
     "name": "stdout",
     "output_type": "stream",
     "text": [
      "\n",
      "Accuracy = 84.376424%\n",
      "\n",
      "precision= 85.152770%\n",
      "\n",
      "recall   = 98.579700%\n",
      "\n",
      "F1-Score = 91.375624%\n"
     ]
    }
   ],
   "source": [
    "clf = LogisticRegression(C = optimal_a1,penalty = 'l1') #,class_weight = 'balanced'\n",
    "clf.fit(tfidf_sent_vectors_train,y_train)\n",
    "pred = clf.predict(tfidf_sent_vectors_test)\n",
    "\n",
    "acc_tw2v = accuracy_score(y_test, pred) * 100\n",
    "pre_tw2v = precision_score(y_test, pred) * 100\n",
    "rec_tw2v = recall_score(y_test, pred) * 100\n",
    "f1_tw2v  = f1_score(y_test, pred) * 100\n",
    "\n",
    "print('\\nAccuracy = %f%%' % (acc_tw2v))\n",
    "print('\\nprecision= %f%%' % (pre_tw2v))\n",
    "print('\\nrecall   = %f%%' % (rec_tw2v))\n",
    "print('\\nF1-Score = %f%%' % (f1_tw2v))"
   ]
  },
  {
   "cell_type": "code",
   "execution_count": 59,
   "metadata": {},
   "outputs": [
    {
     "name": "stdout",
     "output_type": "stream",
     "text": [
      "\n",
      "Accuracy = 68.650311%\n",
      "\n",
      "precision= 91.698272%\n",
      "\n",
      "recall   = 68.898136%\n",
      "\n",
      "F1-Score = 78.679718%\n"
     ]
    }
   ],
   "source": [
    "clf = LogisticRegression(C = optimal_a1,penalty = 'l1',class_weight = 'balanced') #,class_weight = 'balanced'\n",
    "clf.fit(tfidf_sent_vectors_train,y_train)\n",
    "pred = clf.predict(tfidf_sent_vectors_test)\n",
    "\n",
    "acc_tw2v = accuracy_score(y_test, pred) * 100\n",
    "pre_tw2v = precision_score(y_test, pred) * 100\n",
    "rec_tw2v = recall_score(y_test, pred) * 100\n",
    "f1_tw2v  = f1_score(y_test, pred) * 100\n",
    "\n",
    "print('\\nAccuracy = %f%%' % (acc_tw2v))\n",
    "print('\\nprecision= %f%%' % (pre_tw2v))\n",
    "print('\\nrecall   = %f%%' % (rec_tw2v))\n",
    "print('\\nF1-Score = %f%%' % (f1_tw2v))"
   ]
  },
  {
   "cell_type": "code",
   "execution_count": 61,
   "metadata": {},
   "outputs": [
    {
     "data": {
      "image/png": "[encoded data removed]",
      "text/plain": [
       "<matplotlib.figure.Figure at 0x1cbd366bf98>"
      ]
     },
     "metadata": {},
     "output_type": "display_data"
    }
   ],
   "source": [
    "cm = confusion_matrix(y_test,pred)\n",
    "sns.heatmap(cm, annot=True,fmt='d')\n",
    "plt.title('Confusion Matrix')\n",
    "plt.show()"
   ]
  },
  {
   "cell_type": "markdown",
   "metadata": {
    "colab_type": "text",
    "id": "ynUK2tYDLPps"
   },
   "source": [
    "### [5.4.2] Applying Logistic Regression with L2 regularization on TFIDF W2V,<font color='red'> SET 4</font>"
   ]
  },
  {
   "cell_type": "code",
   "execution_count": 64,
   "metadata": {},
   "outputs": [
    {
     "name": "stdout",
     "output_type": "stream",
     "text": [
      "\n",
      "Accuracy = 84.102993%\n",
      "\n",
      "precision= 84.160567%\n",
      "\n",
      "recall   = 99.859779%\n",
      "\n",
      "F1-Score = 91.340505%\n"
     ]
    }
   ],
   "source": [
    "################ without class_weight\n",
    "################ gives better values for all the metrices \n",
    "\n",
    "clf = LogisticRegression(C = optimal_a1) #,class_weight = 'balanced'\n",
    "clf.fit(tfidf_sent_vectors_train,y_train)\n",
    "pred = clf.predict(tfidf_sent_vectors_test)\n",
    "\n",
    "acc_tw2v2 = accuracy_score(y_test, pred) * 100\n",
    "pre_tw2v2 = precision_score(y_test, pred) * 100\n",
    "rec_tw2v2 = recall_score(y_test, pred) * 100\n",
    "f1_tw2v2  = f1_score(y_test, pred) * 100\n",
    "\n",
    "print('\\nAccuracy = %f%%' % (acc_tw2v2))\n",
    "print('\\nprecision= %f%%' % (pre_tw2v2))\n",
    "print('\\nrecall   = %f%%' % (rec_tw2v2))\n",
    "print('\\nF1-Score = %f%%' % (f1_tw2v2))"
   ]
  },
  {
   "cell_type": "code",
   "execution_count": 63,
   "metadata": {},
   "outputs": [
    {
     "name": "stdout",
     "output_type": "stream",
     "text": [
      "\n",
      "Accuracy = 68.893362%\n",
      "\n",
      "precision= 91.575551%\n",
      "\n",
      "recall   = 69.327845%\n",
      "\n",
      "F1-Score = 78.913631%\n"
     ]
    }
   ],
   "source": [
    "############## including class_weight parameter decreases the performance of model \n",
    "############## as values of performance metrices decreases \n",
    "\n",
    "clf = LogisticRegression(C = optimal_a1,class_weight = 'balanced') \n",
    "clf.fit(tfidf_sent_vectors_train,y_train)\n",
    "pred = clf.predict(tfidf_sent_vectors_test)\n",
    "\n",
    "acc_tw2v2 = accuracy_score(y_test, pred) * 100\n",
    "pre_tw2v2 = precision_score(y_test, pred) * 100\n",
    "rec_tw2v2 = recall_score(y_test, pred) * 100\n",
    "f1_tw2v2  = f1_score(y_test, pred) * 100\n",
    "\n",
    "print('\\nAccuracy = %f%%' % (acc_tw2v2))\n",
    "print('\\nprecision= %f%%' % (pre_tw2v2))\n",
    "print('\\nrecall   = %f%%' % (rec_tw2v2))\n",
    "print('\\nF1-Score = %f%%' % (f1_tw2v2))"
   ]
  },
  {
   "cell_type": "code",
   "execution_count": 65,
   "metadata": {},
   "outputs": [
    {
     "data": {
      "image/png": "[encoded data removed]",
      "text/plain": [
       "<matplotlib.figure.Figure at 0x1cbc39dd390>"
      ]
     },
     "metadata": {},
     "output_type": "display_data"
    }
   ],
   "source": [
    "cm = confusion_matrix(y_test,pred)\n",
    "sns.heatmap(cm, annot=True,fmt='d')\n",
    "plt.title('Confusion Matrix')\n",
    "plt.show()"
   ]
  },
  {
   "cell_type": "markdown",
   "metadata": {
    "colab_type": "text",
    "id": "nOvsBNf2LPpv"
   },
   "source": [
    "# [6] Conclusions"
   ]
  },
  {
   "cell_type": "markdown",
   "metadata": {},
   "source": [
    "* Considered 100k datapoints for running this model.\n",
    "* One thing I noticed is that BoW and Tf_idf have better accuracies than average w2v and tf-idf w2v.\n",
    "* Done Perturbation test and found out that features are collinear.\n",
    "* Both BoW and TF-IDF models gave best accuracies compared to AVG W2V and TF-IDF W2V\n",
    "* After taking more features for w2v from 50 to 200, model's performance increases a bit, if we remove parameter(class_weight) then model seems to do better as model accuracy increases where as if we include this parameter, model's accuracy decreases drastically for average w2v."
   ]
  },
  {
   "cell_type": "code",
   "execution_count": 87,
   "metadata": {},
   "outputs": [
    {
     "name": "stdout",
     "output_type": "stream",
     "text": [
      "+-------+-----------+-------------+-------------------+-------------------+-------------------+-------------------+\n",
      "| Index |   Model   | Regularizer |     Accuracy%     |     Precision%    |      Recall%      |        F1%        |\n",
      "+-------+-----------+-------------+-------------------+-------------------+-------------------+-------------------+\n",
      "|   1   |    Bow    |      L1     | 90.68433844751634 | 91.71441911795917 | 97.73385199927628 | 94.62850636126744 |\n",
      "|   2   |    Bow    |      L2     | 91.43247759380222 | 92.65211412856652 | 97.53030577166638 | 95.02864698104894 |\n",
      "|   3   |   Tfidf   |      L1     | 91.65274191098284 |  92.9057839841393 |  97.5031662746517 | 95.14897373648202 |\n",
      "|   4   |   Tfidf   |      L2     | 91.49324016405895 |  92.0860871038807 | 98.31735118509137 | 95.09975498774939 |\n",
      "|   5   |  Avg W2v  |      L1     | 83.95868145222542 | 83.95868145222542 |       100.0       | 91.27993393889348 |\n",
      "|   6   |  Avg W2v  |      L2     | 84.25489898222695 | 84.33891565343733 | 99.77383752487788 | 91.40939041067507 |\n",
      "|   7   | Tfidf W2v |      L1     | 84.37642412274039 | 85.15277018051106 | 98.57969965623303 | 91.37562366357805 |\n",
      "|   8   | Tfidf W2v |      L2     | 84.10299255658515 | 84.16056724611161 | 99.85977926542428 | 91.34050475796442 |\n",
      "+-------+-----------+-------------+-------------------+-------------------+-------------------+-------------------+\n"
     ]
    }
   ],
   "source": [
    "# Please compare all your models using Prettytable library\n",
    "number= [1,2,3,4,5,6,7,8]\n",
    "name= [\"Bow\", \"Bow\", \"Tfidf\", \"Tfidf\", \"Avg W2v\", \"Avg W2v\", \"Tfidf W2v\", \"Tfidf W2v\"]\n",
    "reg= [\"L1\",\"L2\", \"L1\", \"L2\", \"L1\", \"L2\", \"L1\", \"L2\"]\n",
    "acc= [acc_b,acc_b2,acc_tf1,acc_tf2,acc_aw2v,acc_aw2v2,acc_tw2v,acc_tw2v2]\n",
    "pre= [pre_b,pre_b2,pre_tf1,pre_tf2,pre_aw2v,pre_aw2v2,pre_tw2v,pre_tw2v2]\n",
    "rec= [rec_b,rec_b2,rec_tf1,rec_tf2,rec_aw2v,rec_aw2v2,rec_tw2v,rec_tw2v2]\n",
    "f1=  [f1_b,f1_b2,f1_tf1,f1_tf2,f1_aw2v,f1_aw2v2,f1_tw2v,f1_tw2v2]\n",
    "\n",
    "\n",
    "#Initialize Prettytable\n",
    "ptable = PrettyTable()\n",
    "ptable.add_column(\"Index\", number)\n",
    "ptable.add_column(\"Model\", name)\n",
    "ptable.add_column(\"Regularizer\", reg)\n",
    "ptable.add_column(\"Accuracy%\", acc)\n",
    "ptable.add_column(\"Precision%\", pre)\n",
    "ptable.add_column(\"Recall%\", rec)\n",
    "ptable.add_column(\"F1%\", f1)\n",
    "\n",
    "print(ptable)"
   ]
  },
  {
   "cell_type": "code",
   "execution_count": null,
   "metadata": {},
   "outputs": [],
   "source": []
  }
 ],
 "metadata": {
  "colab": {
   "name": "05 Amazon Fine Food Reviews Analysis_Logistic Regression.ipynb",
   "provenance": [],
   "version": "0.3.2"
  },
  "kernelspec": {
   "display_name": "Python 3",
   "language": "python",
   "name": "python3"
  },
  "language_info": {
   "codemirror_mode": {
    "name": "ipython",
    "version": 3
   },
   "file_extension": ".py",
   "mimetype": "text/x-python",
   "name": "python",
   "nbconvert_exporter": "python",
   "pygments_lexer": "ipython3",
   "version": "3.6.4"
  }
 },
 "nbformat": 4,
 "nbformat_minor": 1
}
